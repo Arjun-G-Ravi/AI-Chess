{
 "cells": [
  {
   "cell_type": "code",
   "execution_count": 1,
   "metadata": {},
   "outputs": [],
   "source": [
    "import torch\n",
    "import torch.nn as nn\n",
    "import pandas as pd\n",
    "from chessEngine import ChessEncoder, MLPEngine\n",
    "import matplotlib.pyplot as plt"
   ]
  },
  {
   "cell_type": "markdown",
   "metadata": {},
   "source": [
    "# Preprocessing"
   ]
  },
  {
   "cell_type": "code",
   "execution_count": 2,
   "metadata": {},
   "outputs": [],
   "source": [
    "df = pd.read_csv('fen_analysis.csv')\n",
    "# df"
   ]
  },
  {
   "cell_type": "code",
   "execution_count": 3,
   "metadata": {},
   "outputs": [],
   "source": [
    "encoder_object = ChessEncoder()"
   ]
  },
  {
   "cell_type": "code",
   "execution_count": 4,
   "metadata": {},
   "outputs": [],
   "source": [
    "fen_encodings = []\n",
    "for fen_i in df['fen_value']:\n",
    "    encoded_fen = encoder_object.encode_fen(fen_i)\n",
    "    fen_encodings.append(encoded_fen)"
   ]
  },
  {
   "cell_type": "code",
   "execution_count": 5,
   "metadata": {},
   "outputs": [],
   "source": [
    "X = torch.tensor(fen_encodings, dtype=torch.int32)"
   ]
  },
  {
   "cell_type": "code",
   "execution_count": 6,
   "metadata": {},
   "outputs": [],
   "source": [
    "score_encodings = []\n",
    "for y_i in df['score']:\n",
    "    # print(y_i)\n",
    "    encoded_score = encoder_object.encode_score(str(y_i))\n",
    "    score_encodings.append(encoded_score)\n",
    "y = torch.tensor(score_encodings)"
   ]
  },
  {
   "cell_type": "code",
   "execution_count": 7,
   "metadata": {},
   "outputs": [
    {
     "data": {
      "text/plain": [
       "(torch.Size([336903, 70]), torch.Size([336903]))"
      ]
     },
     "execution_count": 7,
     "metadata": {},
     "output_type": "execute_result"
    }
   ],
   "source": [
    "X.shape, y.shape"
   ]
  },
  {
   "cell_type": "markdown",
   "metadata": {},
   "source": [
    "# Helper Functions"
   ]
  },
  {
   "cell_type": "code",
   "execution_count": 8,
   "metadata": {},
   "outputs": [],
   "source": [
    "device = 'cuda' if torch.cuda.is_available() else 'cpu'"
   ]
  },
  {
   "cell_type": "code",
   "execution_count": 9,
   "metadata": {},
   "outputs": [],
   "source": [
    "def get_batch(X, Y, bs):\n",
    "    if bs > len(X): bs = len(X)\n",
    "    assert isinstance(X, torch.Tensor)\n",
    "    assert isinstance(Y, torch.Tensor)\n",
    "\n",
    "    batch = torch.randint(0, len(X), (bs,))\n",
    "    x = X[batch].to(device)\n",
    "    y = Y[batch].to(device)\n",
    "    return x, y\n",
    "# b = get_batch(X, y, 64)"
   ]
  },
  {
   "cell_type": "markdown",
   "metadata": {},
   "source": [
    "# Training"
   ]
  },
  {
   "cell_type": "code",
   "execution_count": 10,
   "metadata": {},
   "outputs": [],
   "source": [
    "# hyperparameters\n",
    "lr = 0.01\n",
    "num_steps = 100\n",
    "bs = 12800\n",
    "# allowed_error = 100 #"
   ]
  },
  {
   "cell_type": "code",
   "execution_count": 11,
   "metadata": {},
   "outputs": [],
   "source": [
    "model = MLPEngine(embedding_dim=32).to(device)\n",
    "loss_category = nn.MSELoss()\n",
    "optimiser = torch.optim.Adam(model.parameters(), lr = lr)\n",
    "# model.compile()"
   ]
  },
  {
   "cell_type": "code",
   "execution_count": 12,
   "metadata": {},
   "outputs": [],
   "source": [
    "history = []\n",
    "for epoch in range(num_steps):\n",
    "    optimiser.zero_grad()\n",
    "    x_batch, y_batch = get_batch(X, y, bs) \n",
    "    # print(x_batch, y_batch)\n",
    "    y_pred = model(x_batch).view(bs)\n",
    "    # print(y_pred.shape, y_batch.shape)\n",
    "    loss = loss_category(y_pred, y_batch)\n",
    "    # print(loss.item())\n",
    "    if loss.item() < 100:history.append(loss.item())\n",
    "    loss.backward()\n",
    "    optimiser.step()\n",
    "\n"
   ]
  },
  {
   "cell_type": "code",
   "execution_count": null,
   "metadata": {},
   "outputs": [
    {
     "data": {
      "text/plain": [
       "<bound method Module.parameters of MLPEngine(\n",
       "  (embd1): Embedding(70, 32)\n",
       "  (l1): Linear(in_features=2240, out_features=1024, bias=True)\n",
       "  (l2): Linear(in_features=1024, out_features=128, bias=True)\n",
       "  (l3): Linear(in_features=128, out_features=1, bias=True)\n",
       "  (dropout1): Dropout(p=0, inplace=False)\n",
       ")>"
      ]
     },
     "execution_count": 16,
     "metadata": {},
     "output_type": "execute_result"
    }
   ],
   "source": [
    "model.parameters"
   ]
  },
  {
   "cell_type": "code",
   "execution_count": 14,
   "metadata": {},
   "outputs": [
    {
     "data": {
      "text/plain": [
       "[<matplotlib.lines.Line2D at 0x7a8c26168580>]"
      ]
     },
     "execution_count": 14,
     "metadata": {},
     "output_type": "execute_result"
    },
    {
     "data": {
      "image/png": "[encoded data removed]",
      "text/plain": [
       "<Figure size 640x480 with 1 Axes>"
      ]
     },
     "metadata": {},
     "output_type": "display_data"
    }
   ],
   "source": [
    "plt.plot(history)"
   ]
  },
  {
   "cell_type": "code",
   "execution_count": 15,
   "metadata": {},
   "outputs": [
    {
     "data": {
      "text/plain": [
       "[0.0348527617752552,\n",
       " 0.3648081123828888,\n",
       " 0.18886514008045197,\n",
       " 0.03857940807938576,\n",
       " 0.27497726678848267,\n",
       " 0.2191520482301712,\n",
       " 0.06783811748027802,\n",
       " 0.039006639271974564,\n",
       " 0.11024819314479828,\n",
       " 0.1380499303340912,\n",
       " 0.10436730831861496,\n",
       " 0.058802079409360886,\n",
       " 0.033191122114658356,\n",
       " 0.0368342399597168,\n",
       " 0.053267497569322586,\n",
       " 0.059629976749420166,\n",
       " 0.05323890224099159,\n",
       " 0.046221550554037094,\n",
       " 0.03614727407693863,\n",
       " 0.033276695758104324,\n",
       " 0.03284312039613724,\n",
       " 0.03314598277211189,\n",
       " 0.034891366958618164,\n",
       " 0.0365392304956913,\n",
       " 0.03820044547319412,\n",
       " 0.03844001516699791,\n",
       " 0.03860320895910263,\n",
       " 0.0364653579890728,\n",
       " 0.03856164962053299,\n",
       " 0.03829405456781387,\n",
       " 0.03622498735785484,\n",
       " 0.03563036024570465,\n",
       " 0.034294698387384415,\n",
       " 0.03488491475582123,\n",
       " 0.03395600616931915,\n",
       " 0.03385399281978607,\n",
       " 0.033242929726839066,\n",
       " 0.03277391940355301,\n",
       " 0.03280070424079895,\n",
       " 0.030594047158956528,\n",
       " 0.03260047733783722,\n",
       " 0.03161412850022316,\n",
       " 0.03382392227649689,\n",
       " 0.03190455958247185,\n",
       " 0.033939555287361145,\n",
       " 0.03352053463459015,\n",
       " 0.030909990891814232,\n",
       " 0.03229982405900955,\n",
       " 0.030771855264902115,\n",
       " 0.03118106722831726,\n",
       " 0.03318260237574577,\n",
       " 0.030626492574810982,\n",
       " 0.03225864842534065,\n",
       " 0.03303859755396843,\n",
       " 0.03140750154852867,\n",
       " 0.032019175589084625,\n",
       " 0.03188866749405861,\n",
       " 0.03506603091955185,\n",
       " 0.03382185846567154,\n",
       " 0.03205825760960579,\n",
       " 0.030770650133490562,\n",
       " 0.03127356618642807,\n",
       " 0.03403818979859352,\n",
       " 0.032118335366249084,\n",
       " 0.033905088901519775,\n",
       " 0.0334169827401638,\n",
       " 0.031686924397945404,\n",
       " 0.03213965520262718,\n",
       " 0.029686711728572845,\n",
       " 0.032565370202064514,\n",
       " 0.031448844820261,\n",
       " 0.031096257269382477,\n",
       " 0.032028377056121826,\n",
       " 0.03255535662174225,\n",
       " 0.031202668324112892,\n",
       " 0.029329489916563034,\n",
       " 0.0316937118768692,\n",
       " 0.02938491478562355,\n",
       " 0.03218938782811165,\n",
       " 0.03375469520688057,\n",
       " 0.0307419765740633,\n",
       " 0.03229565918445587,\n",
       " 0.03256174176931381,\n",
       " 0.030686695128679276,\n",
       " 0.028341321274638176,\n",
       " 0.030926570296287537,\n",
       " 0.03283122554421425,\n",
       " 0.029358962550759315,\n",
       " 0.03396008536219597,\n",
       " 0.031126640737056732,\n",
       " 0.03127619996666908,\n",
       " 0.030279092490673065,\n",
       " 0.029942426830530167,\n",
       " 0.0322418287396431,\n",
       " 0.03230220079421997,\n",
       " 0.03212139382958412,\n",
       " 0.031674064695835114,\n",
       " 0.030328962951898575]"
      ]
     },
     "execution_count": 15,
     "metadata": {},
     "output_type": "execute_result"
    }
   ],
   "source": [
    "history"
   ]
  }
 ],
 "metadata": {
  "kernelspec": {
   "display_name": "AI_ENV",
   "language": "python",
   "name": "python3"
  },
  "language_info": {
   "codemirror_mode": {
    "name": "ipython",
    "version": 3
   },
   "file_extension": ".py",
   "mimetype": "text/x-python",
   "name": "python",
   "nbconvert_exporter": "python",
   "pygments_lexer": "ipython3",
   "version": "3.10.12"
  }
 },
 "nbformat": 4,
 "nbformat_minor": 2
}
