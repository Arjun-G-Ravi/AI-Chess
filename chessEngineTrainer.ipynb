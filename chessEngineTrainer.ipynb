{
 "cells": [
  {
   "cell_type": "code",
   "execution_count": 1,
   "metadata": {},
   "outputs": [],
   "source": [
    "import torch\n",
    "import torch.nn as nn\n",
    "import pandas as pd\n",
    "from chessEngine import ChessEncoder, MLPEngine\n",
    "import matplotlib.pyplot as plt\n",
    "from torch.optim.lr_scheduler import LambdaLR"
   ]
  },
  {
   "cell_type": "markdown",
   "metadata": {},
   "source": [
    "# Preprocessing"
   ]
  },
  {
   "cell_type": "code",
   "execution_count": 2,
   "metadata": {},
   "outputs": [
    {
     "data": {
      "text/html": [
       "<div>\n",
       "<style scoped>\n",
       "    .dataframe tbody tr th:only-of-type {\n",
       "        vertical-align: middle;\n",
       "    }\n",
       "\n",
       "    .dataframe tbody tr th {\n",
       "        vertical-align: top;\n",
       "    }\n",
       "\n",
       "    .dataframe thead th {\n",
       "        text-align: right;\n",
       "    }\n",
       "</style>\n",
       "<table border=\"1\" class=\"dataframe\">\n",
       "  <thead>\n",
       "    <tr style=\"text-align: right;\">\n",
       "      <th></th>\n",
       "      <th>fen_value</th>\n",
       "      <th>score</th>\n",
       "    </tr>\n",
       "  </thead>\n",
       "  <tbody>\n",
       "    <tr>\n",
       "      <th>237198</th>\n",
       "      <td>rnb1kb1r/ppppqppp/5n2/4p3/8/4P2N/PPPP1PPP/RNBQ...</td>\n",
       "      <td>163</td>\n",
       "    </tr>\n",
       "    <tr>\n",
       "      <th>6112</th>\n",
       "      <td>r1bqk2r/pp3ppp/2n1p3/8/3P4/2nB1N2/P4PPP/R1B1QR...</td>\n",
       "      <td>-54</td>\n",
       "    </tr>\n",
       "    <tr>\n",
       "      <th>197789</th>\n",
       "      <td>rnbqk1nr/ppp1bppp/8/4p3/3PP3/5N2/PPP3PP/RNBQKB...</td>\n",
       "      <td>175</td>\n",
       "    </tr>\n",
       "    <tr>\n",
       "      <th>38144</th>\n",
       "      <td>r1bqkbnr/pppn1ppp/3pp3/8/2BPP3/8/PPP2PPP/RNBQK...</td>\n",
       "      <td>69</td>\n",
       "    </tr>\n",
       "    <tr>\n",
       "      <th>10617</th>\n",
       "      <td>r4rk1/ppqnbppp/2pp1nb1/4p1B1/3PP1P1/2PB1N1P/PP...</td>\n",
       "      <td>22</td>\n",
       "    </tr>\n",
       "    <tr>\n",
       "      <th>...</th>\n",
       "      <td>...</td>\n",
       "      <td>...</td>\n",
       "    </tr>\n",
       "    <tr>\n",
       "      <th>217742</th>\n",
       "      <td>2k5/1pp3p1/6q1/8/3R2b1/1P2P1b1/P2P1r1P/3K4 w -...</td>\n",
       "      <td>-727</td>\n",
       "    </tr>\n",
       "    <tr>\n",
       "      <th>1930</th>\n",
       "      <td>rn2kb1r/pp2pppp/2p1b3/q2n4/2pP4/2N1PNB1/PPQ2PP...</td>\n",
       "      <td>-16</td>\n",
       "    </tr>\n",
       "    <tr>\n",
       "      <th>240429</th>\n",
       "      <td>r1b3k1/ppp2pp1/5n1p/n3N2P/1q2p1P1/4P2B/3N1P2/R...</td>\n",
       "      <td>-85</td>\n",
       "    </tr>\n",
       "    <tr>\n",
       "      <th>199491</th>\n",
       "      <td>2qk4/7p/3P2p1/5p2/2KQ1P1P/8/7P/8 w - - 9 40</td>\n",
       "      <td>334</td>\n",
       "    </tr>\n",
       "    <tr>\n",
       "      <th>57022</th>\n",
       "      <td>8/8/8/6bk/1P6/2B5/1K2q1P1/8 w - - 3 58</td>\n",
       "      <td>-551</td>\n",
       "    </tr>\n",
       "  </tbody>\n",
       "</table>\n",
       "<p>50000 rows × 2 columns</p>\n",
       "</div>"
      ],
      "text/plain": [
       "                                                fen_value  score\n",
       "237198  rnb1kb1r/ppppqppp/5n2/4p3/8/4P2N/PPPP1PPP/RNBQ...    163\n",
       "6112    r1bqk2r/pp3ppp/2n1p3/8/3P4/2nB1N2/P4PPP/R1B1QR...    -54\n",
       "197789  rnbqk1nr/ppp1bppp/8/4p3/3PP3/5N2/PPP3PP/RNBQKB...    175\n",
       "38144   r1bqkbnr/pppn1ppp/3pp3/8/2BPP3/8/PPP2PPP/RNBQK...     69\n",
       "10617   r4rk1/ppqnbppp/2pp1nb1/4p1B1/3PP1P1/2PB1N1P/PP...     22\n",
       "...                                                   ...    ...\n",
       "217742  2k5/1pp3p1/6q1/8/3R2b1/1P2P1b1/P2P1r1P/3K4 w -...   -727\n",
       "1930    rn2kb1r/pp2pppp/2p1b3/q2n4/2pP4/2N1PNB1/PPQ2PP...    -16\n",
       "240429  r1b3k1/ppp2pp1/5n1p/n3N2P/1q2p1P1/4P2B/3N1P2/R...    -85\n",
       "199491        2qk4/7p/3P2p1/5p2/2KQ1P1P/8/7P/8 w - - 9 40    334\n",
       "57022              8/8/8/6bk/1P6/2B5/1K2q1P1/8 w - - 3 58   -551\n",
       "\n",
       "[50000 rows x 2 columns]"
      ]
     },
     "execution_count": 2,
     "metadata": {},
     "output_type": "execute_result"
    }
   ],
   "source": [
    "df = pd.read_csv('data/fen_analysis.csv').sample(frac=1)[:50000] # This shuffles the rows\n",
    "# df = pd.read_csv('fen_analysis.csv')[:30000] # no shuffle\n",
    "df"
   ]
  },
  {
   "cell_type": "code",
   "execution_count": 3,
   "metadata": {},
   "outputs": [],
   "source": [
    "encoder_object = ChessEncoder()"
   ]
  },
  {
   "cell_type": "code",
   "execution_count": 4,
   "metadata": {},
   "outputs": [],
   "source": [
    "fen_encodings = []\n",
    "for fen_i in df['fen_value']:\n",
    "    encoded_fen = encoder_object.encode_fen(fen_i)\n",
    "    fen_encodings.append(encoded_fen)"
   ]
  },
  {
   "cell_type": "code",
   "execution_count": 5,
   "metadata": {},
   "outputs": [],
   "source": [
    "X = torch.tensor(fen_encodings, dtype=torch.int32)"
   ]
  },
  {
   "cell_type": "code",
   "execution_count": 6,
   "metadata": {},
   "outputs": [
    {
     "data": {
      "text/plain": [
       "tensor([[ 9, 11, 10,  ...,  0, 39, 39],\n",
       "        [ 9,  0, 10,  ...,  0, 33, 34],\n",
       "        [ 9, 11, 10,  ...,  0, 38, 38],\n",
       "        ...,\n",
       "        [ 9,  0, 10,  ...,  0, 32, 30],\n",
       "        [ 0,  0,  8,  ...,  0, 13, 12],\n",
       "        [ 0,  0,  0,  ...,  0,  5, 12]], dtype=torch.int32)"
      ]
     },
     "execution_count": 6,
     "metadata": {},
     "output_type": "execute_result"
    }
   ],
   "source": [
    "X"
   ]
  },
  {
   "cell_type": "code",
   "execution_count": 7,
   "metadata": {},
   "outputs": [],
   "source": [
    "score_encodings = []\n",
    "for y_i in df['score']:\n",
    "    # print(y_i)\n",
    "    encoded_score = encoder_object.encode_score(str(y_i))\n",
    "    score_encodings.append(encoded_score)\n",
    "y = torch.tensor(score_encodings, dtype=torch.float32)"
   ]
  },
  {
   "cell_type": "code",
   "execution_count": 8,
   "metadata": {},
   "outputs": [
    {
     "data": {
      "text/plain": [
       "(torch.Size([50000, 200]), torch.Size([50000]))"
      ]
     },
     "execution_count": 8,
     "metadata": {},
     "output_type": "execute_result"
    }
   ],
   "source": [
    "X.shape, y.shape"
   ]
  },
  {
   "cell_type": "markdown",
   "metadata": {},
   "source": [
    "# Helper Functions"
   ]
  },
  {
   "cell_type": "code",
   "execution_count": 9,
   "metadata": {},
   "outputs": [],
   "source": [
    "val_split = 10000\n",
    "test_split = 10000"
   ]
  },
  {
   "cell_type": "code",
   "execution_count": 10,
   "metadata": {},
   "outputs": [],
   "source": [
    "device = 'cuda' if torch.cuda.is_available() else 'cpu'"
   ]
  },
  {
   "cell_type": "code",
   "execution_count": 11,
   "metadata": {},
   "outputs": [],
   "source": [
    "def get_batch(X, Y, bs):\n",
    "    \n",
    "    assert isinstance(X, torch.Tensor)\n",
    "    assert isinstance(Y, torch.Tensor)\n",
    "\n",
    "    batch = torch.randint(0, len(X), (bs,))\n",
    "    x = X[batch].to(device)\n",
    "    y = Y[batch].to(device).to(torch.float32)\n",
    "    return x, y\n",
    "# b = get_batch(X, y, 64)"
   ]
  },
  {
   "cell_type": "code",
   "execution_count": 12,
   "metadata": {},
   "outputs": [],
   "source": [
    "X_val = X[:val_split].to(device)\n",
    "y_val = y[:val_split].to(device)\n",
    "X_test = X[val_split:val_split+test_split].to(device)\n",
    "y_test = y[val_split:val_split+test_split].to(device)\n",
    "X = X[val_split+test_split:]\n",
    "y = y[val_split+test_split:]"
   ]
  },
  {
   "cell_type": "code",
   "execution_count": 13,
   "metadata": {},
   "outputs": [
    {
     "data": {
      "text/plain": [
       "30000"
      ]
     },
     "execution_count": 13,
     "metadata": {},
     "output_type": "execute_result"
    }
   ],
   "source": [
    "len(X)"
   ]
  },
  {
   "cell_type": "markdown",
   "metadata": {},
   "source": [
    "# Training"
   ]
  },
  {
   "cell_type": "code",
   "execution_count": 14,
   "metadata": {},
   "outputs": [],
   "source": [
    "# hyperparameters\n",
    "lr = 0.1\n",
    "num_steps = 500\n",
    "warmup_steps = 20\n",
    "bs_train = len(X)\n",
    "bs_eval = 10000\n",
    "# allowed_error = 100 #\n",
    "d1 = {1:10, 2:20}\n",
    "if bs_train > len(X): bs_train = len(X)"
   ]
  },
  {
   "cell_type": "code",
   "execution_count": 15,
   "metadata": {},
   "outputs": [],
   "source": [
    " # i accidenly used a smaller lr for scheduler and it worked better, maybe try it?"
   ]
  },
  {
   "cell_type": "code",
   "execution_count": 16,
   "metadata": {},
   "outputs": [],
   "source": [
    "model = MLPEngine(embedding_dim=64, bs_train = bs_train, bs_eval=bs_eval).to(device)\n",
    "loss_category = nn.MSELoss()\n",
    "optimiser = torch.optim.AdamW(\n",
    "            model.parameters(), \n",
    "            lr = lr,\n",
    "            betas=(0.9, 0.999),\n",
    "            eps=1e-3,\n",
    "            weight_decay=1e-5)\n",
    "\n",
    "# Define warm-up and decay\n",
    "def lr_lambda(epoch):\n",
    "    if epoch < warmup_steps:  \n",
    "        return epoch / warmup_steps\n",
    "    else:  # Exponential decay after warm-up\n",
    "        return 0.99 ** (epoch - warmup_steps)\n",
    "\n",
    "scheduler = LambdaLR(optimiser, lr_lambda)\n",
    "model.compile()"
   ]
  },
  {
   "cell_type": "code",
   "execution_count": 17,
   "metadata": {},
   "outputs": [],
   "source": [
    "import torch._dynamo\n",
    "torch._dynamo.config.suppress_errors = True\n",
    "torch.set_float32_matmul_precision('high')"
   ]
  },
  {
   "cell_type": "code",
   "execution_count": 18,
   "metadata": {},
   "outputs": [],
   "source": [
    "train_history = {}\n",
    "val_history = {}\n",
    "start_step = 0"
   ]
  },
  {
   "cell_type": "code",
   "execution_count": null,
   "metadata": {},
   "outputs": [
    {
     "name": "stdout",
     "output_type": "stream",
     "text": [
      "0 :  3016927.5\n",
      "1 :  3011849.25\n",
      "2 :  3040441.75\n",
      "3 :  3041635.0\n",
      "4 :  3042979.0\n",
      "5 :  3114352.25\n",
      "6 :  3056656.25\n",
      "7 :  3144858.75\n",
      "8 :  3151143.5\n",
      "9 :  3153551.5\n",
      "10 :  3264073.5\n",
      "11 :  2979139.25\n",
      "12 :  3063376.0\n",
      "13 :  3001871.25\n",
      "14 :  3135872.5\n",
      "15 :  2881217.75\n",
      "16 :  2867523.5\n",
      "17 :  2845629.25\n",
      "18 :  3010931.5\n",
      "19 :  2820270.75\n",
      "20 :  2757164.25\n",
      "21 :  2761374.25\n",
      "22 :  2568236.0\n",
      "23 :  2461835.25\n",
      "24 :  2273523.0\n",
      "25 :  2248040.25\n",
      "26 :  2170841.0\n",
      "27 :  2065784.875\n",
      "28 :  1944858.375\n",
      "29 :  1722006.5\n",
      "30 :  1725616.125\n",
      "31 :  1545782.875\n",
      "32 :  1313766.375\n",
      "33 :  1327864.0\n",
      "34 :  1053982.75\n",
      "35 :  1009687.5\n",
      "36 :  933412.125\n",
      "37 :  804957.375\n",
      "38 :  670455.0\n",
      "39 :  565281.3125\n",
      "40 :  516536.90625\n",
      "41 :  421120.34375\n",
      "42 :  367956.9375\n",
      "43 :  345027.125\n",
      "44 :  310323.75\n",
      "45 :  298465.75\n",
      "46 :  249754.828125\n",
      "47 :  258057.53125\n",
      "48 :  234494.5\n",
      "49 :  230769.359375\n",
      "50 :  207552.59375\n",
      "51 :  218473.140625\n",
      "52 :  204941.328125\n",
      "53 :  211099.203125\n",
      "54 :  169162.21875\n",
      "55 :  178440.296875\n",
      "56 :  164935.453125\n",
      "57 :  133069.28125\n",
      "58 :  114658.8359375\n",
      "59 :  107367.625\n",
      "60 :  98363.2421875\n",
      "61 :  108039.5859375\n",
      "62 :  94567.1875\n",
      "63 :  90145.078125\n",
      "64 :  83145.59375\n",
      "65 :  84369.0859375\n",
      "66 :  78685.25\n",
      "67 :  73233.4609375\n",
      "68 :  68818.7265625\n",
      "69 :  76676.2421875\n",
      "70 :  63275.6640625\n",
      "71 :  59030.20703125\n",
      "72 :  62095.9453125\n",
      "73 :  61057.22265625\n",
      "74 :  49871.34765625\n",
      "75 :  51024.375\n",
      "76 :  49531.32421875\n",
      "77 :  55683.93359375\n",
      "78 :  57402.67578125\n",
      "79 :  56671.47265625\n",
      "80 :  48451.01171875\n",
      "81 :  47021.33984375\n",
      "82 :  46648.76953125\n",
      "83 :  53069.5\n",
      "84 :  45137.8515625\n",
      "85 :  41762.265625\n",
      "86 :  41853.93359375\n",
      "87 :  38500.0625\n",
      "88 :  40980.8359375\n",
      "89 :  41616.71484375\n",
      "90 :  44426.7890625\n",
      "91 :  42200.84765625\n",
      "92 :  37482.734375\n",
      "93 :  34050.3671875\n",
      "94 :  39311.4375\n",
      "95 :  36894.703125\n",
      "96 :  37566.703125\n",
      "97 :  37497.37109375\n",
      "98 :  35270.48046875\n",
      "99 :  35045.06640625\n",
      "100 :  35674.80078125\n"
     ]
    }
   ],
   "source": [
    "model.train()\n",
    "# train_history = {}\n",
    "# val_history = {}\n",
    "for step_i in range(num_steps):\n",
    "    tot_step = step_i + start_step\n",
    "    optimiser.zero_grad()\n",
    "    x_batch, y_batch = get_batch(X, y, bs_train) \n",
    "    # print(x_batch, y_batch)\n",
    "    y_pred = model(x_batch).view(bs_train)\n",
    "    # print(y_pred.shape, y_batch.shape)\n",
    "    loss = loss_category(y_pred, y_batch)\n",
    "    # print(loss.item())\n",
    "    train_history[tot_step] = loss.item()\n",
    "    loss.backward()\n",
    "    optimiser.step()\n",
    "    scheduler.step()\n",
    "    # print(f\"Epoch {step_i}, Learning Rate: {scheduler.get_last_lr()}\")\n",
    "    print(tot_step, ': ',loss.item())\n",
    "\n",
    "    if tot_step % 100 == 0 and tot_step != 0:\n",
    "        model.eval()\n",
    "        # validation phase\n",
    "        y_pred = model(X_val).view(val_split)\n",
    "        # print(y_pred.shape, y_batch.shape)\n",
    "        loss = loss_category(y_pred, y_val)\n",
    "        # print(loss.item())\n",
    "        val_history[tot_step] = loss.item()\n",
    "        model.train()\n",
    "\n",
    "start_step += num_steps"
   ]
  },
  {
   "cell_type": "code",
   "execution_count": null,
   "metadata": {},
   "outputs": [],
   "source": [
    "torch.save(model.state_dict(), 'saves/bad_model2.pt')"
   ]
  },
  {
   "cell_type": "code",
   "execution_count": null,
   "metadata": {},
   "outputs": [],
   "source": [
    "plt.plot(list(train_history.keys())[100:], list(train_history.values())[100:], label='train')\n",
    "# plt.plot(val_history.keys(), val_history.values(), label='validation')\n",
    "plt.legend()\n",
    "plt.show()"
   ]
  },
  {
   "cell_type": "code",
   "execution_count": null,
   "metadata": {},
   "outputs": [],
   "source": [
    "plt.plot(list(train_history.keys()), list(train_history.values()), label='train')\n",
    "plt.plot(val_history.keys(), val_history.values(), label='validation')\n",
    "plt.legend()\n",
    "plt.show()"
   ]
  },
  {
   "cell_type": "code",
   "execution_count": null,
   "metadata": {},
   "outputs": [],
   "source": [
    "'''\n",
    "# My results\n",
    "At relu, model is stuck around 25k with 3x1000 steps with xavier\n",
    "AT relu, moedl went to 9k and then exploded at 3x1000 steps with kaiming; then at 14k\n",
    "At gelu, model is stuck atound 10k\n",
    "\n",
    "Adam is better than AdamW for this task\n",
    "'''"
   ]
  },
  {
   "cell_type": "markdown",
   "metadata": {},
   "source": [
    "# TO DO"
   ]
  },
  {
   "cell_type": "markdown",
   "metadata": {},
   "source": [
    "- [x] do inference, and run a partially trained model with the GUI intact\n",
    "- [x] **find a way to fix the fact that our model is giving integer loss\n",
    "- [x] **Fix the bug in initialisation\n",
    "- [ ] implement weights and biases or tensorboard \n",
    "- [ ] improve the model\n",
    "  - [x] get a better/ bigger dataset\n",
    "  - [ ] hyperparameter and architecture\n",
    "    - [x] better encoding\n",
    "    - [ ] residual connections\n",
    "    - [ ] try adamW after tuning b1 and b2\n",
    "    - [ ] increase embedding dim\n",
    "    - [x] increase neurons in the layers\n",
    "    - [x] increase layers in the network\n",
    "    - [x] change loss function (maybe)\n",
    "    - [ ] try diff learning rate scheduler(trapeziodal)\n",
    "    - [ ] Add regularisation\n",
    "      - [ ] l1,l2\n",
    "      - [x] dropout\n",
    "    - [x] Better initialisation\n",
    "    - [x] diff optimisation algorithm"
   ]
  },
  {
   "cell_type": "markdown",
   "metadata": {},
   "source": [
    "# Note"
   ]
  }
 ],
 "metadata": {
  "kernelspec": {
   "display_name": "AI_ENV",
   "language": "python",
   "name": "python3"
  },
  "language_info": {
   "codemirror_mode": {
    "name": "ipython",
    "version": 3
   },
   "file_extension": ".py",
   "mimetype": "text/x-python",
   "name": "python",
   "nbconvert_exporter": "python",
   "pygments_lexer": "ipython3",
   "version": "3.10.12"
  }
 },
 "nbformat": 4,
 "nbformat_minor": 2
}
