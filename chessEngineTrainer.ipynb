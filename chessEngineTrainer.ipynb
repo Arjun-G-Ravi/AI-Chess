{
 "cells": [
  {
   "cell_type": "code",
   "execution_count": 1,
   "metadata": {},
   "outputs": [],
   "source": [
    "import torch\n",
    "import torch.nn as nn\n",
    "import pandas as pd\n",
    "from chessEngine import ChessEncoder, MLPEngine\n",
    "import matplotlib.pyplot as plt\n",
    "from torch.optim.lr_scheduler import LambdaLR\n",
    "from print_color import print"
   ]
  },
  {
   "cell_type": "markdown",
   "metadata": {},
   "source": [
    "# Preprocessing"
   ]
  },
  {
   "cell_type": "code",
   "execution_count": 2,
   "metadata": {},
   "outputs": [
    {
     "data": {
      "text/html": [
       "<div>\n",
       "<style scoped>\n",
       "    .dataframe tbody tr th:only-of-type {\n",
       "        vertical-align: middle;\n",
       "    }\n",
       "\n",
       "    .dataframe tbody tr th {\n",
       "        vertical-align: top;\n",
       "    }\n",
       "\n",
       "    .dataframe thead th {\n",
       "        text-align: right;\n",
       "    }\n",
       "</style>\n",
       "<table border=\"1\" class=\"dataframe\">\n",
       "  <thead>\n",
       "    <tr style=\"text-align: right;\">\n",
       "      <th></th>\n",
       "      <th>fen_value</th>\n",
       "      <th>score</th>\n",
       "    </tr>\n",
       "  </thead>\n",
       "  <tbody>\n",
       "    <tr>\n",
       "      <th>36880</th>\n",
       "      <td>r7/5k2/p5pp/1P1PB3/1P2b1B1/8/2pp4/R5K1 w - - 0 40</td>\n",
       "      <td>-342</td>\n",
       "    </tr>\n",
       "    <tr>\n",
       "      <th>286427</th>\n",
       "      <td>r1bqkbnr/p1pppppp/1pn5/8/2PP4/4P3/PP3PPP/RNBQK...</td>\n",
       "      <td>-70</td>\n",
       "    </tr>\n",
       "    <tr>\n",
       "      <th>334186</th>\n",
       "      <td>3r2k1/pp4pp/5p2/2nP4/1P1qP3/5QN1/P5PP/5RK1 w -...</td>\n",
       "      <td>80</td>\n",
       "    </tr>\n",
       "    <tr>\n",
       "      <th>73886</th>\n",
       "      <td>rnb1k1nr/1pqp2pp/p1p1p3/4P3/7B/2PB1N2/P1P2PPP/...</td>\n",
       "      <td>392</td>\n",
       "    </tr>\n",
       "    <tr>\n",
       "      <th>78306</th>\n",
       "      <td>6k1/1pp2pb1/p1np3p/6pq/3P1P1N/2P5/PP4QP/4B1K1 ...</td>\n",
       "      <td>512</td>\n",
       "    </tr>\n",
       "    <tr>\n",
       "      <th>...</th>\n",
       "      <td>...</td>\n",
       "      <td>...</td>\n",
       "    </tr>\n",
       "    <tr>\n",
       "      <th>182485</th>\n",
       "      <td>8/3K2k1/8/6pp/8/8/7r/8 b - - 1 50</td>\n",
       "      <td>578</td>\n",
       "    </tr>\n",
       "    <tr>\n",
       "      <th>71689</th>\n",
       "      <td>r3k2r/pb1p4/p1p3p1/P3P1qp/3P4/4PN2/1PP3PP/1NB1...</td>\n",
       "      <td>537</td>\n",
       "    </tr>\n",
       "    <tr>\n",
       "      <th>145021</th>\n",
       "      <td>2r1k2r/1bq1bppp/p1nppn2/1pp5/1P2PP2/P1PPBN2/2N...</td>\n",
       "      <td>18</td>\n",
       "    </tr>\n",
       "    <tr>\n",
       "      <th>57407</th>\n",
       "      <td>r1b2rk1/pp3p1p/1q2p1p1/2pnP3/3P1P2/P1NQ4/1PB3P...</td>\n",
       "      <td>113</td>\n",
       "    </tr>\n",
       "    <tr>\n",
       "      <th>213963</th>\n",
       "      <td>4r1k1/p1p2ppp/bp6/8/3r2PP/1KN2P2/PP6/R7 b - - ...</td>\n",
       "      <td>615</td>\n",
       "    </tr>\n",
       "  </tbody>\n",
       "</table>\n",
       "<p>50000 rows × 2 columns</p>\n",
       "</div>"
      ],
      "text/plain": [
       "                                                fen_value  score\n",
       "36880   r7/5k2/p5pp/1P1PB3/1P2b1B1/8/2pp4/R5K1 w - - 0 40   -342\n",
       "286427  r1bqkbnr/p1pppppp/1pn5/8/2PP4/4P3/PP3PPP/RNBQK...    -70\n",
       "334186  3r2k1/pp4pp/5p2/2nP4/1P1qP3/5QN1/P5PP/5RK1 w -...     80\n",
       "73886   rnb1k1nr/1pqp2pp/p1p1p3/4P3/7B/2PB1N2/P1P2PPP/...    392\n",
       "78306   6k1/1pp2pb1/p1np3p/6pq/3P1P1N/2P5/PP4QP/4B1K1 ...    512\n",
       "...                                                   ...    ...\n",
       "182485                  8/3K2k1/8/6pp/8/8/7r/8 b - - 1 50    578\n",
       "71689   r3k2r/pb1p4/p1p3p1/P3P1qp/3P4/4PN2/1PP3PP/1NB1...    537\n",
       "145021  2r1k2r/1bq1bppp/p1nppn2/1pp5/1P2PP2/P1PPBN2/2N...     18\n",
       "57407   r1b2rk1/pp3p1p/1q2p1p1/2pnP3/3P1P2/P1NQ4/1PB3P...    113\n",
       "213963  4r1k1/p1p2ppp/bp6/8/3r2PP/1KN2P2/PP6/R7 b - - ...    615\n",
       "\n",
       "[50000 rows x 2 columns]"
      ]
     },
     "execution_count": 2,
     "metadata": {},
     "output_type": "execute_result"
    }
   ],
   "source": [
    "df = pd.read_csv('data/fen_analysis.csv').sample(frac=1)[:50000] # This shuffles the rows\n",
    "# df = pd.read_csv('fen_analysis.csv')[:30000] # no shuffle\n",
    "df"
   ]
  },
  {
   "cell_type": "code",
   "execution_count": 3,
   "metadata": {},
   "outputs": [],
   "source": [
    "encoder_object = ChessEncoder()"
   ]
  },
  {
   "cell_type": "code",
   "execution_count": 4,
   "metadata": {},
   "outputs": [],
   "source": [
    "fen_encodings = []\n",
    "for fen_i in df['fen_value']:\n",
    "    encoded_fen = encoder_object.encode_fen(fen_i)\n",
    "    fen_encodings.append(encoded_fen)"
   ]
  },
  {
   "cell_type": "code",
   "execution_count": 5,
   "metadata": {},
   "outputs": [],
   "source": [
    "X = torch.tensor(fen_encodings, dtype=torch.int32)"
   ]
  },
  {
   "cell_type": "code",
   "execution_count": 6,
   "metadata": {},
   "outputs": [
    {
     "data": {
      "text/plain": [
       "tensor([[ 9,  0,  0,  ...,  0, 14, 13],\n",
       "        [ 9,  0, 10,  ...,  0, 39, 39],\n",
       "        [ 0,  0,  0,  ...,  0, 23, 22],\n",
       "        ...,\n",
       "        [ 0,  0,  9,  ...,  0, 39, 39],\n",
       "        [ 9,  0, 10,  ...,  0, 32, 32],\n",
       "        [ 0,  0,  0,  ...,  0, 13, 19]], dtype=torch.int32)"
      ]
     },
     "execution_count": 6,
     "metadata": {},
     "output_type": "execute_result"
    }
   ],
   "source": [
    "X"
   ]
  },
  {
   "cell_type": "code",
   "execution_count": 7,
   "metadata": {},
   "outputs": [],
   "source": [
    "score_encodings = []\n",
    "for y_i in df['score']:\n",
    "    # print(y_i)\n",
    "    encoded_score = encoder_object.encode_score(str(y_i))\n",
    "    score_encodings.append(encoded_score)\n",
    "y = torch.tensor(score_encodings, dtype=torch.float32)"
   ]
  },
  {
   "cell_type": "code",
   "execution_count": 8,
   "metadata": {},
   "outputs": [
    {
     "data": {
      "text/plain": [
       "(torch.Size([50000, 200]), torch.Size([50000]))"
      ]
     },
     "execution_count": 8,
     "metadata": {},
     "output_type": "execute_result"
    }
   ],
   "source": [
    "X.shape, y.shape"
   ]
  },
  {
   "cell_type": "markdown",
   "metadata": {},
   "source": [
    "# Helper Functions"
   ]
  },
  {
   "cell_type": "code",
   "execution_count": 9,
   "metadata": {},
   "outputs": [],
   "source": [
    "val_split = 10000\n",
    "test_split = 10000"
   ]
  },
  {
   "cell_type": "code",
   "execution_count": 10,
   "metadata": {},
   "outputs": [],
   "source": [
    "device = 'cuda' if torch.cuda.is_available() else 'cpu'"
   ]
  },
  {
   "cell_type": "code",
   "execution_count": 11,
   "metadata": {},
   "outputs": [],
   "source": [
    "def get_batch(X, Y, bs):\n",
    "    \n",
    "    assert isinstance(X, torch.Tensor)\n",
    "    assert isinstance(Y, torch.Tensor)\n",
    "\n",
    "    batch = torch.randint(0, len(X), (bs,))\n",
    "    x = X[batch].to(device)\n",
    "    y = Y[batch].to(device).to(torch.float32)\n",
    "    return x, y\n",
    "# b = get_batch(X, y, 64)"
   ]
  },
  {
   "cell_type": "code",
   "execution_count": 12,
   "metadata": {},
   "outputs": [],
   "source": [
    "X_val = X[:val_split].to(device)\n",
    "y_val = y[:val_split].to(device)\n",
    "X_test = X[val_split:val_split+test_split].to(device)\n",
    "y_test = y[val_split:val_split+test_split].to(device)\n",
    "X = X[val_split+test_split:]\n",
    "y = y[val_split+test_split:]"
   ]
  },
  {
   "cell_type": "code",
   "execution_count": 13,
   "metadata": {},
   "outputs": [
    {
     "data": {
      "text/plain": [
       "30000"
      ]
     },
     "execution_count": 13,
     "metadata": {},
     "output_type": "execute_result"
    }
   ],
   "source": [
    "len(X)"
   ]
  },
  {
   "cell_type": "markdown",
   "metadata": {},
   "source": [
    "# Training"
   ]
  },
  {
   "cell_type": "code",
   "execution_count": 14,
   "metadata": {},
   "outputs": [],
   "source": [
    "# hyperparameters\n",
    "lr = 5e-2\n",
    "num_steps = 500\n",
    "warmup_steps = 20\n",
    "bs_train = len(X)\n",
    "bs_eval = 10000\n",
    "# allowed_error = 100 #\n",
    "d1 = {1:10, 2:20}\n",
    "if bs_train > len(X): bs_train = len(X)"
   ]
  },
  {
   "cell_type": "code",
   "execution_count": 15,
   "metadata": {},
   "outputs": [],
   "source": [
    " # i accidenly used a smaller lr for scheduler and it worked better, maybe try it?"
   ]
  },
  {
   "cell_type": "code",
   "execution_count": 16,
   "metadata": {},
   "outputs": [],
   "source": [
    "model = MLPEngine(embedding_dim=64, bs_train = bs_train, bs_eval=bs_eval).to(device)\n",
    "loss_category = nn.MSELoss()\n",
    "optimiser = torch.optim.AdamW(\n",
    "            model.parameters(), \n",
    "            lr = lr,\n",
    "            betas=(0.9, 0.999),\n",
    "            eps=1e-3,\n",
    "            weight_decay=1e-5)\n",
    "\n",
    "# Define warm-up and decay\n",
    "def lr_lambda(epoch):\n",
    "    if epoch < warmup_steps:  \n",
    "        return epoch / warmup_steps\n",
    "    else:  # Exponential decay after warm-up\n",
    "        return 0.99 ** (epoch - warmup_steps)\n",
    "\n",
    "scheduler = LambdaLR(optimiser, lr_lambda)\n",
    "model.compile()"
   ]
  },
  {
   "cell_type": "code",
   "execution_count": 17,
   "metadata": {},
   "outputs": [],
   "source": [
    "import torch._dynamo\n",
    "torch._dynamo.config.suppress_errors = True\n",
    "torch.set_float32_matmul_precision('high')"
   ]
  },
  {
   "cell_type": "code",
   "execution_count": 18,
   "metadata": {},
   "outputs": [],
   "source": [
    "train_history = {}\n",
    "val_history = {}\n",
    "start_step = 0"
   ]
  },
  {
   "cell_type": "code",
   "execution_count": 19,
   "metadata": {},
   "outputs": [
    {
     "name": "stdout",
     "output_type": "stream",
     "text": [
      "1 :  3096524.75\u001b[0m\n",
      "2 :  3147884.5\u001b[0m\n",
      "3 :  3120818.0\u001b[0m\n",
      "4 :  3091953.0\u001b[0m\n",
      "5 :  3081020.5\u001b[0m\n",
      "6 :  3075539.5\u001b[0m\n",
      "7 :  3055821.5\u001b[0m\n",
      "8 :  2999301.75\u001b[0m\n",
      "9 :  3204445.5\u001b[0m\n",
      "10 :  2934180.25\u001b[0m\n",
      "11 :  3271672.75\u001b[0m\n",
      "12 :  3124416.5\u001b[0m\n",
      "13 :  3152709.5\u001b[0m\n",
      "14 :  3030268.25\u001b[0m\n",
      "15 :  3233329.0\u001b[0m\n",
      "16 :  3056035.5\u001b[0m\n",
      "17 :  3058113.0\u001b[0m\n",
      "18 :  2975888.5\u001b[0m\n",
      "19 :  2989414.75\u001b[0m\n",
      "20 :  3072248.25\u001b[0m\n",
      "21 :  3080711.25\u001b[0m\n",
      "22 :  2997883.5\u001b[0m\n",
      "23 :  3053162.75\u001b[0m\n",
      "24 :  2953910.25\u001b[0m\n",
      "25 :  3047538.75\u001b[0m\n",
      "26 :  2947671.75\u001b[0m\n",
      "27 :  2920909.5\u001b[0m\n",
      "28 :  2981533.0\u001b[0m\n",
      "29 :  2971322.25\u001b[0m\n",
      "30 :  2978004.0\u001b[0m\n",
      "31 :  2895927.25\u001b[0m\n",
      "32 :  2818621.25\u001b[0m\n",
      "33 :  2861352.0\u001b[0m\n",
      "34 :  2753279.25\u001b[0m\n",
      "35 :  2738956.0\u001b[0m\n",
      "36 :  2739920.5\u001b[0m\n",
      "37 :  2670986.25\u001b[0m\n",
      "38 :  2622482.0\u001b[0m\n",
      "39 :  2515789.0\u001b[0m\n",
      "40 :  2623169.75\u001b[0m\n",
      "41 :  2539506.25\u001b[0m\n",
      "42 :  2662526.5\u001b[0m\n",
      "43 :  2505061.75\u001b[0m\n",
      "44 :  2318516.25\u001b[0m\n",
      "45 :  2555106.75\u001b[0m\n",
      "46 :  2174821.75\u001b[0m\n",
      "47 :  2352730.5\u001b[0m\n",
      "48 :  2241042.5\u001b[0m\n",
      "49 :  2395561.5\u001b[0m\n",
      "50 :  2149577.75\u001b[0m\n",
      "51 :  2103614.25\u001b[0m\n",
      "52 :  2088924.75\u001b[0m\n",
      "53 :  2091927.625\u001b[0m\n",
      "54 :  1955441.375\u001b[0m\n",
      "55 :  1859849.0\u001b[0m\n",
      "56 :  1665389.25\u001b[0m\n",
      "57 :  1828342.0\u001b[0m\n",
      "58 :  1673185.875\u001b[0m\n",
      "59 :  1650849.125\u001b[0m\n",
      "60 :  1549006.875\u001b[0m\n",
      "61 :  1490785.75\u001b[0m\n",
      "62 :  1317567.375\u001b[0m\n",
      "63 :  1423803.875\u001b[0m\n",
      "64 :  1349643.0\u001b[0m\n",
      "65 :  1296687.125\u001b[0m\n",
      "66 :  1211109.375\u001b[0m\n",
      "67 :  1281056.75\u001b[0m\n",
      "68 :  1185218.625\u001b[0m\n",
      "69 :  1125486.375\u001b[0m\n",
      "70 :  1152435.25\u001b[0m\n"
     ]
    },
    {
     "ename": "KeyboardInterrupt",
     "evalue": "",
     "output_type": "error",
     "traceback": [
      "\u001b[0;31m---------------------------------------------------------------------------\u001b[0m",
      "\u001b[0;31mKeyboardInterrupt\u001b[0m                         Traceback (most recent call last)",
      "Cell \u001b[0;32mIn[19], line 9\u001b[0m\n\u001b[1;32m      7\u001b[0m loss \u001b[38;5;241m=\u001b[39m loss_category(y_pred, y_batch)\n\u001b[1;32m      8\u001b[0m train_history[tot_step] \u001b[38;5;241m=\u001b[39m loss\u001b[38;5;241m.\u001b[39mitem()\n\u001b[0;32m----> 9\u001b[0m \u001b[43mloss\u001b[49m\u001b[38;5;241;43m.\u001b[39;49m\u001b[43mbackward\u001b[49m\u001b[43m(\u001b[49m\u001b[43m)\u001b[49m\n\u001b[1;32m     10\u001b[0m optimiser\u001b[38;5;241m.\u001b[39mstep()\n\u001b[1;32m     11\u001b[0m scheduler\u001b[38;5;241m.\u001b[39mstep()\n",
      "File \u001b[0;32m~/Desktop/AI_ENV/lib/python3.10/site-packages/torch/_tensor.py:521\u001b[0m, in \u001b[0;36mTensor.backward\u001b[0;34m(self, gradient, retain_graph, create_graph, inputs)\u001b[0m\n\u001b[1;32m    511\u001b[0m \u001b[38;5;28;01mif\u001b[39;00m has_torch_function_unary(\u001b[38;5;28mself\u001b[39m):\n\u001b[1;32m    512\u001b[0m     \u001b[38;5;28;01mreturn\u001b[39;00m handle_torch_function(\n\u001b[1;32m    513\u001b[0m         Tensor\u001b[38;5;241m.\u001b[39mbackward,\n\u001b[1;32m    514\u001b[0m         (\u001b[38;5;28mself\u001b[39m,),\n\u001b[0;32m   (...)\u001b[0m\n\u001b[1;32m    519\u001b[0m         inputs\u001b[38;5;241m=\u001b[39minputs,\n\u001b[1;32m    520\u001b[0m     )\n\u001b[0;32m--> 521\u001b[0m \u001b[43mtorch\u001b[49m\u001b[38;5;241;43m.\u001b[39;49m\u001b[43mautograd\u001b[49m\u001b[38;5;241;43m.\u001b[39;49m\u001b[43mbackward\u001b[49m\u001b[43m(\u001b[49m\n\u001b[1;32m    522\u001b[0m \u001b[43m    \u001b[49m\u001b[38;5;28;43mself\u001b[39;49m\u001b[43m,\u001b[49m\u001b[43m \u001b[49m\u001b[43mgradient\u001b[49m\u001b[43m,\u001b[49m\u001b[43m \u001b[49m\u001b[43mretain_graph\u001b[49m\u001b[43m,\u001b[49m\u001b[43m \u001b[49m\u001b[43mcreate_graph\u001b[49m\u001b[43m,\u001b[49m\u001b[43m \u001b[49m\u001b[43minputs\u001b[49m\u001b[38;5;241;43m=\u001b[39;49m\u001b[43minputs\u001b[49m\n\u001b[1;32m    523\u001b[0m \u001b[43m\u001b[49m\u001b[43m)\u001b[49m\n",
      "File \u001b[0;32m~/Desktop/AI_ENV/lib/python3.10/site-packages/torch/autograd/__init__.py:289\u001b[0m, in \u001b[0;36mbackward\u001b[0;34m(tensors, grad_tensors, retain_graph, create_graph, grad_variables, inputs)\u001b[0m\n\u001b[1;32m    284\u001b[0m     retain_graph \u001b[38;5;241m=\u001b[39m create_graph\n\u001b[1;32m    286\u001b[0m \u001b[38;5;66;03m# The reason we repeat the same comment below is that\u001b[39;00m\n\u001b[1;32m    287\u001b[0m \u001b[38;5;66;03m# some Python versions print out the first line of a multi-line function\u001b[39;00m\n\u001b[1;32m    288\u001b[0m \u001b[38;5;66;03m# calls in the traceback and some print out the last line\u001b[39;00m\n\u001b[0;32m--> 289\u001b[0m \u001b[43m_engine_run_backward\u001b[49m\u001b[43m(\u001b[49m\n\u001b[1;32m    290\u001b[0m \u001b[43m    \u001b[49m\u001b[43mtensors\u001b[49m\u001b[43m,\u001b[49m\n\u001b[1;32m    291\u001b[0m \u001b[43m    \u001b[49m\u001b[43mgrad_tensors_\u001b[49m\u001b[43m,\u001b[49m\n\u001b[1;32m    292\u001b[0m \u001b[43m    \u001b[49m\u001b[43mretain_graph\u001b[49m\u001b[43m,\u001b[49m\n\u001b[1;32m    293\u001b[0m \u001b[43m    \u001b[49m\u001b[43mcreate_graph\u001b[49m\u001b[43m,\u001b[49m\n\u001b[1;32m    294\u001b[0m \u001b[43m    \u001b[49m\u001b[43minputs\u001b[49m\u001b[43m,\u001b[49m\n\u001b[1;32m    295\u001b[0m \u001b[43m    \u001b[49m\u001b[43mallow_unreachable\u001b[49m\u001b[38;5;241;43m=\u001b[39;49m\u001b[38;5;28;43;01mTrue\u001b[39;49;00m\u001b[43m,\u001b[49m\n\u001b[1;32m    296\u001b[0m \u001b[43m    \u001b[49m\u001b[43maccumulate_grad\u001b[49m\u001b[38;5;241;43m=\u001b[39;49m\u001b[38;5;28;43;01mTrue\u001b[39;49;00m\u001b[43m,\u001b[49m\n\u001b[1;32m    297\u001b[0m \u001b[43m\u001b[49m\u001b[43m)\u001b[49m\n",
      "File \u001b[0;32m~/Desktop/AI_ENV/lib/python3.10/site-packages/torch/autograd/graph.py:769\u001b[0m, in \u001b[0;36m_engine_run_backward\u001b[0;34m(t_outputs, *args, **kwargs)\u001b[0m\n\u001b[1;32m    767\u001b[0m     unregister_hooks \u001b[38;5;241m=\u001b[39m _register_logging_hooks_on_whole_graph(t_outputs)\n\u001b[1;32m    768\u001b[0m \u001b[38;5;28;01mtry\u001b[39;00m:\n\u001b[0;32m--> 769\u001b[0m     \u001b[38;5;28;01mreturn\u001b[39;00m \u001b[43mVariable\u001b[49m\u001b[38;5;241;43m.\u001b[39;49m\u001b[43m_execution_engine\u001b[49m\u001b[38;5;241;43m.\u001b[39;49m\u001b[43mrun_backward\u001b[49m\u001b[43m(\u001b[49m\u001b[43m  \u001b[49m\u001b[38;5;66;43;03m# Calls into the C++ engine to run the backward pass\u001b[39;49;00m\n\u001b[1;32m    770\u001b[0m \u001b[43m        \u001b[49m\u001b[43mt_outputs\u001b[49m\u001b[43m,\u001b[49m\u001b[43m \u001b[49m\u001b[38;5;241;43m*\u001b[39;49m\u001b[43margs\u001b[49m\u001b[43m,\u001b[49m\u001b[43m \u001b[49m\u001b[38;5;241;43m*\u001b[39;49m\u001b[38;5;241;43m*\u001b[39;49m\u001b[43mkwargs\u001b[49m\n\u001b[1;32m    771\u001b[0m \u001b[43m    \u001b[49m\u001b[43m)\u001b[49m  \u001b[38;5;66;03m# Calls into the C++ engine to run the backward pass\u001b[39;00m\n\u001b[1;32m    772\u001b[0m \u001b[38;5;28;01mfinally\u001b[39;00m:\n\u001b[1;32m    773\u001b[0m     \u001b[38;5;28;01mif\u001b[39;00m attach_logging_hooks:\n",
      "\u001b[0;31mKeyboardInterrupt\u001b[0m: "
     ]
    }
   ],
   "source": [
    "model.train()\n",
    "for step_i in range(1, num_steps+1):\n",
    "    tot_step = step_i + start_step\n",
    "    optimiser.zero_grad()\n",
    "    x_batch, y_batch = get_batch(X, y, bs_train) \n",
    "    y_pred = model(x_batch).view(bs_train)\n",
    "    loss = loss_category(y_pred, y_batch)\n",
    "    train_history[tot_step] = loss.item()\n",
    "    loss.backward()\n",
    "    optimiser.step()\n",
    "    scheduler.step()\n",
    "    print(tot_step, ': ',loss.item())\n",
    "\n",
    "    if tot_step % 100 == 0:\n",
    "        # validation phase\n",
    "        model.eval()\n",
    "        y_pred = model(X_val).view(val_split)\n",
    "        loss = loss_category(y_pred, y_val)\n",
    "        val_history[tot_step] = loss.item()\n",
    "        print(f'{tot_step}: {loss.item()} (Validation)', color='r')\n",
    "        model.train()\n",
    "\n",
    "start_step += num_steps"
   ]
  },
  {
   "cell_type": "code",
   "execution_count": null,
   "metadata": {},
   "outputs": [],
   "source": [
    "torch.save(model.state_dict(), 'saves/model.pt')"
   ]
  },
  {
   "cell_type": "code",
   "execution_count": null,
   "metadata": {},
   "outputs": [],
   "source": [
    "plt.plot(list(train_history.keys())[100:], list(train_history.values())[100:], label='train')\n",
    "# plt.plot(val_history.keys(), val_history.values(), label='validation')\n",
    "plt.legend()\n",
    "plt.show()"
   ]
  },
  {
   "cell_type": "code",
   "execution_count": null,
   "metadata": {},
   "outputs": [],
   "source": [
    "plt.plot(list(train_history.keys()), list(train_history.values()), label='train')\n",
    "plt.plot(val_history.keys(), val_history.values(), label='validation')\n",
    "plt.legend()\n",
    "plt.show()"
   ]
  },
  {
   "cell_type": "code",
   "execution_count": null,
   "metadata": {},
   "outputs": [],
   "source": [
    "'''\n",
    "# My results\n",
    "At relu, model is stuck around 25k with 3x1000 steps with xavier\n",
    "AT relu, moedl went to 9k and then exploded at 3x1000 steps with kaiming; then at 14k\n",
    "At gelu, model is stuck atound 10k\n",
    "\n",
    "Adam is better than AdamW for this task\n",
    "'''"
   ]
  },
  {
   "cell_type": "markdown",
   "metadata": {},
   "source": [
    "# TO DO"
   ]
  },
  {
   "cell_type": "markdown",
   "metadata": {},
   "source": [
    "- [x] do inference, and run a partially trained model with the GUI intact\n",
    "- [x] **find a way to fix the fact that our model is giving integer loss\n",
    "- [x] **Fix the bug in initialisation\n",
    "- [ ] implement weights and biases or tensorboard \n",
    "- [ ] improve the model\n",
    "  - [x] get a better/ bigger dataset\n",
    "  - [ ] hyperparameter and architecture\n",
    "    - [x] better encoding\n",
    "    - [ ] residual connections\n",
    "    - [ ] try adamW after tuning b1 and b2\n",
    "    - [x] increase embedding dim\n",
    "    - [x] increase neurons in the layers\n",
    "    - [x] increase layers in the network\n",
    "    - [x] change loss function (maybe)\n",
    "    - [ ] try diff learning rate scheduler(trapeziodal)\n",
    "    - [ ] Add regularisation\n",
    "      - [ ] l1,l2\n",
    "      - [x] dropout\n",
    "    - [x] Better initialisation\n",
    "    - [x] diff optimisation algorithm"
   ]
  },
  {
   "cell_type": "markdown",
   "metadata": {},
   "source": [
    "# Note"
   ]
  }
 ],
 "metadata": {
  "kernelspec": {
   "display_name": "AI_ENV",
   "language": "python",
   "name": "python3"
  },
  "language_info": {
   "codemirror_mode": {
    "name": "ipython",
    "version": 3
   },
   "file_extension": ".py",
   "mimetype": "text/x-python",
   "name": "python",
   "nbconvert_exporter": "python",
   "pygments_lexer": "ipython3",
   "version": "3.10.12"
  }
 },
 "nbformat": 4,
 "nbformat_minor": 2
}
