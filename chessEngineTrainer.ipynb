{
 "cells": [
  {
   "cell_type": "code",
   "execution_count": null,
   "metadata": {},
   "outputs": [],
   "source": [
    "import torch\n",
    "import torch.nn as nn\n",
    "import pandas as pd\n",
    "from chessEngine import ChessEncoder, MLPEngine\n",
    "import matplotlib.pyplot as plt\n",
    "from torch.optim.lr_scheduler import LambdaLR"
   ]
  },
  {
   "cell_type": "markdown",
   "metadata": {},
   "source": [
    "# Preprocessing"
   ]
  },
  {
   "cell_type": "code",
   "execution_count": null,
   "metadata": {},
   "outputs": [],
   "source": [
    "df = pd.read_csv('data/fen_analysis.csv').sample(frac=1)[:50000] # This shuffles the rows\n",
    "# df = pd.read_csv('fen_analysis.csv')[:30000] # no shuffle\n",
    "df"
   ]
  },
  {
   "cell_type": "code",
   "execution_count": null,
   "metadata": {},
   "outputs": [],
   "source": [
    "encoder_object = ChessEncoder()"
   ]
  },
  {
   "cell_type": "code",
   "execution_count": null,
   "metadata": {},
   "outputs": [],
   "source": [
    "fen_encodings = []\n",
    "for fen_i in df['fen_value']:\n",
    "    encoded_fen = encoder_object.encode_fen(fen_i)\n",
    "    fen_encodings.append(encoded_fen)"
   ]
  },
  {
   "cell_type": "code",
   "execution_count": null,
   "metadata": {},
   "outputs": [],
   "source": [
    "X = torch.tensor(fen_encodings, dtype=torch.int32)"
   ]
  },
  {
   "cell_type": "code",
   "execution_count": null,
   "metadata": {},
   "outputs": [],
   "source": [
    "X"
   ]
  },
  {
   "cell_type": "code",
   "execution_count": null,
   "metadata": {},
   "outputs": [],
   "source": [
    "score_encodings = []\n",
    "for y_i in df['score']:\n",
    "    # print(y_i)\n",
    "    encoded_score = encoder_object.encode_score(str(y_i))\n",
    "    score_encodings.append(encoded_score)\n",
    "y = torch.tensor(score_encodings, dtype=torch.float32)"
   ]
  },
  {
   "cell_type": "code",
   "execution_count": null,
   "metadata": {},
   "outputs": [],
   "source": [
    "X.shape, y.shape"
   ]
  },
  {
   "cell_type": "markdown",
   "metadata": {},
   "source": [
    "# Helper Functions"
   ]
  },
  {
   "cell_type": "code",
   "execution_count": null,
   "metadata": {},
   "outputs": [],
   "source": [
    "val_split = 10000\n",
    "test_split = 10000"
   ]
  },
  {
   "cell_type": "code",
   "execution_count": null,
   "metadata": {},
   "outputs": [],
   "source": [
    "device = 'cuda' if torch.cuda.is_available() else 'cpu'"
   ]
  },
  {
   "cell_type": "code",
   "execution_count": null,
   "metadata": {},
   "outputs": [],
   "source": [
    "def get_batch(X, Y, bs):\n",
    "    \n",
    "    assert isinstance(X, torch.Tensor)\n",
    "    assert isinstance(Y, torch.Tensor)\n",
    "\n",
    "    batch = torch.randint(0, len(X), (bs,))\n",
    "    x = X[batch].to(device)\n",
    "    y = Y[batch].to(device).to(torch.float32)\n",
    "    return x, y\n",
    "# b = get_batch(X, y, 64)"
   ]
  },
  {
   "cell_type": "code",
   "execution_count": null,
   "metadata": {},
   "outputs": [],
   "source": [
    "X_val = X[:val_split].to(device)\n",
    "y_val = y[:val_split].to(device)\n",
    "X_test = X[val_split:val_split+test_split].to(device)\n",
    "y_test = y[val_split:val_split+test_split].to(device)\n",
    "X = X[val_split+test_split:]\n",
    "y = y[val_split+test_split:]"
   ]
  },
  {
   "cell_type": "code",
   "execution_count": null,
   "metadata": {},
   "outputs": [],
   "source": [
    "len(X)"
   ]
  },
  {
   "cell_type": "markdown",
   "metadata": {},
   "source": [
    "# Training"
   ]
  },
  {
   "cell_type": "code",
   "execution_count": null,
   "metadata": {},
   "outputs": [],
   "source": [
    "# hyperparameters\n",
    "lr = 0.1\n",
    "num_steps = 500\n",
    "warmup_steps = 50\n",
    "bs = len(X)\n",
    "# allowed_error = 100 #\n",
    "d1 = {1:10, 2:20}\n",
    "if bs > len(X): bs = len(X)"
   ]
  },
  {
   "cell_type": "code",
   "execution_count": null,
   "metadata": {},
   "outputs": [],
   "source": [
    " # i accidenly used a smaller lr for scheduler and it worked better, maybe try it?"
   ]
  },
  {
   "cell_type": "code",
   "execution_count": null,
   "metadata": {},
   "outputs": [],
   "source": [
    "model = MLPEngine(embedding_dim=64).to(device)\n",
    "loss_category = nn.MSELoss()\n",
    "optimiser = torch.optim.AdamW(\n",
    "            model.parameters(), \n",
    "            lr = lr,\n",
    "            betas=(0.9, 0.999),\n",
    "            eps=1e-3,\n",
    "            weight_decay=1e-5)\n",
    "\n",
    "# Define warm-up and decay\n",
    "def lr_lambda(epoch):\n",
    "    if epoch < warmup_steps:  \n",
    "        return epoch / warmup_steps\n",
    "    else:  # Exponential decay after warm-up\n",
    "        return 0.99 ** (epoch - warmup_steps)\n",
    "\n",
    "scheduler = LambdaLR(optimiser, lr_lambda)\n",
    "model.compile()"
   ]
  },
  {
   "cell_type": "code",
   "execution_count": null,
   "metadata": {},
   "outputs": [],
   "source": [
    "import torch._dynamo\n",
    "torch._dynamo.config.suppress_errors = True\n",
    "torch.set_float32_matmul_precision('high')"
   ]
  },
  {
   "cell_type": "code",
   "execution_count": null,
   "metadata": {},
   "outputs": [],
   "source": [
    "train_history = {}\n",
    "val_history = {}\n",
    "start_step = 0"
   ]
  },
  {
   "cell_type": "code",
   "execution_count": null,
   "metadata": {},
   "outputs": [],
   "source": [
    "model.train()\n",
    "# train_history = {}\n",
    "# val_history = {}\n",
    "for step_i in range(num_steps):\n",
    "    tot_step = step_i + start_step\n",
    "    optimiser.zero_grad()\n",
    "    x_batch, y_batch = get_batch(X, y, bs) \n",
    "    # print(x_batch, y_batch)\n",
    "    y_pred = model(x_batch).view(bs)\n",
    "    # print(y_pred.shape, y_batch.shape)\n",
    "    loss = loss_category(y_pred, y_batch)\n",
    "    # print(loss.item())\n",
    "    train_history[tot_step] = loss.item()\n",
    "    loss.backward()\n",
    "    optimiser.step()\n",
    "    scheduler.step()\n",
    "    # print(f\"Epoch {step_i}, Learning Rate: {scheduler.get_last_lr()}\")\n",
    "    print(tot_step, ': ',loss.item())\n",
    "\n",
    "    if tot_step % 100 == 0:\n",
    "        # validation phase\n",
    "        y_pred = model(X_val).view(val_split)\n",
    "        # print(y_pred.shape, y_batch.shape)\n",
    "        loss = loss_category(y_pred, y_val)\n",
    "        # print(loss.item())\n",
    "        val_history[tot_step] = loss.item()\n",
    "\n",
    "start_step += num_steps"
   ]
  },
  {
   "cell_type": "code",
   "execution_count": null,
   "metadata": {},
   "outputs": [],
   "source": [
    "torch.save(model.state_dict(), 'saves/bad_model.pt')"
   ]
  },
  {
   "cell_type": "code",
   "execution_count": null,
   "metadata": {},
   "outputs": [],
   "source": [
    "plt.plot(list(train_history.keys())[100:], list(train_history.values())[100:], label='train')\n",
    "# plt.plot(val_history.keys(), val_history.values(), label='validation')\n",
    "plt.legend()\n",
    "plt.show()"
   ]
  },
  {
   "cell_type": "code",
   "execution_count": null,
   "metadata": {},
   "outputs": [],
   "source": [
    "plt.plot(list(train_history.keys()), list(train_history.values()), label='train')\n",
    "plt.plot(val_history.keys(), val_history.values(), label='validation')\n",
    "plt.legend()\n",
    "plt.show()"
   ]
  },
  {
   "cell_type": "code",
   "execution_count": null,
   "metadata": {},
   "outputs": [],
   "source": [
    "'''\n",
    "# My results\n",
    "At relu, model is stuck around 25k with 3x1000 steps with xavier\n",
    "AT relu, moedl went to 9k and then exploded at 3x1000 steps with kaiming; then at 14k\n",
    "At gelu, model is stuck atound 10k\n",
    "\n",
    "Adam is better than AdamW for this task\n",
    "'''"
   ]
  },
  {
   "cell_type": "markdown",
   "metadata": {},
   "source": [
    "# TO DO"
   ]
  },
  {
   "cell_type": "markdown",
   "metadata": {},
   "source": [
    "- [x] do inference, and run a partially trained model with the GUI intact\n",
    "- [x] **find a way to fix the fact that our model is giving integer loss\n",
    "- [x] **Fix the bug in initialisation\n",
    "- [ ] implement weights and biases or tensorboard \n",
    "- [ ] improve the model\n",
    "  - [ ] get a better/ bigger dataset\n",
    "  - [ ] hyperparameter and architecture\n",
    "    - [x] better encoding\n",
    "    - [ ] residual connections\n",
    "    - [ ] try adamW after tuning b1 and b2\n",
    "    - [ ] increase embedding dim\n",
    "    - [x] increase neurons in the layers\n",
    "    - [x] increase layers in the network\n",
    "    - [x] change loss function (maybe)\n",
    "    - [ ] try diff learning rate scheduler(trapeziodal)\n",
    "    - [ ] Add regularisation\n",
    "      - [ ] l1,l2\n",
    "      - [x] dropout\n",
    "    - [x] Better initialisation\n",
    "    - [x] diff optimisation algorithm"
   ]
  },
  {
   "cell_type": "markdown",
   "metadata": {},
   "source": [
    "# Note"
   ]
  },
  {
   "cell_type": "markdown",
   "metadata": {},
   "source": [
    "- some issue after the whole architecture was changed in gui file.\n",
    "- also the dataset is bad, look for a new one. "
   ]
  }
 ],
 "metadata": {
  "kernelspec": {
   "display_name": "AI_ENV",
   "language": "python",
   "name": "python3"
  },
  "language_info": {
   "codemirror_mode": {
    "name": "ipython",
    "version": 3
   },
   "file_extension": ".py",
   "mimetype": "text/x-python",
   "name": "python",
   "nbconvert_exporter": "python",
   "pygments_lexer": "ipython3",
   "version": "3.10.12"
  }
 },
 "nbformat": 4,
 "nbformat_minor": 2
}
