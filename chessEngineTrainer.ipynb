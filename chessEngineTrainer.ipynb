{
 "cells": [
  {
   "cell_type": "code",
   "execution_count": 1,
   "metadata": {},
   "outputs": [],
   "source": [
    "import torch\n",
    "import torch.nn as nn\n",
    "import pandas as pd\n",
    "from chessEngine import ChessEncoder, MLPEngine\n",
    "import matplotlib.pyplot as plt"
   ]
  },
  {
   "cell_type": "markdown",
   "metadata": {},
   "source": [
    "# Preprocessing"
   ]
  },
  {
   "cell_type": "code",
   "execution_count": 2,
   "metadata": {},
   "outputs": [
    {
     "data": {
      "text/html": [
       "<div>\n",
       "<style scoped>\n",
       "    .dataframe tbody tr th:only-of-type {\n",
       "        vertical-align: middle;\n",
       "    }\n",
       "\n",
       "    .dataframe tbody tr th {\n",
       "        vertical-align: top;\n",
       "    }\n",
       "\n",
       "    .dataframe thead th {\n",
       "        text-align: right;\n",
       "    }\n",
       "</style>\n",
       "<table border=\"1\" class=\"dataframe\">\n",
       "  <thead>\n",
       "    <tr style=\"text-align: right;\">\n",
       "      <th></th>\n",
       "      <th>fen_value</th>\n",
       "      <th>score</th>\n",
       "    </tr>\n",
       "  </thead>\n",
       "  <tbody>\n",
       "    <tr>\n",
       "      <th>0</th>\n",
       "      <td>rnbqkbnr/pppppppp/8/8/4P3/8/PPPP1PPP/RNBQKBNR ...</td>\n",
       "      <td>-33</td>\n",
       "    </tr>\n",
       "    <tr>\n",
       "      <th>1</th>\n",
       "      <td>rnbqkbnr/pppp1ppp/8/4p3/4P3/8/PPPP1PPP/RNBQKBN...</td>\n",
       "      <td>34</td>\n",
       "    </tr>\n",
       "    <tr>\n",
       "      <th>2</th>\n",
       "      <td>rnbqkbnr/pppp1ppp/8/4p3/4P3/5N2/PPPP1PPP/RNBQK...</td>\n",
       "      <td>-30</td>\n",
       "    </tr>\n",
       "    <tr>\n",
       "      <th>3</th>\n",
       "      <td>r1bqkbnr/pppp1ppp/2n5/4p3/4P3/5N2/PPPP1PPP/RNB...</td>\n",
       "      <td>30</td>\n",
       "    </tr>\n",
       "    <tr>\n",
       "      <th>4</th>\n",
       "      <td>r1bqkbnr/pppp1ppp/2n5/4p3/2B1P3/5N2/PPPP1PPP/R...</td>\n",
       "      <td>-29</td>\n",
       "    </tr>\n",
       "    <tr>\n",
       "      <th>5</th>\n",
       "      <td>r1bqk1nr/pppp1ppp/2n5/2b1p3/2B1P3/5N2/PPPP1PPP...</td>\n",
       "      <td>80</td>\n",
       "    </tr>\n",
       "    <tr>\n",
       "      <th>6</th>\n",
       "      <td>r1bqk1nr/pppp1ppp/2n5/2b1p3/2B1P3/2P2N2/PP1P1P...</td>\n",
       "      <td>-48</td>\n",
       "    </tr>\n",
       "    <tr>\n",
       "      <th>7</th>\n",
       "      <td>r1bqk1nr/1ppp1ppp/p1n5/2b1p3/2B1P3/2P2N2/PP1P1...</td>\n",
       "      <td>130</td>\n",
       "    </tr>\n",
       "    <tr>\n",
       "      <th>8</th>\n",
       "      <td>r1bqk1nr/1ppp1ppp/p1n5/2b1p3/2BPP3/2P2N2/PP3PP...</td>\n",
       "      <td>-103</td>\n",
       "    </tr>\n",
       "    <tr>\n",
       "      <th>9</th>\n",
       "      <td>r1bqk1nr/1ppp1ppp/p1n5/2b5/2BpP3/2P2N2/PP3PPP/...</td>\n",
       "      <td>156</td>\n",
       "    </tr>\n",
       "    <tr>\n",
       "      <th>10</th>\n",
       "      <td>r1bqk1nr/1ppp1ppp/p1n5/2b5/2BPP3/5N2/PP3PPP/RN...</td>\n",
       "      <td>-102</td>\n",
       "    </tr>\n",
       "    <tr>\n",
       "      <th>11</th>\n",
       "      <td>r1bqk1nr/1pppbppp/p1n5/8/2BPP3/5N2/PP3PPP/RNBQ...</td>\n",
       "      <td>204</td>\n",
       "    </tr>\n",
       "    <tr>\n",
       "      <th>12</th>\n",
       "      <td>r1bqk1nr/1pppbppp/p1n5/8/2BPP3/1Q3N2/PP3PPP/RN...</td>\n",
       "      <td>-218</td>\n",
       "    </tr>\n",
       "    <tr>\n",
       "      <th>13</th>\n",
       "      <td>r1bqk1nr/1pppbppp/p7/n7/2BPP3/1Q3N2/PP3PPP/RNB...</td>\n",
       "      <td>200</td>\n",
       "    </tr>\n",
       "    <tr>\n",
       "      <th>14</th>\n",
       "      <td>r1bqk1nr/1pppbppp/p7/n7/2BPP3/5N2/PPQ2PPP/RNB1...</td>\n",
       "      <td>21</td>\n",
       "    </tr>\n",
       "    <tr>\n",
       "      <th>15</th>\n",
       "      <td>r1bqk1nr/1pppbppp/p7/8/2nPP3/5N2/PPQ2PPP/RNB1K...</td>\n",
       "      <td>-14</td>\n",
       "    </tr>\n",
       "  </tbody>\n",
       "</table>\n",
       "</div>"
      ],
      "text/plain": [
       "                                            fen_value  score\n",
       "0   rnbqkbnr/pppppppp/8/8/4P3/8/PPPP1PPP/RNBQKBNR ...    -33\n",
       "1   rnbqkbnr/pppp1ppp/8/4p3/4P3/8/PPPP1PPP/RNBQKBN...     34\n",
       "2   rnbqkbnr/pppp1ppp/8/4p3/4P3/5N2/PPPP1PPP/RNBQK...    -30\n",
       "3   r1bqkbnr/pppp1ppp/2n5/4p3/4P3/5N2/PPPP1PPP/RNB...     30\n",
       "4   r1bqkbnr/pppp1ppp/2n5/4p3/2B1P3/5N2/PPPP1PPP/R...    -29\n",
       "5   r1bqk1nr/pppp1ppp/2n5/2b1p3/2B1P3/5N2/PPPP1PPP...     80\n",
       "6   r1bqk1nr/pppp1ppp/2n5/2b1p3/2B1P3/2P2N2/PP1P1P...    -48\n",
       "7   r1bqk1nr/1ppp1ppp/p1n5/2b1p3/2B1P3/2P2N2/PP1P1...    130\n",
       "8   r1bqk1nr/1ppp1ppp/p1n5/2b1p3/2BPP3/2P2N2/PP3PP...   -103\n",
       "9   r1bqk1nr/1ppp1ppp/p1n5/2b5/2BpP3/2P2N2/PP3PPP/...    156\n",
       "10  r1bqk1nr/1ppp1ppp/p1n5/2b5/2BPP3/5N2/PP3PPP/RN...   -102\n",
       "11  r1bqk1nr/1pppbppp/p1n5/8/2BPP3/5N2/PP3PPP/RNBQ...    204\n",
       "12  r1bqk1nr/1pppbppp/p1n5/8/2BPP3/1Q3N2/PP3PPP/RN...   -218\n",
       "13  r1bqk1nr/1pppbppp/p7/n7/2BPP3/1Q3N2/PP3PPP/RNB...    200\n",
       "14  r1bqk1nr/1pppbppp/p7/n7/2BPP3/5N2/PPQ2PPP/RNB1...     21\n",
       "15  r1bqk1nr/1pppbppp/p7/8/2nPP3/5N2/PPQ2PPP/RNB1K...    -14"
      ]
     },
     "execution_count": 2,
     "metadata": {},
     "output_type": "execute_result"
    }
   ],
   "source": [
    "df = pd.read_csv('fen_analysis.csv')[:16]\n",
    "df"
   ]
  },
  {
   "cell_type": "code",
   "execution_count": 3,
   "metadata": {},
   "outputs": [],
   "source": [
    "encoder_object = ChessEncoder()"
   ]
  },
  {
   "cell_type": "code",
   "execution_count": 4,
   "metadata": {},
   "outputs": [],
   "source": [
    "fen_encodings = []\n",
    "for fen_i in df['fen_value']:\n",
    "    encoded_fen = encoder_object.encode_fen(fen_i)\n",
    "    fen_encodings.append(encoded_fen)"
   ]
  },
  {
   "cell_type": "code",
   "execution_count": 5,
   "metadata": {},
   "outputs": [
    {
     "data": {
      "text/plain": [
       "tensor([[ 9, 11, 10,  ...,  1,  1,  0],\n",
       "        [ 9, 11, 10,  ...,  1,  1,  0],\n",
       "        [ 9, 11, 10,  ...,  1,  1,  0],\n",
       "        ...,\n",
       "        [ 9,  0, 10,  ...,  1,  1,  0],\n",
       "        [ 9,  0, 10,  ...,  1,  1,  0],\n",
       "        [ 9,  0, 10,  ...,  1,  1,  0]], dtype=torch.int32)"
      ]
     },
     "execution_count": 5,
     "metadata": {},
     "output_type": "execute_result"
    }
   ],
   "source": [
    "X = torch.tensor(fen_encodings, dtype=torch.int32)\n",
    "X"
   ]
  },
  {
   "cell_type": "code",
   "execution_count": 6,
   "metadata": {},
   "outputs": [
    {
     "data": {
      "text/plain": [
       "tensor([-0.0033,  0.0034, -0.0030,  0.0030, -0.0029,  0.0080, -0.0048,  0.0130,\n",
       "        -0.0103,  0.0156, -0.0102,  0.0204, -0.0218,  0.0200,  0.0021, -0.0014])"
      ]
     },
     "execution_count": 6,
     "metadata": {},
     "output_type": "execute_result"
    }
   ],
   "source": [
    "score_encodings = []\n",
    "for y_i in df['score']:\n",
    "    # print(y_i)\n",
    "    encoded_score = encoder_object.encode_score(str(y_i))\n",
    "    score_encodings.append(encoded_score)\n",
    "y = torch.tensor(score_encodings)\n",
    "y"
   ]
  },
  {
   "cell_type": "markdown",
   "metadata": {},
   "source": [
    "# Helper Functions"
   ]
  },
  {
   "cell_type": "code",
   "execution_count": 7,
   "metadata": {},
   "outputs": [],
   "source": [
    "def get_batch(X, Y, bs):\n",
    "    if bs > len(X): bs = len(X)\n",
    "    assert isinstance(X, torch.Tensor)\n",
    "    assert isinstance(Y, torch.Tensor)\n",
    "\n",
    "    batch = torch.randint(0, len(X), (bs,))\n",
    "    x = X[batch]\n",
    "    y = Y[batch]\n",
    "    return x, y\n",
    "# b = get_batch(X, y, 64)"
   ]
  },
  {
   "cell_type": "markdown",
   "metadata": {},
   "source": [
    "# Training"
   ]
  },
  {
   "cell_type": "code",
   "execution_count": 8,
   "metadata": {},
   "outputs": [],
   "source": [
    "# hyperparameters\n",
    "lr = 0.001\n",
    "num_steps = 100\n",
    "bs = 16\n",
    "# allowed_error = 100 # "
   ]
  },
  {
   "cell_type": "code",
   "execution_count": 9,
   "metadata": {},
   "outputs": [],
   "source": [
    "model = MLPEngine(embedding_dim=32)\n",
    "loss_category = nn.MSELoss()\n",
    "optimiser = torch.optim.Adam(model.parameters(), lr = lr)\n",
    "model.compile()"
   ]
  },
  {
   "cell_type": "code",
   "execution_count": 10,
   "metadata": {},
   "outputs": [],
   "source": [
    "history = []\n",
    "for epoch in range(num_steps):\n",
    "    x_batch, y_batch = get_batch(X, y, bs) \n",
    "    # print(x_batch, y_batch)\n",
    "    y_pred = model(x_batch).view(bs)\n",
    "    # print(y_pred.shape, y_batch.shape)\n",
    "    loss = loss_category(y_pred, y_batch)\n",
    "    # print(loss.item())\n",
    "    history.append(loss.item())\n",
    "    optimiser.zero_grad()\n",
    "    loss.backward()\n",
    "    optimiser.step()\n",
    "\n"
   ]
  },
  {
   "cell_type": "code",
   "execution_count": 11,
   "metadata": {},
   "outputs": [
    {
     "data": {
      "text/plain": [
       "[0.0004992109606973827,\n",
       " 0.00017348030814900994,\n",
       " 0.00020684950868599117,\n",
       " 0.00014097131497692317,\n",
       " 0.00017565513553563505,\n",
       " 8.104245353024453e-05,\n",
       " 0.00020057946676388383,\n",
       " 0.0001327177888015285,\n",
       " 9.538533049635589e-05,\n",
       " 0.00014505087165161967,\n",
       " 0.00015352694026660174,\n",
       " 9.149080142378807e-05,\n",
       " 8.46725597511977e-05,\n",
       " 0.00014665555499959737,\n",
       " 0.00011949577310588211,\n",
       " 0.00013601031969301403,\n",
       " 0.00013322412269189954,\n",
       " 0.00017562200082466006,\n",
       " 0.00014605108299292624,\n",
       " 6.931448297109455e-05,\n",
       " 0.00012203253572806716,\n",
       " 0.0001749681105138734,\n",
       " 0.00010420583566883579,\n",
       " 0.00010524668323341757,\n",
       " 0.00014176273543853313,\n",
       " 0.00013443062198348343,\n",
       " 0.00013302909792400897,\n",
       " 0.000166986501426436,\n",
       " 4.98230911034625e-05,\n",
       " 0.00010155405470868573,\n",
       " 0.00011047209409298375,\n",
       " 8.576527761761099e-05,\n",
       " 0.00016528555715922266,\n",
       " 0.00013916281750425696,\n",
       " 9.636802860768512e-05,\n",
       " 0.0001334767002845183,\n",
       " 0.00010598181688692421,\n",
       " 0.00011643327889032662,\n",
       " 0.00017130051855929196,\n",
       " 0.0001197739620693028,\n",
       " 5.516978490049951e-05,\n",
       " 0.00016421533655375242,\n",
       " 0.00012558011803776026,\n",
       " 4.7694542445242405e-05,\n",
       " 0.00010416895383968949,\n",
       " 0.00011780230124713853,\n",
       " 0.0001919996429933235,\n",
       " 9.237785707227886e-05,\n",
       " 7.783681940054521e-05,\n",
       " 0.00014248787192627788,\n",
       " 0.00017963342543225735,\n",
       " 0.0001927354169311002,\n",
       " 0.00015708641149103642,\n",
       " 5.755150777986273e-05,\n",
       " 0.00013002788182348013,\n",
       " 0.00011610759247560054,\n",
       " 0.00018396617088001221,\n",
       " 9.61729820119217e-05,\n",
       " 0.00018404494039714336,\n",
       " 9.469706856179982e-05,\n",
       " 0.00010731583461165428,\n",
       " 0.00010233858483843505,\n",
       " 0.00014970243501011282,\n",
       " 0.0001175078796222806,\n",
       " 0.0001516515767434612,\n",
       " 0.0001958454231498763,\n",
       " 0.00010892928548855707,\n",
       " 0.00018455064855515957,\n",
       " 0.0001470312854507938,\n",
       " 0.00011440163507359102,\n",
       " 0.00010400392056908458,\n",
       " 0.00016308948397636414,\n",
       " 8.001038077054545e-05,\n",
       " 0.00017766928067430854,\n",
       " 0.00013510326971299946,\n",
       " 0.0003079903544858098,\n",
       " 0.0001825677463784814,\n",
       " 9.33780538616702e-05,\n",
       " 0.0001632695202715695,\n",
       " 0.00018502637976780534,\n",
       " 9.804961155168712e-05,\n",
       " 0.0001957291242433712,\n",
       " 9.750950266607106e-05,\n",
       " 0.00013966605183668435,\n",
       " 0.00014432759780902416,\n",
       " 0.00015203541261143982,\n",
       " 0.00018021478899754584,\n",
       " 0.00019650929607450962,\n",
       " 0.0001462211221223697,\n",
       " 0.00011768603872042149,\n",
       " 0.00019821463502012193,\n",
       " 5.8691737649496645e-05,\n",
       " 8.528705802746117e-05,\n",
       " 0.0001231640053447336,\n",
       " 0.0001512377493781969,\n",
       " 0.00016148228314705193,\n",
       " 8.658106526127085e-05,\n",
       " 0.0001579966046847403,\n",
       " 0.00013784630573354661,\n",
       " 0.00010250299965264276]"
      ]
     },
     "execution_count": 11,
     "metadata": {},
     "output_type": "execute_result"
    }
   ],
   "source": [
    "history"
   ]
  },
  {
   "cell_type": "code",
   "execution_count": 12,
   "metadata": {},
   "outputs": [
    {
     "name": "stderr",
     "output_type": "stream",
     "text": [
      "/home/arjun/Desktop/AI_ENV/lib/python3.10/site-packages/numpy/core/getlimits.py:500: UserWarning: The value of the smallest subnormal for <class 'numpy.float64'> type is zero.\n",
      "  setattr(self, word, getattr(machar, word).flat[0])\n",
      "/home/arjun/Desktop/AI_ENV/lib/python3.10/site-packages/numpy/core/getlimits.py:89: UserWarning: The value of the smallest subnormal for <class 'numpy.float64'> type is zero.\n",
      "  return self._float_to_str(self.smallest_subnormal)\n"
     ]
    },
    {
     "data": {
      "text/plain": [
       "[<matplotlib.lines.Line2D at 0x737cd1f388b0>]"
      ]
     },
     "execution_count": 12,
     "metadata": {},
     "output_type": "execute_result"
    },
    {
     "data": {
      "image/png": "[encoded data removed]",
      "text/plain": [
       "<Figure size 640x480 with 1 Axes>"
      ]
     },
     "metadata": {},
     "output_type": "display_data"
    }
   ],
   "source": [
    "plt.plot(history)"
   ]
  }
 ],
 "metadata": {
  "kernelspec": {
   "display_name": "AI_ENV",
   "language": "python",
   "name": "python3"
  },
  "language_info": {
   "codemirror_mode": {
    "name": "ipython",
    "version": 3
   },
   "file_extension": ".py",
   "mimetype": "text/x-python",
   "name": "python",
   "nbconvert_exporter": "python",
   "pygments_lexer": "ipython3",
   "version": "3.10.12"
  }
 },
 "nbformat": 4,
 "nbformat_minor": 2
}
