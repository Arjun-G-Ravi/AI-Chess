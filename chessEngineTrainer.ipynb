{
 "cells": [
  {
   "cell_type": "code",
   "execution_count": 1,
   "metadata": {},
   "outputs": [],
   "source": [
    "import torch\n",
    "import torch.nn as nn\n",
    "import pandas as pd\n",
    "from chessEngine import ChessEncoder, MLPEngine\n",
    "import matplotlib.pyplot as plt\n",
    "from torch.optim.lr_scheduler import LambdaLR\n",
    "from print_color import print\n",
    "import wandb\n",
    "import torch._dynamo\n",
    "torch._dynamo.config.suppress_errors = True\n",
    "torch.set_float32_matmul_precision('high')\n"
   ]
  },
  {
   "cell_type": "markdown",
   "metadata": {},
   "source": [
    "# Preprocessing"
   ]
  },
  {
   "cell_type": "code",
   "execution_count": 2,
   "metadata": {},
   "outputs": [
    {
     "data": {
      "text/html": [
       "<div>\n",
       "<style scoped>\n",
       "    .dataframe tbody tr th:only-of-type {\n",
       "        vertical-align: middle;\n",
       "    }\n",
       "\n",
       "    .dataframe tbody tr th {\n",
       "        vertical-align: top;\n",
       "    }\n",
       "\n",
       "    .dataframe thead th {\n",
       "        text-align: right;\n",
       "    }\n",
       "</style>\n",
       "<table border=\"1\" class=\"dataframe\">\n",
       "  <thead>\n",
       "    <tr style=\"text-align: right;\">\n",
       "      <th></th>\n",
       "      <th>fen</th>\n",
       "      <th>score</th>\n",
       "    </tr>\n",
       "  </thead>\n",
       "  <tbody>\n",
       "    <tr>\n",
       "      <th>0</th>\n",
       "      <td>5rk1/pb1pnppp/3Q2q1/b3P3/2B5/5N2/P4PPP/R4RK1 w...</td>\n",
       "      <td>+276</td>\n",
       "    </tr>\n",
       "    <tr>\n",
       "      <th>1</th>\n",
       "      <td>b1r5/3nk2p/R7/4p1p1/1PN1P3/2BP4/7P/6K1 w - - 8 59</td>\n",
       "      <td>+451</td>\n",
       "    </tr>\n",
       "    <tr>\n",
       "      <th>2</th>\n",
       "      <td>5k2/5p2/3p2p1/2p4q/p1P5/P3P2K/5QP1/3R4 w - - 1 34</td>\n",
       "      <td>-317</td>\n",
       "    </tr>\n",
       "    <tr>\n",
       "      <th>3</th>\n",
       "      <td>r5k1/pp2qrpp/4Pp2/2bp4/2p2P2/2Q5/PP4KP/nNB1R3 ...</td>\n",
       "      <td>-594</td>\n",
       "    </tr>\n",
       "    <tr>\n",
       "      <th>4</th>\n",
       "      <td>2nk3r/2p3pp/3p1p2/P2Q4/3P4/q4N2/4RKP1/8 w - - ...</td>\n",
       "      <td>+281</td>\n",
       "    </tr>\n",
       "    <tr>\n",
       "      <th>...</th>\n",
       "      <td>...</td>\n",
       "      <td>...</td>\n",
       "    </tr>\n",
       "    <tr>\n",
       "      <th>30005</th>\n",
       "      <td>8/p2r4/Pp2k3/1P3Rpp/6p1/3K2P1/7P/8 w - - 4 48</td>\n",
       "      <td>+23</td>\n",
       "    </tr>\n",
       "    <tr>\n",
       "      <th>30006</th>\n",
       "      <td>4R1r1/1q3p1k/p2B1p1p/2p2P2/2Pp4/PP5P/5Rb1/3Q2K...</td>\n",
       "      <td>+429</td>\n",
       "    </tr>\n",
       "    <tr>\n",
       "      <th>30007</th>\n",
       "      <td>r1bq1rk1/pp2npbp/2npp1p1/2p5/2P5/P1NP1NP1/1P2P...</td>\n",
       "      <td>+24</td>\n",
       "    </tr>\n",
       "    <tr>\n",
       "      <th>30008</th>\n",
       "      <td>rn1qk2r/pp3pp1/2pbpnp1/8/3P4/2P1B1N1/PP3PPP/R2...</td>\n",
       "      <td>-62</td>\n",
       "    </tr>\n",
       "    <tr>\n",
       "      <th>30009</th>\n",
       "      <td>6rk/2q3p1/5pQp/R7/4P3/7P/5PPK/8 w - - 3 39</td>\n",
       "      <td>-501</td>\n",
       "    </tr>\n",
       "  </tbody>\n",
       "</table>\n",
       "<p>30010 rows × 2 columns</p>\n",
       "</div>"
      ],
      "text/plain": [
       "                                                     fen score\n",
       "0      5rk1/pb1pnppp/3Q2q1/b3P3/2B5/5N2/P4PPP/R4RK1 w...  +276\n",
       "1      b1r5/3nk2p/R7/4p1p1/1PN1P3/2BP4/7P/6K1 w - - 8 59  +451\n",
       "2      5k2/5p2/3p2p1/2p4q/p1P5/P3P2K/5QP1/3R4 w - - 1 34  -317\n",
       "3      r5k1/pp2qrpp/4Pp2/2bp4/2p2P2/2Q5/PP4KP/nNB1R3 ...  -594\n",
       "4      2nk3r/2p3pp/3p1p2/P2Q4/3P4/q4N2/4RKP1/8 w - - ...  +281\n",
       "...                                                  ...   ...\n",
       "30005      8/p2r4/Pp2k3/1P3Rpp/6p1/3K2P1/7P/8 w - - 4 48   +23\n",
       "30006  4R1r1/1q3p1k/p2B1p1p/2p2P2/2Pp4/PP5P/5Rb1/3Q2K...  +429\n",
       "30007  r1bq1rk1/pp2npbp/2npp1p1/2p5/2P5/P1NP1NP1/1P2P...   +24\n",
       "30008  rn1qk2r/pp3pp1/2pbpnp1/8/3P4/2P1B1N1/PP3PPP/R2...   -62\n",
       "30009         6rk/2q3p1/5pQp/R7/4P3/7P/5PPK/8 w - - 3 39  -501\n",
       "\n",
       "[30010 rows x 2 columns]"
      ]
     },
     "execution_count": 2,
     "metadata": {},
     "output_type": "execute_result"
    }
   ],
   "source": [
    "df = pd.read_csv('data/chessDataFinal.csv')[:30010]\n",
    "df"
   ]
  },
  {
   "cell_type": "code",
   "execution_count": 3,
   "metadata": {},
   "outputs": [],
   "source": [
    "encoder_object = ChessEncoder()"
   ]
  },
  {
   "cell_type": "code",
   "execution_count": 4,
   "metadata": {},
   "outputs": [],
   "source": [
    "fen_encodings = []\n",
    "for fen_i in df['fen']:\n",
    "    encoded_fen = encoder_object.encode_fen(fen_i)\n",
    "    fen_encodings.append(encoded_fen)"
   ]
  },
  {
   "cell_type": "code",
   "execution_count": 5,
   "metadata": {},
   "outputs": [],
   "source": [
    "X_train = torch.tensor(fen_encodings, dtype=torch.int32)"
   ]
  },
  {
   "cell_type": "code",
   "execution_count": 6,
   "metadata": {},
   "outputs": [],
   "source": [
    "score_encodings = []\n",
    "for y_i in df['score']:\n",
    "    # print(y_i)\n",
    "    encoded_score = encoder_object.encode_score(str(y_i))\n",
    "    score_encodings.append(encoded_score)\n",
    "y_train = torch.tensor(score_encodings, dtype=torch.float32)"
   ]
  },
  {
   "cell_type": "code",
   "execution_count": 7,
   "metadata": {},
   "outputs": [
    {
     "data": {
      "text/plain": [
       "(torch.Size([30010, 200]), torch.Size([30010]))"
      ]
     },
     "execution_count": 7,
     "metadata": {},
     "output_type": "execute_result"
    }
   ],
   "source": [
    "X_train.shape, y_train.shape"
   ]
  },
  {
   "cell_type": "markdown",
   "metadata": {},
   "source": [
    "# Helper Functions"
   ]
  },
  {
   "cell_type": "code",
   "execution_count": 8,
   "metadata": {},
   "outputs": [],
   "source": [
    "val_split = 10000\n",
    "test_split = 10000"
   ]
  },
  {
   "cell_type": "code",
   "execution_count": 9,
   "metadata": {},
   "outputs": [],
   "source": [
    "device = 'cuda' if torch.cuda.is_available() else 'cpu'"
   ]
  },
  {
   "cell_type": "code",
   "execution_count": 10,
   "metadata": {},
   "outputs": [],
   "source": [
    "def get_batch(X, Y, bs):\n",
    "    \n",
    "    assert isinstance(X, torch.Tensor)\n",
    "    assert isinstance(Y, torch.Tensor)\n",
    "\n",
    "    batch = torch.randint(0, len(X), (bs,))\n",
    "    x = X[batch].to(device)\n",
    "    y = Y[batch].to(device).to(torch.float32)\n",
    "    return x, y\n",
    "# b = get_batch(X, y, 64)"
   ]
  },
  {
   "cell_type": "code",
   "execution_count": 11,
   "metadata": {},
   "outputs": [],
   "source": [
    "X_val = X_train[:val_split].to(device)\n",
    "y_val = y_train[:val_split].to(device)\n",
    "X_test = X_train[val_split:val_split+test_split].to(device)\n",
    "y_test = y_train[val_split:val_split+test_split].to(device)\n",
    "X_train = X_train[val_split+test_split:]\n",
    "y_train = y_train[val_split+test_split:]"
   ]
  },
  {
   "cell_type": "markdown",
   "metadata": {},
   "source": [
    "# Training"
   ]
  },
  {
   "cell_type": "code",
   "execution_count": null,
   "metadata": {},
   "outputs": [],
   "source": [
    "# hyperparameters\n",
    "lr = 5e-2\n",
    "num_steps = 500\n",
    "warmup_steps = 30\n",
    "bs_train = 10000\n",
    "bs_validation = len(X_val) # don't change this\n",
    "if bs_train > len(X_train): bs_train = len(X_train)\n",
    "if bs_validation > len(X_train): bs_validation = len(X_train)"
   ]
  },
  {
   "cell_type": "code",
   "execution_count": 13,
   "metadata": {},
   "outputs": [
    {
     "data": {
      "text/plain": [
       "(10010, 10000)"
      ]
     },
     "execution_count": 13,
     "metadata": {},
     "output_type": "execute_result"
    }
   ],
   "source": [
    "len(X_train), len(X_val)"
   ]
  },
  {
   "cell_type": "code",
   "execution_count": 14,
   "metadata": {},
   "outputs": [],
   "source": [
    "model = MLPEngine(embedding_dim=64, bs_train = bs_train, bs_eval=bs_validation).to(device)\n",
    "loss_category = nn.MSELoss()\n",
    "optimiser = torch.optim.AdamW(\n",
    "            model.parameters(), \n",
    "            lr = lr,\n",
    "            betas=(0.9, 0.999),\n",
    "            eps=1e-3,\n",
    "            weight_decay=1e-5)\n",
    "\n",
    "# Define warm-up and decay\n",
    "def lr_lambda(epoch):\n",
    "    if epoch < warmup_steps:  \n",
    "        return epoch / warmup_steps\n",
    "    else:  # Exponential decay after warm-up\n",
    "        return 0.99 ** (epoch - warmup_steps)\n",
    "\n",
    "scheduler = LambdaLR(optimiser, lr_lambda)\n",
    "model.compile()\n",
    "train_history = {}\n",
    "val_history = {}\n",
    "start_step = 0"
   ]
  },
  {
   "cell_type": "code",
   "execution_count": 15,
   "metadata": {},
   "outputs": [],
   "source": [
    "# if e\n",
    "# run = wandb.init(project=\"chessAI\")\n",
    "# # run.config = {\"epochs\": num_steps, \"learning_rate\": lr}\n",
    "# wandb.watch(model)"
   ]
  },
  {
   "cell_type": "code",
   "execution_count": 16,
   "metadata": {},
   "outputs": [
    {
     "name": "stdout",
     "output_type": "stream",
     "text": [
      "1 :  3773829.0\u001b[0m\n",
      "2 :  3808593.5\u001b[0m\n",
      "3 :  3464052.75\u001b[0m\n",
      "4 :  3483315.25\u001b[0m\n",
      "5 :  3555078.0\u001b[0m\n",
      "6 :  3341420.25\u001b[0m\n",
      "7 :  3521860.25\u001b[0m\n",
      "8 :  3663977.5\u001b[0m\n",
      "9 :  3273047.5\u001b[0m\n",
      "10 :  3319461.75\u001b[0m\n",
      "11 :  3322428.5\u001b[0m\n",
      "12 :  3606287.0\u001b[0m\n",
      "13 :  3554004.0\u001b[0m\n",
      "14 :  3613184.0\u001b[0m\n",
      "15 :  3314952.5\u001b[0m\n",
      "16 :  3323704.0\u001b[0m\n",
      "17 :  3083755.0\u001b[0m\n",
      "18 :  3172055.25\u001b[0m\n",
      "19 :  3316366.75\u001b[0m\n",
      "20 :  3290191.0\u001b[0m\n",
      "21 :  3397156.25\u001b[0m\n",
      "22 :  3288605.75\u001b[0m\n",
      "23 :  3108852.75\u001b[0m\n",
      "24 :  3339840.75\u001b[0m\n",
      "25 :  3190891.0\u001b[0m\n",
      "26 :  3166343.5\u001b[0m\n",
      "27 :  2948865.5\u001b[0m\n",
      "28 :  3280490.75\u001b[0m\n",
      "29 :  3018690.0\u001b[0m\n",
      "30 :  2914480.75\u001b[0m\n",
      "31 :  3314755.5\u001b[0m\n",
      "32 :  2988835.0\u001b[0m\n",
      "33 :  2604864.75\u001b[0m\n",
      "34 :  2815401.75\u001b[0m\n",
      "35 :  2597606.25\u001b[0m\n",
      "36 :  2913638.0\u001b[0m\n",
      "37 :  2488358.0\u001b[0m\n",
      "38 :  2855817.5\u001b[0m\n",
      "39 :  2154749.0\u001b[0m\n",
      "40 :  2268375.75\u001b[0m\n",
      "41 :  2597502.5\u001b[0m\n",
      "42 :  2184856.0\u001b[0m\n",
      "43 :  2518850.0\u001b[0m\n",
      "44 :  2201898.25\u001b[0m\n",
      "45 :  2296036.5\u001b[0m\n",
      "46 :  2078137.875\u001b[0m\n",
      "47 :  1992094.625\u001b[0m\n",
      "48 :  1888810.5\u001b[0m\n",
      "49 :  1908190.625\u001b[0m\n",
      "50 :  1789821.875\u001b[0m\n",
      "51 :  1672402.75\u001b[0m\n",
      "52 :  1555316.0\u001b[0m\n",
      "53 :  1401853.0\u001b[0m\n",
      "54 :  1557876.25\u001b[0m\n",
      "55 :  1300920.125\u001b[0m\n",
      "56 :  1152759.625\u001b[0m\n",
      "57 :  988958.0625\u001b[0m\n",
      "58 :  1243690.125\u001b[0m\n",
      "59 :  1059151.375\u001b[0m\n",
      "60 :  1120600.5\u001b[0m\n",
      "61 :  1080228.25\u001b[0m\n",
      "62 :  994452.25\u001b[0m\n",
      "63 :  884254.5\u001b[0m\n",
      "64 :  841724.0\u001b[0m\n",
      "65 :  834226.0625\u001b[0m\n",
      "66 :  755857.5625\u001b[0m\n",
      "67 :  615541.375\u001b[0m\n",
      "68 :  637984.875\u001b[0m\n",
      "69 :  569377.0625\u001b[0m\n",
      "70 :  592500.4375\u001b[0m\n",
      "71 :  482778.5625\u001b[0m\n",
      "72 :  447216.46875\u001b[0m\n",
      "73 :  450743.21875\u001b[0m\n",
      "74 :  341292.78125\u001b[0m\n",
      "75 :  356291.96875\u001b[0m\n",
      "76 :  278159.3125\u001b[0m\n",
      "77 :  276325.84375\u001b[0m\n",
      "78 :  276741.375\u001b[0m\n",
      "79 :  258478.515625\u001b[0m\n",
      "80 :  236484.453125\u001b[0m\n",
      "81 :  272781.5625\u001b[0m\n",
      "82 :  207156.625\u001b[0m\n",
      "83 :  163738.359375\u001b[0m\n",
      "84 :  201684.421875\u001b[0m\n",
      "85 :  182589.078125\u001b[0m\n",
      "86 :  125304.703125\u001b[0m\n",
      "87 :  147282.6875\u001b[0m\n",
      "88 :  130799.8828125\u001b[0m\n",
      "89 :  100480.1328125\u001b[0m\n",
      "90 :  114759.6484375\u001b[0m\n",
      "91 :  121769.984375\u001b[0m\n",
      "92 :  131662.796875\u001b[0m\n",
      "93 :  77893.96875\u001b[0m\n",
      "94 :  75617.203125\u001b[0m\n",
      "95 :  101958.5546875\u001b[0m\n",
      "96 :  114206.15625\u001b[0m\n",
      "97 :  77469.359375\u001b[0m\n",
      "98 :  74000.4375\u001b[0m\n",
      "99 :  81209.53125\u001b[0m\n",
      "100 :  68122.53125\u001b[0m\n",
      "\u001b[31m100: 3554992.0 (Validation)\u001b[0m\n",
      "101 :  88439.9375\u001b[0m\n",
      "102 :  64362.3671875\u001b[0m\n",
      "103 :  72391.09375\u001b[0m\n",
      "104 :  66553.984375\u001b[0m\n",
      "105 :  72065.5625\u001b[0m\n",
      "106 :  60067.984375\u001b[0m\n",
      "107 :  61261.1875\u001b[0m\n",
      "108 :  53685.14453125\u001b[0m\n",
      "109 :  59579.93359375\u001b[0m\n",
      "110 :  79024.3671875\u001b[0m\n",
      "111 :  57534.4765625\u001b[0m\n",
      "112 :  62493.83984375\u001b[0m\n",
      "113 :  57507.76953125\u001b[0m\n",
      "114 :  57260.58203125\u001b[0m\n",
      "115 :  57722.8671875\u001b[0m\n",
      "116 :  49848.0\u001b[0m\n",
      "117 :  52024.8671875\u001b[0m\n",
      "118 :  52283.11328125\u001b[0m\n",
      "119 :  49961.98828125\u001b[0m\n",
      "120 :  47807.80859375\u001b[0m\n",
      "121 :  46490.3515625\u001b[0m\n",
      "122 :  47556.8359375\u001b[0m\n",
      "123 :  47747.36328125\u001b[0m\n",
      "124 :  46218.7421875\u001b[0m\n",
      "125 :  49035.5703125\u001b[0m\n",
      "126 :  45725.625\u001b[0m\n",
      "127 :  39978.77734375\u001b[0m\n",
      "128 :  47160.765625\u001b[0m\n",
      "129 :  38652.86328125\u001b[0m\n",
      "130 :  48652.1953125\u001b[0m\n",
      "131 :  48133.39453125\u001b[0m\n",
      "132 :  40594.6015625\u001b[0m\n",
      "133 :  47915.0625\u001b[0m\n",
      "134 :  49299.375\u001b[0m\n",
      "135 :  48470.88671875\u001b[0m\n",
      "136 :  44488.58984375\u001b[0m\n",
      "137 :  42704.71484375\u001b[0m\n",
      "138 :  46385.55859375\u001b[0m\n",
      "139 :  40911.59765625\u001b[0m\n",
      "140 :  41419.58203125\u001b[0m\n",
      "141 :  43601.3828125\u001b[0m\n",
      "142 :  40106.2421875\u001b[0m\n",
      "143 :  40974.68359375\u001b[0m\n",
      "144 :  39134.61328125\u001b[0m\n",
      "145 :  42725.29296875\u001b[0m\n",
      "146 :  45975.40234375\u001b[0m\n",
      "147 :  35712.81640625\u001b[0m\n",
      "148 :  39463.0078125\u001b[0m\n",
      "149 :  36873.6484375\u001b[0m\n",
      "150 :  49709.2578125\u001b[0m\n",
      "151 :  35407.96484375\u001b[0m\n",
      "152 :  36836.29296875\u001b[0m\n",
      "153 :  37062.09765625\u001b[0m\n",
      "154 :  47649.2109375\u001b[0m\n",
      "155 :  36266.109375\u001b[0m\n",
      "156 :  35174.8984375\u001b[0m\n",
      "157 :  37706.59375\u001b[0m\n",
      "158 :  39801.5390625\u001b[0m\n",
      "159 :  37580.00390625\u001b[0m\n",
      "160 :  37126.37890625\u001b[0m\n",
      "161 :  45172.07421875\u001b[0m\n",
      "162 :  33982.1484375\u001b[0m\n",
      "163 :  34195.51953125\u001b[0m\n",
      "164 :  37823.7734375\u001b[0m\n",
      "165 :  73198.3515625\u001b[0m\n",
      "166 :  39695.66796875\u001b[0m\n",
      "167 :  38050.34765625\u001b[0m\n",
      "168 :  38245.4140625\u001b[0m\n",
      "169 :  32749.78515625\u001b[0m\n",
      "170 :  33940.74609375\u001b[0m\n",
      "171 :  32560.146484375\u001b[0m\n",
      "172 :  28820.171875\u001b[0m\n",
      "173 :  33171.5703125\u001b[0m\n",
      "174 :  34765.4921875\u001b[0m\n",
      "175 :  36009.96875\u001b[0m\n",
      "176 :  33395.578125\u001b[0m\n",
      "177 :  32068.29296875\u001b[0m\n",
      "178 :  37614.91015625\u001b[0m\n",
      "179 :  36523.23046875\u001b[0m\n",
      "180 :  36314.66015625\u001b[0m\n",
      "181 :  30989.310546875\u001b[0m\n",
      "182 :  30475.255859375\u001b[0m\n",
      "183 :  32554.50390625\u001b[0m\n",
      "184 :  28511.650390625\u001b[0m\n",
      "185 :  29721.279296875\u001b[0m\n",
      "186 :  33299.26953125\u001b[0m\n",
      "187 :  31342.1171875\u001b[0m\n",
      "188 :  41943.71875\u001b[0m\n",
      "189 :  29159.365234375\u001b[0m\n",
      "190 :  32449.25390625\u001b[0m\n",
      "191 :  28588.65234375\u001b[0m\n",
      "192 :  35220.9609375\u001b[0m\n",
      "193 :  33295.2109375\u001b[0m\n",
      "194 :  39629.3671875\u001b[0m\n",
      "195 :  36271.62109375\u001b[0m\n",
      "196 :  31344.802734375\u001b[0m\n",
      "197 :  31777.841796875\u001b[0m\n",
      "198 :  30824.501953125\u001b[0m\n",
      "199 :  31043.400390625\u001b[0m\n",
      "200 :  30916.328125\u001b[0m\n",
      "\u001b[31m200: 3418869.75 (Validation)\u001b[0m\n",
      "201 :  28355.451171875\u001b[0m\n",
      "202 :  31037.2734375\u001b[0m\n",
      "203 :  30687.013671875\u001b[0m\n",
      "204 :  33654.078125\u001b[0m\n",
      "205 :  31374.4921875\u001b[0m\n",
      "206 :  38705.8671875\u001b[0m\n",
      "207 :  28527.595703125\u001b[0m\n",
      "208 :  32984.2109375\u001b[0m\n",
      "209 :  32356.9375\u001b[0m\n",
      "210 :  28565.294921875\u001b[0m\n",
      "211 :  31412.115234375\u001b[0m\n",
      "212 :  35496.5859375\u001b[0m\n",
      "213 :  30441.259765625\u001b[0m\n",
      "214 :  41103.1953125\u001b[0m\n",
      "215 :  28982.38671875\u001b[0m\n",
      "216 :  31177.03515625\u001b[0m\n",
      "217 :  40376.95703125\u001b[0m\n",
      "218 :  26868.341796875\u001b[0m\n",
      "219 :  27169.048828125\u001b[0m\n",
      "220 :  29518.451171875\u001b[0m\n",
      "221 :  27023.912109375\u001b[0m\n",
      "222 :  33664.3828125\u001b[0m\n",
      "223 :  32010.40625\u001b[0m\n",
      "224 :  26101.478515625\u001b[0m\n",
      "225 :  32262.0\u001b[0m\n",
      "226 :  32307.650390625\u001b[0m\n",
      "227 :  36414.39453125\u001b[0m\n",
      "228 :  29500.7421875\u001b[0m\n",
      "229 :  33836.640625\u001b[0m\n",
      "230 :  28225.029296875\u001b[0m\n",
      "231 :  30988.58203125\u001b[0m\n",
      "232 :  31212.046875\u001b[0m\n",
      "233 :  28590.24609375\u001b[0m\n",
      "234 :  28960.658203125\u001b[0m\n",
      "235 :  28846.10546875\u001b[0m\n",
      "236 :  26939.73046875\u001b[0m\n",
      "237 :  31894.24609375\u001b[0m\n",
      "238 :  30330.779296875\u001b[0m\n",
      "239 :  26974.501953125\u001b[0m\n",
      "240 :  26912.451171875\u001b[0m\n",
      "241 :  29236.978515625\u001b[0m\n",
      "242 :  28182.716796875\u001b[0m\n",
      "243 :  39763.890625\u001b[0m\n",
      "244 :  27319.4296875\u001b[0m\n",
      "245 :  31739.33984375\u001b[0m\n",
      "246 :  31345.03515625\u001b[0m\n",
      "247 :  28377.5\u001b[0m\n",
      "248 :  25951.013671875\u001b[0m\n",
      "249 :  30032.328125\u001b[0m\n",
      "250 :  24445.2578125\u001b[0m\n",
      "251 :  30154.3984375\u001b[0m\n",
      "252 :  29848.22265625\u001b[0m\n",
      "253 :  29697.65625\u001b[0m\n",
      "254 :  25399.701171875\u001b[0m\n",
      "255 :  26207.435546875\u001b[0m\n",
      "256 :  36048.9375\u001b[0m\n",
      "257 :  28772.716796875\u001b[0m\n",
      "258 :  36380.3515625\u001b[0m\n",
      "259 :  28104.01171875\u001b[0m\n",
      "260 :  31522.10546875\u001b[0m\n",
      "261 :  30334.447265625\u001b[0m\n",
      "262 :  25289.158203125\u001b[0m\n",
      "263 :  26850.091796875\u001b[0m\n",
      "264 :  25153.990234375\u001b[0m\n",
      "265 :  32187.3359375\u001b[0m\n",
      "266 :  25573.419921875\u001b[0m\n",
      "267 :  31187.859375\u001b[0m\n",
      "268 :  26892.537109375\u001b[0m\n",
      "269 :  26748.47265625\u001b[0m\n",
      "270 :  32036.50390625\u001b[0m\n",
      "271 :  26557.02734375\u001b[0m\n",
      "272 :  29632.58203125\u001b[0m\n",
      "273 :  30220.58203125\u001b[0m\n",
      "274 :  24966.517578125\u001b[0m\n",
      "275 :  24107.9375\u001b[0m\n",
      "276 :  25125.888671875\u001b[0m\n",
      "277 :  25747.689453125\u001b[0m\n",
      "278 :  28072.171875\u001b[0m\n",
      "279 :  26582.439453125\u001b[0m\n",
      "280 :  26439.294921875\u001b[0m\n",
      "281 :  25743.71484375\u001b[0m\n",
      "282 :  32554.9375\u001b[0m\n",
      "283 :  36096.6953125\u001b[0m\n",
      "284 :  32237.560546875\u001b[0m\n",
      "285 :  30811.419921875\u001b[0m\n",
      "286 :  24383.095703125\u001b[0m\n"
     ]
    },
    {
     "ename": "KeyboardInterrupt",
     "evalue": "",
     "output_type": "error",
     "traceback": [
      "\u001b[0;31m---------------------------------------------------------------------------\u001b[0m",
      "\u001b[0;31mKeyboardInterrupt\u001b[0m                         Traceback (most recent call last)",
      "Cell \u001b[0;32mIn[16], line 14\u001b[0m\n\u001b[1;32m     12\u001b[0m scheduler\u001b[38;5;241m.\u001b[39mstep()\n\u001b[1;32m     13\u001b[0m \u001b[38;5;66;03m# wandb.log({\"Training Loss\": loss.item()})\u001b[39;00m\n\u001b[0;32m---> 14\u001b[0m \u001b[38;5;28mprint\u001b[39m(tot_step, \u001b[38;5;124m'\u001b[39m\u001b[38;5;124m: \u001b[39m\u001b[38;5;124m'\u001b[39m,\u001b[43mloss\u001b[49m\u001b[38;5;241;43m.\u001b[39;49m\u001b[43mitem\u001b[49m\u001b[43m(\u001b[49m\u001b[43m)\u001b[49m)\n\u001b[1;32m     16\u001b[0m \u001b[38;5;28;01mif\u001b[39;00m tot_step \u001b[38;5;241m%\u001b[39m \u001b[38;5;241m100\u001b[39m \u001b[38;5;241m==\u001b[39m \u001b[38;5;241m0\u001b[39m:\n\u001b[1;32m     17\u001b[0m     \u001b[38;5;66;03m# validation phase\u001b[39;00m\n\u001b[1;32m     18\u001b[0m     model\u001b[38;5;241m.\u001b[39meval()\n",
      "\u001b[0;31mKeyboardInterrupt\u001b[0m: "
     ]
    }
   ],
   "source": [
    "model.train()\n",
    "for step_i in range(1, num_steps+1):\n",
    "    tot_step = step_i + start_step\n",
    "    optimiser.zero_grad()\n",
    "    x_batch, y_batch = get_batch(X_train, y_train, bs_train) \n",
    "    # print(x_batch.shape, y_batch.shape)\n",
    "    y_pred = model(x_batch).view(bs_train)\n",
    "    loss = loss_category(y_pred, y_batch)\n",
    "    train_history[tot_step] = loss.item()\n",
    "    loss.backward()\n",
    "    optimiser.step()\n",
    "    scheduler.step()\n",
    "    # wandb.log({\"Training Loss\": loss.item()})\n",
    "    print(tot_step, ': ',loss.item())\n",
    "\n",
    "    if tot_step % 100 == 0:\n",
    "        # validation phase\n",
    "        model.eval()\n",
    "        y_pred = model(X_val).view(bs_validation)\n",
    "        # print(X_val.shape, y_pred.shape)\n",
    "        loss = loss_category(y_pred, y_val)\n",
    "        val_history[tot_step] = loss.item()\n",
    "        print(f'{tot_step}: {loss.item()} (Validation)', color='r')\n",
    "        # wandb.log({\"Validation Loss\": loss.item()})\n",
    "        model.train()\n",
    "\n",
    "\n",
    "start_step += num_steps"
   ]
  },
  {
   "cell_type": "code",
   "execution_count": null,
   "metadata": {},
   "outputs": [],
   "source": [
    "torch.save(model.state_dict(), 'saves/model3.pt')"
   ]
  },
  {
   "cell_type": "code",
   "execution_count": null,
   "metadata": {},
   "outputs": [
    {
     "data": {
      "image/png": "[encoded data removed]",
      "text/plain": [
       "<Figure size 640x480 with 1 Axes>"
      ]
     },
     "metadata": {},
     "output_type": "display_data"
    }
   ],
   "source": [
    "plt.plot(list(train_history.keys())[100:], list(train_history.values())[100:], label='train')\n",
    "# plt.plot(val_history.keys(), val_history.values(), label='validation')\n",
    "plt.legend()\n",
    "plt.show()"
   ]
  },
  {
   "cell_type": "code",
   "execution_count": null,
   "metadata": {},
   "outputs": [
    {
     "data": {
      "image/png": "[encoded data removed]",
      "text/plain": [
       "<Figure size 640x480 with 1 Axes>"
      ]
     },
     "metadata": {},
     "output_type": "display_data"
    }
   ],
   "source": [
    "plt.plot(list(train_history.keys()), list(train_history.values()), label='train')\n",
    "plt.plot(val_history.keys(), val_history.values(), label='validation')\n",
    "plt.legend()\n",
    "plt.show()"
   ]
  },
  {
   "cell_type": "code",
   "execution_count": null,
   "metadata": {},
   "outputs": [
    {
     "data": {
      "text/plain": [
       "'\\n# My results\\nAt relu, model is stuck around 25k with 3x1000 steps with xavier\\nAT relu, moedl went to 9k and then exploded at 3x1000 steps with kaiming; then at 14k\\nAt gelu, model is stuck atound 10k\\n\\nAdam is better than AdamW for this task\\n'"
      ]
     },
     "execution_count": 20,
     "metadata": {},
     "output_type": "execute_result"
    }
   ],
   "source": [
    "'''\n",
    "# My results\n",
    "At relu, model is stuck around 25k with 3x1000 steps with xavier\n",
    "AT relu, moedl went to 9k and then exploded at 3x1000 steps with kaiming; then at 14k\n",
    "At gelu, model is stuck atound 10k\n",
    "\n",
    "Adam is better than AdamW for this task\n",
    "'''"
   ]
  },
  {
   "cell_type": "markdown",
   "metadata": {},
   "source": [
    "# TO DO"
   ]
  },
  {
   "cell_type": "markdown",
   "metadata": {},
   "source": [
    "- [x] do inference, and run a partially trained model with the GUI intact\n",
    "- [x] **find a way to fix the fact that our model is giving integer loss\n",
    "- [x] **Fix the bug in initialisation\n",
    "- [ ] implement weights and biases or tensorboard \n",
    "- [ ] improve the model\n",
    "  - [x] get a better/ bigger dataset\n",
    "  - [ ] hyperparameter and architecture\n",
    "    - [x] better encoding\n",
    "    - [ ] residual connections\n",
    "    - [ ] try adamW after tuning b1 and b2\n",
    "    - [x] increase embedding dim\n",
    "    - [x] increase neurons in the layers\n",
    "    - [x] increase layers in the network\n",
    "    - [x] change loss function (maybe)\n",
    "    - [ ] try diff learning rate scheduler(trapeziodal)\n",
    "    - [ ] Add regularisation\n",
    "      - [ ] l1,l2\n",
    "      - [x] dropout\n",
    "    - [x] Better initialisation\n",
    "    - [x] diff optimisation algorithm"
   ]
  },
  {
   "cell_type": "markdown",
   "metadata": {},
   "source": [
    "# Note"
   ]
  },
  {
   "cell_type": "markdown",
   "metadata": {},
   "source": [
    "My model is overfitting. What can i do?\n",
    "- potential bug in val loss calculation\n",
    "- regualisation\n",
    "  - dropout\n",
    "  - l1, l2\n",
    "- make the model smaller, length and breadth\n",
    "- \n",
    "- increase dataset, increase variety"
   ]
  }
 ],
 "metadata": {
  "kernelspec": {
   "display_name": "AI_ENV",
   "language": "python",
   "name": "python3"
  },
  "language_info": {
   "codemirror_mode": {
    "name": "ipython",
    "version": 3
   },
   "file_extension": ".py",
   "mimetype": "text/x-python",
   "name": "python",
   "nbconvert_exporter": "python",
   "pygments_lexer": "ipython3",
   "version": "3.10.12"
  }
 },
 "nbformat": 4,
 "nbformat_minor": 2
}
