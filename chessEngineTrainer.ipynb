{
 "cells": [
  {
   "cell_type": "code",
   "execution_count": null,
   "metadata": {},
   "outputs": [],
   "source": [
    "import torch\n",
    "import torch.nn as nn\n",
    "import pandas as pd\n",
    "from chessEngine import ChessEncoder, MLPEngine\n",
    "import matplotlib.pyplot as plt\n",
    "from torch.optim.lr_scheduler import LambdaLR\n",
    "from print_color import print\n",
    "import wandb\n",
    "import torch._dynamo\n",
    "torch._dynamo.config.suppress_errors = True\n",
    "torch.set_float32_matmul_precision('high')\n"
   ]
  },
  {
   "cell_type": "markdown",
   "metadata": {},
   "source": [
    "# Preprocessing"
   ]
  },
  {
   "cell_type": "code",
   "execution_count": 2,
   "metadata": {},
   "outputs": [
    {
     "data": {
      "text/html": [
       "<div>\n",
       "<style scoped>\n",
       "    .dataframe tbody tr th:only-of-type {\n",
       "        vertical-align: middle;\n",
       "    }\n",
       "\n",
       "    .dataframe tbody tr th {\n",
       "        vertical-align: top;\n",
       "    }\n",
       "\n",
       "    .dataframe thead th {\n",
       "        text-align: right;\n",
       "    }\n",
       "</style>\n",
       "<table border=\"1\" class=\"dataframe\">\n",
       "  <thead>\n",
       "    <tr style=\"text-align: right;\">\n",
       "      <th></th>\n",
       "      <th>fen</th>\n",
       "      <th>score</th>\n",
       "    </tr>\n",
       "  </thead>\n",
       "  <tbody>\n",
       "    <tr>\n",
       "      <th>0</th>\n",
       "      <td>5rk1/pb1pnppp/3Q2q1/b3P3/2B5/5N2/P4PPP/R4RK1 w...</td>\n",
       "      <td>+276</td>\n",
       "    </tr>\n",
       "    <tr>\n",
       "      <th>1</th>\n",
       "      <td>b1r5/3nk2p/R7/4p1p1/1PN1P3/2BP4/7P/6K1 w - - 8 59</td>\n",
       "      <td>+451</td>\n",
       "    </tr>\n",
       "    <tr>\n",
       "      <th>2</th>\n",
       "      <td>5k2/5p2/3p2p1/2p4q/p1P5/P3P2K/5QP1/3R4 w - - 1 34</td>\n",
       "      <td>-317</td>\n",
       "    </tr>\n",
       "    <tr>\n",
       "      <th>3</th>\n",
       "      <td>r5k1/pp2qrpp/4Pp2/2bp4/2p2P2/2Q5/PP4KP/nNB1R3 ...</td>\n",
       "      <td>-594</td>\n",
       "    </tr>\n",
       "    <tr>\n",
       "      <th>4</th>\n",
       "      <td>2nk3r/2p3pp/3p1p2/P2Q4/3P4/q4N2/4RKP1/8 w - - ...</td>\n",
       "      <td>+281</td>\n",
       "    </tr>\n",
       "    <tr>\n",
       "      <th>...</th>\n",
       "      <td>...</td>\n",
       "      <td>...</td>\n",
       "    </tr>\n",
       "    <tr>\n",
       "      <th>49995</th>\n",
       "      <td>r7/2q2PkB/p2b4/3p3r/bp5R/8/PPPQ3P/2KR4 b - - 0 26</td>\n",
       "      <td>-95</td>\n",
       "    </tr>\n",
       "    <tr>\n",
       "      <th>49996</th>\n",
       "      <td>8/7R/8/8/P2p1p2/P2k4/r7/5K2 b - - 4 52</td>\n",
       "      <td>-591</td>\n",
       "    </tr>\n",
       "    <tr>\n",
       "      <th>49997</th>\n",
       "      <td>4RQ2/1p4kp/p5p1/3p2q1/nP6/7P/2r5/7K b - - 3 38</td>\n",
       "      <td>#+0</td>\n",
       "    </tr>\n",
       "    <tr>\n",
       "      <th>49998</th>\n",
       "      <td>3r1rk1/bb4pp/p1nqp3/1p3p1Q/5N2/1N2P1P1/PP3PBP/...</td>\n",
       "      <td>+117</td>\n",
       "    </tr>\n",
       "    <tr>\n",
       "      <th>49999</th>\n",
       "      <td>2r1r1k1/3q1p1p/3p1Qp1/1p1P4/p7/P1P4P/1P4P1/4RR...</td>\n",
       "      <td>0</td>\n",
       "    </tr>\n",
       "  </tbody>\n",
       "</table>\n",
       "<p>50000 rows × 2 columns</p>\n",
       "</div>"
      ],
      "text/plain": [
       "                                                     fen score\n",
       "0      5rk1/pb1pnppp/3Q2q1/b3P3/2B5/5N2/P4PPP/R4RK1 w...  +276\n",
       "1      b1r5/3nk2p/R7/4p1p1/1PN1P3/2BP4/7P/6K1 w - - 8 59  +451\n",
       "2      5k2/5p2/3p2p1/2p4q/p1P5/P3P2K/5QP1/3R4 w - - 1 34  -317\n",
       "3      r5k1/pp2qrpp/4Pp2/2bp4/2p2P2/2Q5/PP4KP/nNB1R3 ...  -594\n",
       "4      2nk3r/2p3pp/3p1p2/P2Q4/3P4/q4N2/4RKP1/8 w - - ...  +281\n",
       "...                                                  ...   ...\n",
       "49995  r7/2q2PkB/p2b4/3p3r/bp5R/8/PPPQ3P/2KR4 b - - 0 26   -95\n",
       "49996             8/7R/8/8/P2p1p2/P2k4/r7/5K2 b - - 4 52  -591\n",
       "49997     4RQ2/1p4kp/p5p1/3p2q1/nP6/7P/2r5/7K b - - 3 38   #+0\n",
       "49998  3r1rk1/bb4pp/p1nqp3/1p3p1Q/5N2/1N2P1P1/PP3PBP/...  +117\n",
       "49999  2r1r1k1/3q1p1p/3p1Qp1/1p1P4/p7/P1P4P/1P4P1/4RR...     0\n",
       "\n",
       "[50000 rows x 2 columns]"
      ]
     },
     "execution_count": 2,
     "metadata": {},
     "output_type": "execute_result"
    }
   ],
   "source": [
    "df = pd.read_csv('data/chessDataFinal.csv')[:50000] # This shuffles the rows\n",
    "df"
   ]
  },
  {
   "cell_type": "code",
   "execution_count": 3,
   "metadata": {},
   "outputs": [],
   "source": [
    "encoder_object = ChessEncoder()"
   ]
  },
  {
   "cell_type": "code",
   "execution_count": 4,
   "metadata": {},
   "outputs": [],
   "source": [
    "fen_encodings = []\n",
    "for fen_i in df['fen']:\n",
    "    encoded_fen = encoder_object.encode_fen(fen_i)\n",
    "    fen_encodings.append(encoded_fen)"
   ]
  },
  {
   "cell_type": "code",
   "execution_count": 5,
   "metadata": {},
   "outputs": [],
   "source": [
    "X = torch.tensor(fen_encodings, dtype=torch.int32)"
   ]
  },
  {
   "cell_type": "code",
   "execution_count": 6,
   "metadata": {},
   "outputs": [
    {
     "data": {
      "text/plain": [
       "tensor([[ 0,  0,  0,  ...,  0, 30, 28],\n",
       "        [10,  0,  9,  ...,  0, 15, 14],\n",
       "        [ 0,  0,  0,  ...,  0, 18, 14],\n",
       "        ...,\n",
       "        [ 0,  0,  0,  ...,  0, 16, 22],\n",
       "        [ 0,  0,  0,  ...,  0, 34, 34],\n",
       "        [ 0,  0,  9,  ...,  0, 25, 25]], dtype=torch.int32)"
      ]
     },
     "execution_count": 6,
     "metadata": {},
     "output_type": "execute_result"
    }
   ],
   "source": [
    "X"
   ]
  },
  {
   "cell_type": "code",
   "execution_count": 7,
   "metadata": {},
   "outputs": [],
   "source": [
    "score_encodings = []\n",
    "for y_i in df['score']:\n",
    "    # print(y_i)\n",
    "    encoded_score = encoder_object.encode_score(str(y_i))\n",
    "    score_encodings.append(encoded_score)\n",
    "y = torch.tensor(score_encodings, dtype=torch.float32)"
   ]
  },
  {
   "cell_type": "code",
   "execution_count": 8,
   "metadata": {},
   "outputs": [
    {
     "data": {
      "text/plain": [
       "(torch.Size([50000, 200]), torch.Size([50000]))"
      ]
     },
     "execution_count": 8,
     "metadata": {},
     "output_type": "execute_result"
    }
   ],
   "source": [
    "X.shape, y.shape"
   ]
  },
  {
   "cell_type": "markdown",
   "metadata": {},
   "source": [
    "# Helper Functions"
   ]
  },
  {
   "cell_type": "code",
   "execution_count": 9,
   "metadata": {},
   "outputs": [],
   "source": [
    "val_split = 10000\n",
    "test_split = 10000"
   ]
  },
  {
   "cell_type": "code",
   "execution_count": 10,
   "metadata": {},
   "outputs": [],
   "source": [
    "device = 'cuda' if torch.cuda.is_available() else 'cpu'"
   ]
  },
  {
   "cell_type": "code",
   "execution_count": 11,
   "metadata": {},
   "outputs": [],
   "source": [
    "def get_batch(X, Y, bs):\n",
    "    \n",
    "    assert isinstance(X, torch.Tensor)\n",
    "    assert isinstance(Y, torch.Tensor)\n",
    "\n",
    "    batch = torch.randint(0, len(X), (bs,))\n",
    "    x = X[batch].to(device)\n",
    "    y = Y[batch].to(device).to(torch.float32)\n",
    "    return x, y\n",
    "# b = get_batch(X, y, 64)"
   ]
  },
  {
   "cell_type": "code",
   "execution_count": 12,
   "metadata": {},
   "outputs": [],
   "source": [
    "X_val = X[:val_split].to(device)\n",
    "y_val = y[:val_split].to(device)\n",
    "X_test = X[val_split:val_split+test_split].to(device)\n",
    "y_test = y[val_split:val_split+test_split].to(device)\n",
    "# X = X[val_split+test_split:]\n",
    "# y = y[val_split+test_split:]"
   ]
  },
  {
   "cell_type": "code",
   "execution_count": 13,
   "metadata": {},
   "outputs": [
    {
     "data": {
      "text/plain": [
       "50000"
      ]
     },
     "execution_count": 13,
     "metadata": {},
     "output_type": "execute_result"
    }
   ],
   "source": [
    "len(X)"
   ]
  },
  {
   "cell_type": "markdown",
   "metadata": {},
   "source": [
    "# Training"
   ]
  },
  {
   "cell_type": "code",
   "execution_count": 14,
   "metadata": {},
   "outputs": [],
   "source": [
    "# hyperparameters\n",
    "lr = 5e-2\n",
    "num_steps = 1000\n",
    "warmup_steps = 3\n",
    "0\n",
    "bs_train = len(X)\n",
    "bs_eval = 10000\n",
    "if bs_train > len(X): bs_train = len(X)\n",
    "if bs_eval > len(X): bs_eval = len(X)"
   ]
  },
  {
   "cell_type": "code",
   "execution_count": 15,
   "metadata": {},
   "outputs": [],
   "source": [
    " # i accidenly used a smaller lr for scheduler and it worked better, maybe try it?"
   ]
  },
  {
   "cell_type": "code",
   "execution_count": 16,
   "metadata": {},
   "outputs": [],
   "source": [
    "model = MLPEngine(embedding_dim=64, bs_train = bs_train, bs_eval=bs_eval).to(device)\n",
    "loss_category = nn.MSELoss()\n",
    "optimiser = torch.optim.AdamW(\n",
    "            model.parameters(), \n",
    "            lr = lr,\n",
    "            betas=(0.9, 0.999),\n",
    "            eps=1e-3,\n",
    "            weight_decay=1e-5)\n",
    "\n",
    "# Define warm-up and decay\n",
    "def lr_lambda(epoch):\n",
    "    if epoch < warmup_steps:  \n",
    "        return epoch / warmup_steps\n",
    "    else:  # Exponential decay after warm-up\n",
    "        return 0.99 ** (epoch - warmup_steps)\n",
    "\n",
    "scheduler = LambdaLR(optimiser, lr_lambda)\n",
    "model.compile()"
   ]
  },
  {
   "cell_type": "code",
   "execution_count": 17,
   "metadata": {},
   "outputs": [],
   "source": [
    "import torch._dynamo\n",
    "torch._dynamo.config.suppress_errors = True\n",
    "torch.set_float32_matmul_precision('high')"
   ]
  },
  {
   "cell_type": "code",
   "execution_count": 19,
   "metadata": {},
   "outputs": [
    {
     "data": {
      "text/html": [
       "Finishing last run (ID:vsfbjwwr) before initializing another..."
      ],
      "text/plain": [
       "<IPython.core.display.HTML object>"
      ]
     },
     "metadata": {},
     "output_type": "display_data"
    },
    {
     "data": {
      "text/html": [
       " View run <strong style=\"color:#cdcd00\">honest-dawn-6</strong> at: <a href='https://wandb.ai/eurekabotics/chessAI/runs/vsfbjwwr' target=\"_blank\">https://wandb.ai/eurekabotics/chessAI/runs/vsfbjwwr</a><br/> View project at: <a href='https://wandb.ai/eurekabotics/chessAI' target=\"_blank\">https://wandb.ai/eurekabotics/chessAI</a><br/>Synced 5 W&B file(s), 0 media file(s), 2 artifact file(s) and 0 other file(s)"
      ],
      "text/plain": [
       "<IPython.core.display.HTML object>"
      ]
     },
     "metadata": {},
     "output_type": "display_data"
    },
    {
     "data": {
      "text/html": [
       "Find logs at: <code>./wandb/run-20241212_125909-vsfbjwwr/logs</code>"
      ],
      "text/plain": [
       "<IPython.core.display.HTML object>"
      ]
     },
     "metadata": {},
     "output_type": "display_data"
    },
    {
     "data": {
      "text/html": [
       "There is a new version of wandb available. Please upgrade to wandb==0.19.0"
      ],
      "text/plain": [
       "<IPython.core.display.HTML object>"
      ]
     },
     "metadata": {},
     "output_type": "display_data"
    },
    {
     "data": {
      "text/html": [
       "Successfully finished last run (ID:vsfbjwwr). Initializing new run:<br/>"
      ],
      "text/plain": [
       "<IPython.core.display.HTML object>"
      ]
     },
     "metadata": {},
     "output_type": "display_data"
    },
    {
     "data": {
      "text/html": [
       "Tracking run with wandb version 0.18.0"
      ],
      "text/plain": [
       "<IPython.core.display.HTML object>"
      ]
     },
     "metadata": {},
     "output_type": "display_data"
    },
    {
     "data": {
      "text/html": [
       "Run data is saved locally in <code>/home/arjun/Desktop/GitHub/AI-Chess/wandb/run-20241212_125925-4hvxyha3</code>"
      ],
      "text/plain": [
       "<IPython.core.display.HTML object>"
      ]
     },
     "metadata": {},
     "output_type": "display_data"
    },
    {
     "data": {
      "text/html": [
       "Syncing run <strong><a href='https://wandb.ai/eurekabotics/chessAI/runs/4hvxyha3' target=\"_blank\">crimson-universe-7</a></strong> to <a href='https://wandb.ai/eurekabotics/chessAI' target=\"_blank\">Weights & Biases</a> (<a href='https://wandb.me/run' target=\"_blank\">docs</a>)<br/>"
      ],
      "text/plain": [
       "<IPython.core.display.HTML object>"
      ]
     },
     "metadata": {},
     "output_type": "display_data"
    },
    {
     "data": {
      "text/html": [
       " View project at <a href='https://wandb.ai/eurekabotics/chessAI' target=\"_blank\">https://wandb.ai/eurekabotics/chessAI</a>"
      ],
      "text/plain": [
       "<IPython.core.display.HTML object>"
      ]
     },
     "metadata": {},
     "output_type": "display_data"
    },
    {
     "data": {
      "text/html": [
       " View run at <a href='https://wandb.ai/eurekabotics/chessAI/runs/4hvxyha3' target=\"_blank\">https://wandb.ai/eurekabotics/chessAI/runs/4hvxyha3</a>"
      ],
      "text/plain": [
       "<IPython.core.display.HTML object>"
      ]
     },
     "metadata": {},
     "output_type": "display_data"
    },
    {
     "data": {
      "text/plain": [
       "[]"
      ]
     },
     "execution_count": 19,
     "metadata": {},
     "output_type": "execute_result"
    }
   ],
   "source": [
    "run = wandb.init(project=\"chessAI\")\n",
    "# run.config = {\"epochs\": num_steps, \"learning_rate\": lr}\n",
    "wandb.watch(model)"
   ]
  },
  {
   "cell_type": "code",
   "execution_count": 20,
   "metadata": {},
   "outputs": [],
   "source": [
    "train_history = {}\n",
    "val_history = {}\n",
    "start_step = 0"
   ]
  },
  {
   "cell_type": "code",
   "execution_count": 21,
   "metadata": {},
   "outputs": [
    {
     "name": "stdout",
     "output_type": "stream",
     "text": [
      "1 :  3704554.75\u001b[0m\n",
      "2 :  3547349.0\u001b[0m\n",
      "3 :  3595674.75\u001b[0m\n",
      "4 :  3488152.5\u001b[0m\n",
      "5 :  3503587.25\u001b[0m\n",
      "6 :  3451593.25\u001b[0m\n",
      "7 :  3662296.5\u001b[0m\n",
      "8 :  3618056.0\u001b[0m\n",
      "9 :  3396909.0\u001b[0m\n",
      "10 :  3685307.75\u001b[0m\n",
      "11 :  3428415.5\u001b[0m\n",
      "12 :  3565409.0\u001b[0m\n",
      "13 :  3531242.75\u001b[0m\n",
      "14 :  3493914.25\u001b[0m\n",
      "15 :  3376322.25\u001b[0m\n",
      "16 :  3600430.5\u001b[0m\n",
      "17 :  3352237.75\u001b[0m\n",
      "18 :  3477418.0\u001b[0m\n",
      "19 :  3448929.0\u001b[0m\n",
      "20 :  3292537.0\u001b[0m\n",
      "21 :  3171947.25\u001b[0m\n",
      "22 :  3260024.75\u001b[0m\n",
      "23 :  3167118.75\u001b[0m\n",
      "24 :  3132205.25\u001b[0m\n",
      "25 :  3059057.75\u001b[0m\n",
      "26 :  3168621.0\u001b[0m\n",
      "27 :  3060973.5\u001b[0m\n",
      "28 :  2992681.0\u001b[0m\n",
      "29 :  2890096.25\u001b[0m\n",
      "30 :  2824960.0\u001b[0m\n",
      "31 :  2891822.5\u001b[0m\n",
      "32 :  2780373.25\u001b[0m\n",
      "33 :  2692416.0\u001b[0m\n",
      "34 :  2593626.5\u001b[0m\n",
      "35 :  2623331.25\u001b[0m\n",
      "36 :  2537873.25\u001b[0m\n",
      "37 :  2389635.0\u001b[0m\n",
      "38 :  2495383.5\u001b[0m\n",
      "39 :  2280613.0\u001b[0m\n",
      "40 :  2394629.75\u001b[0m\n",
      "41 :  2350946.25\u001b[0m\n",
      "42 :  2263032.5\u001b[0m\n",
      "43 :  2187980.5\u001b[0m\n",
      "44 :  2171140.5\u001b[0m\n",
      "45 :  1996075.75\u001b[0m\n",
      "46 :  2056953.125\u001b[0m\n",
      "47 :  1936601.5\u001b[0m\n",
      "48 :  2002093.625\u001b[0m\n",
      "49 :  1777885.25\u001b[0m\n",
      "50 :  1787338.75\u001b[0m\n",
      "51 :  1726746.875\u001b[0m\n",
      "52 :  1552704.125\u001b[0m\n",
      "53 :  1565598.25\u001b[0m\n",
      "54 :  1616246.625\u001b[0m\n",
      "55 :  1538225.875\u001b[0m\n",
      "56 :  1433137.125\u001b[0m\n",
      "57 :  1385567.375\u001b[0m\n",
      "58 :  1368326.25\u001b[0m\n",
      "59 :  1218302.125\u001b[0m\n",
      "60 :  1239052.875\u001b[0m\n",
      "61 :  1261841.75\u001b[0m\n",
      "62 :  1165526.375\u001b[0m\n",
      "63 :  1186596.25\u001b[0m\n",
      "64 :  1159542.125\u001b[0m\n",
      "65 :  1071059.875\u001b[0m\n",
      "66 :  1033714.5625\u001b[0m\n",
      "67 :  1062833.375\u001b[0m\n",
      "68 :  933140.6875\u001b[0m\n",
      "69 :  973655.25\u001b[0m\n",
      "70 :  936212.6875\u001b[0m\n",
      "71 :  860033.3125\u001b[0m\n",
      "72 :  885290.75\u001b[0m\n",
      "73 :  828309.5625\u001b[0m\n",
      "74 :  827201.75\u001b[0m\n",
      "75 :  753977.625\u001b[0m\n",
      "76 :  726241.125\u001b[0m\n",
      "77 :  670218.1875\u001b[0m\n",
      "78 :  736981.9375\u001b[0m\n",
      "79 :  666636.375\u001b[0m\n",
      "80 :  604856.1875\u001b[0m\n",
      "81 :  671170.3125\u001b[0m\n",
      "82 :  605481.0\u001b[0m\n",
      "83 :  592925.25\u001b[0m\n",
      "84 :  601047.625\u001b[0m\n",
      "85 :  559938.5\u001b[0m\n",
      "86 :  513762.0\u001b[0m\n",
      "87 :  492932.28125\u001b[0m\n",
      "88 :  479503.34375\u001b[0m\n",
      "89 :  447913.53125\u001b[0m\n",
      "90 :  449809.8125\u001b[0m\n",
      "91 :  457989.71875\u001b[0m\n",
      "92 :  452128.09375\u001b[0m\n",
      "93 :  455017.5\u001b[0m\n",
      "94 :  396304.125\u001b[0m\n",
      "95 :  364930.78125\u001b[0m\n",
      "96 :  405641.875\u001b[0m\n",
      "97 :  381755.0\u001b[0m\n",
      "98 :  350314.125\u001b[0m\n",
      "99 :  329778.34375\u001b[0m\n",
      "100 :  332819.6875\u001b[0m\n",
      "\u001b[31m100: 451367.8125 (Validation)\u001b[0m\n",
      "101 :  344845.5625\u001b[0m\n",
      "102 :  327376.53125\u001b[0m\n",
      "103 :  351438.75\u001b[0m\n",
      "104 :  323604.21875\u001b[0m\n",
      "105 :  298194.96875\u001b[0m\n",
      "106 :  280001.0\u001b[0m\n",
      "107 :  281324.15625\u001b[0m\n",
      "108 :  260457.875\u001b[0m\n",
      "109 :  279269.5\u001b[0m\n",
      "110 :  252973.1875\u001b[0m\n",
      "111 :  255350.046875\u001b[0m\n",
      "112 :  247120.078125\u001b[0m\n",
      "113 :  247885.0\u001b[0m\n",
      "114 :  246222.1875\u001b[0m\n",
      "115 :  247722.46875\u001b[0m\n",
      "116 :  238941.0625\u001b[0m\n",
      "117 :  218121.296875\u001b[0m\n",
      "118 :  225379.5625\u001b[0m\n",
      "119 :  188200.09375\u001b[0m\n",
      "120 :  197115.53125\u001b[0m\n",
      "121 :  215189.984375\u001b[0m\n",
      "122 :  209905.265625\u001b[0m\n",
      "123 :  186011.046875\u001b[0m\n",
      "124 :  168232.09375\u001b[0m\n",
      "125 :  195764.671875\u001b[0m\n",
      "126 :  176210.484375\u001b[0m\n",
      "127 :  168006.859375\u001b[0m\n",
      "128 :  158125.703125\u001b[0m\n",
      "129 :  184332.265625\u001b[0m\n",
      "130 :  163436.421875\u001b[0m\n",
      "131 :  184060.4375\u001b[0m\n",
      "132 :  141282.53125\u001b[0m\n",
      "133 :  148939.703125\u001b[0m\n",
      "134 :  151977.5\u001b[0m\n",
      "135 :  151871.828125\u001b[0m\n",
      "136 :  134640.5625\u001b[0m\n",
      "137 :  153643.53125\u001b[0m\n",
      "138 :  167264.484375\u001b[0m\n",
      "139 :  136751.96875\u001b[0m\n",
      "140 :  153566.109375\u001b[0m\n",
      "141 :  120538.78125\u001b[0m\n",
      "142 :  133960.234375\u001b[0m\n",
      "143 :  129843.9375\u001b[0m\n",
      "144 :  117825.59375\u001b[0m\n",
      "145 :  131275.671875\u001b[0m\n",
      "146 :  115223.859375\u001b[0m\n",
      "147 :  113271.6171875\u001b[0m\n",
      "148 :  129741.6953125\u001b[0m\n",
      "149 :  115464.2890625\u001b[0m\n",
      "150 :  110338.96875\u001b[0m\n",
      "151 :  117163.4453125\u001b[0m\n",
      "152 :  116200.09375\u001b[0m\n",
      "153 :  94959.3984375\u001b[0m\n",
      "154 :  113634.046875\u001b[0m\n",
      "155 :  108116.1875\u001b[0m\n",
      "156 :  118765.7421875\u001b[0m\n",
      "157 :  108101.734375\u001b[0m\n",
      "158 :  107830.7890625\u001b[0m\n",
      "159 :  96877.125\u001b[0m\n",
      "160 :  102715.9921875\u001b[0m\n",
      "161 :  92669.84375\u001b[0m\n",
      "162 :  94941.6953125\u001b[0m\n",
      "163 :  101965.2578125\u001b[0m\n",
      "164 :  95101.7421875\u001b[0m\n",
      "165 :  94748.609375\u001b[0m\n",
      "166 :  89078.109375\u001b[0m\n",
      "167 :  94536.0703125\u001b[0m\n",
      "168 :  95689.1796875\u001b[0m\n",
      "169 :  81618.546875\u001b[0m\n",
      "170 :  82490.0078125\u001b[0m\n",
      "171 :  94455.8671875\u001b[0m\n",
      "172 :  82982.5\u001b[0m\n",
      "173 :  86989.8828125\u001b[0m\n",
      "174 :  89423.6015625\u001b[0m\n",
      "175 :  76031.640625\u001b[0m\n",
      "176 :  95302.8203125\u001b[0m\n",
      "177 :  81212.6171875\u001b[0m\n",
      "178 :  80692.015625\u001b[0m\n",
      "179 :  80152.46875\u001b[0m\n",
      "180 :  72980.890625\u001b[0m\n",
      "181 :  80466.625\u001b[0m\n",
      "182 :  81206.5234375\u001b[0m\n",
      "183 :  88943.2890625\u001b[0m\n",
      "184 :  73266.3359375\u001b[0m\n",
      "185 :  70286.09375\u001b[0m\n",
      "186 :  73629.6328125\u001b[0m\n",
      "187 :  76552.3046875\u001b[0m\n",
      "188 :  68343.9453125\u001b[0m\n",
      "189 :  74885.6171875\u001b[0m\n",
      "190 :  78730.328125\u001b[0m\n",
      "191 :  70384.2421875\u001b[0m\n",
      "192 :  74970.0390625\u001b[0m\n",
      "193 :  73084.640625\u001b[0m\n",
      "194 :  76888.1484375\u001b[0m\n",
      "195 :  68822.0546875\u001b[0m\n",
      "196 :  68651.6171875\u001b[0m\n",
      "197 :  72413.578125\u001b[0m\n",
      "198 :  71329.5234375\u001b[0m\n",
      "199 :  72053.0390625\u001b[0m\n",
      "200 :  65278.28125\u001b[0m\n",
      "\u001b[31m200: 40198.7734375 (Validation)\u001b[0m\n",
      "201 :  69984.4296875\u001b[0m\n",
      "202 :  65735.7421875\u001b[0m\n",
      "203 :  73735.546875\u001b[0m\n",
      "204 :  73334.75\u001b[0m\n",
      "205 :  66688.375\u001b[0m\n",
      "206 :  64983.1875\u001b[0m\n",
      "207 :  62441.24609375\u001b[0m\n",
      "208 :  66650.3515625\u001b[0m\n",
      "209 :  64701.234375\u001b[0m\n",
      "210 :  72429.265625\u001b[0m\n",
      "211 :  66729.53125\u001b[0m\n",
      "212 :  66414.3828125\u001b[0m\n",
      "213 :  66572.9296875\u001b[0m\n",
      "214 :  67296.5703125\u001b[0m\n",
      "215 :  65281.78515625\u001b[0m\n",
      "216 :  60364.0390625\u001b[0m\n",
      "217 :  62975.43359375\u001b[0m\n",
      "218 :  67006.1484375\u001b[0m\n",
      "219 :  61598.70703125\u001b[0m\n",
      "220 :  67693.59375\u001b[0m\n",
      "221 :  63710.8828125\u001b[0m\n",
      "222 :  60978.921875\u001b[0m\n",
      "223 :  58516.19140625\u001b[0m\n",
      "224 :  60233.03125\u001b[0m\n",
      "225 :  67880.5625\u001b[0m\n",
      "226 :  62940.1484375\u001b[0m\n",
      "227 :  61244.8203125\u001b[0m\n",
      "228 :  59104.08984375\u001b[0m\n",
      "229 :  60621.3828125\u001b[0m\n",
      "230 :  62094.609375\u001b[0m\n",
      "231 :  60206.9296875\u001b[0m\n",
      "232 :  64581.90234375\u001b[0m\n",
      "233 :  59839.36328125\u001b[0m\n",
      "234 :  65372.515625\u001b[0m\n",
      "235 :  55393.76953125\u001b[0m\n",
      "236 :  57450.84375\u001b[0m\n",
      "237 :  57286.8203125\u001b[0m\n",
      "238 :  56529.78515625\u001b[0m\n",
      "239 :  58923.55078125\u001b[0m\n",
      "240 :  60953.23828125\u001b[0m\n",
      "241 :  54612.0078125\u001b[0m\n",
      "242 :  59580.1875\u001b[0m\n",
      "243 :  55584.109375\u001b[0m\n",
      "244 :  55182.5546875\u001b[0m\n",
      "245 :  61863.23828125\u001b[0m\n",
      "246 :  62745.44921875\u001b[0m\n",
      "247 :  55709.796875\u001b[0m\n",
      "248 :  59487.8125\u001b[0m\n",
      "249 :  53929.3359375\u001b[0m\n",
      "250 :  56626.47265625\u001b[0m\n",
      "251 :  53048.7734375\u001b[0m\n",
      "252 :  53167.01171875\u001b[0m\n",
      "253 :  52894.453125\u001b[0m\n",
      "254 :  55906.53125\u001b[0m\n",
      "255 :  55080.9375\u001b[0m\n",
      "256 :  60041.953125\u001b[0m\n",
      "257 :  52414.65625\u001b[0m\n",
      "258 :  53982.0\u001b[0m\n",
      "259 :  59367.984375\u001b[0m\n",
      "260 :  60281.9453125\u001b[0m\n",
      "261 :  54059.2890625\u001b[0m\n",
      "262 :  61639.04296875\u001b[0m\n",
      "263 :  52603.83984375\u001b[0m\n",
      "264 :  57980.015625\u001b[0m\n",
      "265 :  53920.9609375\u001b[0m\n",
      "266 :  52818.578125\u001b[0m\n",
      "267 :  55224.18359375\u001b[0m\n",
      "268 :  51985.7734375\u001b[0m\n",
      "269 :  55713.8515625\u001b[0m\n",
      "270 :  59127.59765625\u001b[0m\n",
      "271 :  53137.58203125\u001b[0m\n",
      "272 :  55425.57421875\u001b[0m\n",
      "273 :  52076.6875\u001b[0m\n",
      "274 :  53756.90234375\u001b[0m\n",
      "275 :  55395.51171875\u001b[0m\n",
      "276 :  54362.56640625\u001b[0m\n",
      "277 :  54923.94921875\u001b[0m\n",
      "278 :  52071.07421875\u001b[0m\n",
      "279 :  51810.8359375\u001b[0m\n",
      "280 :  52079.359375\u001b[0m\n",
      "281 :  53028.26953125\u001b[0m\n",
      "282 :  55985.81640625\u001b[0m\n",
      "283 :  54647.1015625\u001b[0m\n",
      "284 :  51601.33984375\u001b[0m\n",
      "285 :  51668.421875\u001b[0m\n",
      "286 :  53419.765625\u001b[0m\n",
      "287 :  55420.16796875\u001b[0m\n",
      "288 :  50103.265625\u001b[0m\n",
      "289 :  55906.62109375\u001b[0m\n",
      "290 :  54180.78125\u001b[0m\n",
      "291 :  55811.98828125\u001b[0m\n",
      "292 :  50024.41796875\u001b[0m\n",
      "293 :  54554.0390625\u001b[0m\n",
      "294 :  52167.5859375\u001b[0m\n",
      "295 :  51854.203125\u001b[0m\n",
      "296 :  49430.9921875\u001b[0m\n",
      "297 :  52218.453125\u001b[0m\n",
      "298 :  48312.453125\u001b[0m\n",
      "299 :  57717.59375\u001b[0m\n",
      "300 :  49860.19140625\u001b[0m\n",
      "\u001b[31m300: 14857.060546875 (Validation)\u001b[0m\n",
      "301 :  49731.953125\u001b[0m\n",
      "302 :  52880.38671875\u001b[0m\n",
      "303 :  48919.15234375\u001b[0m\n",
      "304 :  49769.85546875\u001b[0m\n",
      "305 :  50126.55859375\u001b[0m\n",
      "306 :  48450.66796875\u001b[0m\n",
      "307 :  54638.51953125\u001b[0m\n",
      "308 :  48282.5390625\u001b[0m\n",
      "309 :  55672.1640625\u001b[0m\n",
      "310 :  50269.54296875\u001b[0m\n",
      "311 :  48771.0078125\u001b[0m\n",
      "312 :  53899.02734375\u001b[0m\n",
      "313 :  49686.8203125\u001b[0m\n",
      "314 :  52804.8671875\u001b[0m\n",
      "315 :  50278.80859375\u001b[0m\n",
      "316 :  49749.14453125\u001b[0m\n",
      "317 :  47391.2109375\u001b[0m\n",
      "318 :  55208.65234375\u001b[0m\n",
      "319 :  51009.5859375\u001b[0m\n",
      "320 :  50020.20703125\u001b[0m\n",
      "321 :  50247.47265625\u001b[0m\n",
      "322 :  50484.16015625\u001b[0m\n",
      "323 :  48557.53515625\u001b[0m\n",
      "324 :  50274.4453125\u001b[0m\n",
      "325 :  48532.8359375\u001b[0m\n",
      "326 :  49186.18359375\u001b[0m\n",
      "327 :  53699.296875\u001b[0m\n",
      "328 :  50311.86328125\u001b[0m\n",
      "329 :  52470.765625\u001b[0m\n",
      "330 :  48623.76953125\u001b[0m\n",
      "331 :  52742.78125\u001b[0m\n",
      "332 :  48126.37109375\u001b[0m\n",
      "333 :  50005.20703125\u001b[0m\n",
      "334 :  50967.44921875\u001b[0m\n",
      "335 :  49477.50390625\u001b[0m\n",
      "336 :  47772.95703125\u001b[0m\n",
      "337 :  51520.79296875\u001b[0m\n",
      "338 :  50025.74609375\u001b[0m\n",
      "339 :  49905.2421875\u001b[0m\n",
      "340 :  51270.875\u001b[0m\n",
      "341 :  46764.390625\u001b[0m\n",
      "342 :  47786.71875\u001b[0m\n",
      "343 :  47741.828125\u001b[0m\n",
      "344 :  50901.83203125\u001b[0m\n",
      "345 :  49526.890625\u001b[0m\n",
      "346 :  49700.73828125\u001b[0m\n",
      "347 :  47724.1640625\u001b[0m\n",
      "348 :  46231.91796875\u001b[0m\n",
      "349 :  48151.5703125\u001b[0m\n",
      "350 :  51259.90234375\u001b[0m\n",
      "351 :  48461.7734375\u001b[0m\n",
      "352 :  47563.88671875\u001b[0m\n",
      "353 :  47974.6953125\u001b[0m\n",
      "354 :  47849.53125\u001b[0m\n",
      "355 :  45617.32421875\u001b[0m\n",
      "356 :  49644.90234375\u001b[0m\n",
      "357 :  50730.3671875\u001b[0m\n",
      "358 :  48417.56640625\u001b[0m\n",
      "359 :  46621.0703125\u001b[0m\n",
      "360 :  50219.85546875\u001b[0m\n",
      "361 :  51548.23046875\u001b[0m\n",
      "362 :  47205.42578125\u001b[0m\n",
      "363 :  46043.11328125\u001b[0m\n",
      "364 :  49605.03515625\u001b[0m\n",
      "365 :  48152.4921875\u001b[0m\n",
      "366 :  48797.68359375\u001b[0m\n",
      "367 :  46172.703125\u001b[0m\n",
      "368 :  49989.4140625\u001b[0m\n",
      "369 :  50615.95703125\u001b[0m\n",
      "370 :  47800.69921875\u001b[0m\n",
      "371 :  48878.30859375\u001b[0m\n",
      "372 :  45665.65625\u001b[0m\n",
      "373 :  47285.1484375\u001b[0m\n",
      "374 :  47390.27734375\u001b[0m\n",
      "375 :  47231.0703125\u001b[0m\n",
      "376 :  47425.58984375\u001b[0m\n",
      "377 :  49260.57421875\u001b[0m\n",
      "378 :  47958.69921875\u001b[0m\n",
      "379 :  45952.22265625\u001b[0m\n",
      "380 :  46980.6328125\u001b[0m\n",
      "381 :  49790.6796875\u001b[0m\n",
      "382 :  47710.625\u001b[0m\n",
      "383 :  46287.77734375\u001b[0m\n",
      "384 :  46372.8046875\u001b[0m\n",
      "385 :  50730.734375\u001b[0m\n",
      "386 :  50191.14453125\u001b[0m\n",
      "387 :  46222.42578125\u001b[0m\n",
      "388 :  47676.31640625\u001b[0m\n",
      "389 :  47499.46875\u001b[0m\n",
      "390 :  46260.98046875\u001b[0m\n",
      "391 :  49317.3984375\u001b[0m\n",
      "392 :  46860.28515625\u001b[0m\n",
      "393 :  48240.15625\u001b[0m\n",
      "394 :  45980.54296875\u001b[0m\n",
      "395 :  46343.16796875\u001b[0m\n",
      "396 :  52632.890625\u001b[0m\n",
      "397 :  45530.80859375\u001b[0m\n",
      "398 :  46418.01171875\u001b[0m\n",
      "399 :  49081.5390625\u001b[0m\n",
      "400 :  48773.0234375\u001b[0m\n",
      "\u001b[31m400: 10613.7568359375 (Validation)\u001b[0m\n",
      "401 :  48658.04296875\u001b[0m\n",
      "402 :  48194.3828125\u001b[0m\n",
      "403 :  49514.16015625\u001b[0m\n",
      "404 :  44486.41015625\u001b[0m\n",
      "405 :  46425.47265625\u001b[0m\n",
      "406 :  47791.8203125\u001b[0m\n",
      "407 :  45768.22265625\u001b[0m\n",
      "408 :  46776.296875\u001b[0m\n",
      "409 :  48494.65625\u001b[0m\n",
      "410 :  48453.109375\u001b[0m\n",
      "411 :  47739.55078125\u001b[0m\n",
      "412 :  46841.12890625\u001b[0m\n",
      "413 :  46521.5546875\u001b[0m\n",
      "414 :  46535.62890625\u001b[0m\n",
      "415 :  48338.109375\u001b[0m\n",
      "416 :  47133.484375\u001b[0m\n",
      "417 :  48155.375\u001b[0m\n",
      "418 :  45945.28515625\u001b[0m\n",
      "419 :  51565.2890625\u001b[0m\n",
      "420 :  50327.671875\u001b[0m\n",
      "421 :  49574.05078125\u001b[0m\n",
      "422 :  47530.6484375\u001b[0m\n",
      "423 :  45596.8671875\u001b[0m\n",
      "424 :  48195.9765625\u001b[0m\n",
      "425 :  45242.78515625\u001b[0m\n",
      "426 :  47056.56640625\u001b[0m\n",
      "427 :  47818.875\u001b[0m\n",
      "428 :  47209.8203125\u001b[0m\n",
      "429 :  47428.1953125\u001b[0m\n",
      "430 :  45984.84375\u001b[0m\n",
      "431 :  47111.23828125\u001b[0m\n",
      "432 :  49305.9453125\u001b[0m\n",
      "433 :  45508.62890625\u001b[0m\n",
      "434 :  45430.23828125\u001b[0m\n",
      "435 :  45575.95703125\u001b[0m\n",
      "436 :  44529.44921875\u001b[0m\n",
      "437 :  51189.09375\u001b[0m\n",
      "438 :  47316.01171875\u001b[0m\n",
      "439 :  47317.11328125\u001b[0m\n",
      "440 :  46907.17578125\u001b[0m\n",
      "441 :  45529.72265625\u001b[0m\n",
      "442 :  50451.33203125\u001b[0m\n",
      "443 :  44949.06640625\u001b[0m\n",
      "444 :  46912.7734375\u001b[0m\n",
      "445 :  46356.76953125\u001b[0m\n",
      "446 :  46334.5859375\u001b[0m\n",
      "447 :  45449.47265625\u001b[0m\n",
      "448 :  46768.56640625\u001b[0m\n",
      "449 :  48270.37109375\u001b[0m\n",
      "450 :  45289.64453125\u001b[0m\n",
      "451 :  44635.375\u001b[0m\n",
      "452 :  44984.5546875\u001b[0m\n",
      "453 :  45832.91796875\u001b[0m\n",
      "454 :  45229.90625\u001b[0m\n",
      "455 :  48431.12890625\u001b[0m\n",
      "456 :  45131.98046875\u001b[0m\n",
      "457 :  45355.40625\u001b[0m\n",
      "458 :  46725.26171875\u001b[0m\n",
      "459 :  47535.04296875\u001b[0m\n",
      "460 :  47349.5546875\u001b[0m\n",
      "461 :  50125.37109375\u001b[0m\n",
      "462 :  48804.984375\u001b[0m\n",
      "463 :  45957.62890625\u001b[0m\n",
      "464 :  44818.09765625\u001b[0m\n",
      "465 :  45924.6484375\u001b[0m\n",
      "466 :  47034.78515625\u001b[0m\n",
      "467 :  48283.1875\u001b[0m\n",
      "468 :  45651.85546875\u001b[0m\n",
      "469 :  48737.734375\u001b[0m\n",
      "470 :  45012.0234375\u001b[0m\n",
      "471 :  45284.7109375\u001b[0m\n",
      "472 :  46607.50390625\u001b[0m\n",
      "473 :  45518.1796875\u001b[0m\n",
      "474 :  47813.98828125\u001b[0m\n",
      "475 :  45662.015625\u001b[0m\n",
      "476 :  46910.47265625\u001b[0m\n",
      "477 :  45917.546875\u001b[0m\n",
      "478 :  45030.5625\u001b[0m\n",
      "479 :  44689.25390625\u001b[0m\n",
      "480 :  45563.3203125\u001b[0m\n",
      "481 :  46006.765625\u001b[0m\n",
      "482 :  49231.21484375\u001b[0m\n",
      "483 :  45337.02734375\u001b[0m\n",
      "484 :  47790.6640625\u001b[0m\n",
      "485 :  47438.32421875\u001b[0m\n",
      "486 :  47473.6953125\u001b[0m\n",
      "487 :  47853.56640625\u001b[0m\n",
      "488 :  47785.6875\u001b[0m\n",
      "489 :  46265.609375\u001b[0m\n",
      "490 :  46450.4765625\u001b[0m\n",
      "491 :  44517.02734375\u001b[0m\n",
      "492 :  46667.71484375\u001b[0m\n",
      "493 :  45954.46484375\u001b[0m\n",
      "494 :  44416.734375\u001b[0m\n",
      "495 :  45248.0703125\u001b[0m\n",
      "496 :  45068.26171875\u001b[0m\n",
      "497 :  45652.48828125\u001b[0m\n",
      "498 :  45088.9296875\u001b[0m\n",
      "499 :  49917.74609375\u001b[0m\n",
      "500 :  46255.96484375\u001b[0m\n",
      "\u001b[31m500: 9360.62890625 (Validation)\u001b[0m\n",
      "501 :  44453.55859375\u001b[0m\n",
      "502 :  44971.203125\u001b[0m\n",
      "503 :  45235.33203125\u001b[0m\n",
      "504 :  45142.89453125\u001b[0m\n",
      "505 :  44543.5703125\u001b[0m\n",
      "506 :  43780.5234375\u001b[0m\n",
      "507 :  45100.21484375\u001b[0m\n",
      "508 :  47402.59765625\u001b[0m\n",
      "509 :  46476.8515625\u001b[0m\n",
      "510 :  44726.44140625\u001b[0m\n"
     ]
    },
    {
     "ename": "KeyboardInterrupt",
     "evalue": "",
     "output_type": "error",
     "traceback": [
      "\u001b[0;31m---------------------------------------------------------------------------\u001b[0m",
      "\u001b[0;31mKeyboardInterrupt\u001b[0m                         Traceback (most recent call last)",
      "Cell \u001b[0;32mIn[21], line 8\u001b[0m\n\u001b[1;32m      6\u001b[0m y_pred \u001b[38;5;241m=\u001b[39m model(x_batch)\u001b[38;5;241m.\u001b[39mview(bs_train)\n\u001b[1;32m      7\u001b[0m loss \u001b[38;5;241m=\u001b[39m loss_category(y_pred, y_batch)\n\u001b[0;32m----> 8\u001b[0m train_history[tot_step] \u001b[38;5;241m=\u001b[39m \u001b[43mloss\u001b[49m\u001b[38;5;241;43m.\u001b[39;49m\u001b[43mitem\u001b[49m\u001b[43m(\u001b[49m\u001b[43m)\u001b[49m\n\u001b[1;32m      9\u001b[0m loss\u001b[38;5;241m.\u001b[39mbackward()\n\u001b[1;32m     10\u001b[0m optimiser\u001b[38;5;241m.\u001b[39mstep()\n",
      "\u001b[0;31mKeyboardInterrupt\u001b[0m: "
     ]
    }
   ],
   "source": [
    "model.train()\n",
    "for step_i in range(1, num_steps+1):\n",
    "    tot_step = step_i + start_step\n",
    "    optimiser.zero_grad()\n",
    "    x_batch, y_batch = get_batch(X, y, bs_train) \n",
    "    y_pred = model(x_batch).view(bs_train)\n",
    "    loss = loss_category(y_pred, y_batch)\n",
    "    train_history[tot_step] = loss.item()\n",
    "    loss.backward()\n",
    "    optimiser.step()\n",
    "    scheduler.step()\n",
    "    wandb.log({\"Training Loss\": loss.item()})\n",
    "    print(tot_step, ': ',loss.item())\n",
    "\n",
    "    if tot_step % 100 == 0:\n",
    "        # validation phase\n",
    "        model.eval()\n",
    "        y_pred = model(X_val).view(val_split)\n",
    "        loss = loss_category(y_pred, y_val)\n",
    "        val_history[tot_step] = loss.item()\n",
    "        print(f'{tot_step}: {loss.item()} (Validation)', color='r')\n",
    "        wandb.log({\"Validation Loss\": loss.item()})\n",
    "        model.train()\n",
    "\n",
    "\n",
    "start_step += num_steps"
   ]
  },
  {
   "cell_type": "code",
   "execution_count": 22,
   "metadata": {},
   "outputs": [],
   "source": [
    "torch.save(model.state_dict(), 'saves/model2.pt')"
   ]
  },
  {
   "cell_type": "code",
   "execution_count": 23,
   "metadata": {},
   "outputs": [
    {
     "data": {
      "image/png": "[encoded data removed]",
      "text/plain": [
       "<Figure size 640x480 with 1 Axes>"
      ]
     },
     "metadata": {},
     "output_type": "display_data"
    }
   ],
   "source": [
    "plt.plot(list(train_history.keys())[100:], list(train_history.values())[100:], label='train')\n",
    "# plt.plot(val_history.keys(), val_history.values(), label='validation')\n",
    "plt.legend()\n",
    "plt.show()"
   ]
  },
  {
   "cell_type": "code",
   "execution_count": 24,
   "metadata": {},
   "outputs": [
    {
     "data": {
      "image/png": "[encoded data removed]",
      "text/plain": [
       "<Figure size 640x480 with 1 Axes>"
      ]
     },
     "metadata": {},
     "output_type": "display_data"
    }
   ],
   "source": [
    "plt.plot(list(train_history.keys()), list(train_history.values()), label='train')\n",
    "plt.plot(val_history.keys(), val_history.values(), label='validation')\n",
    "plt.legend()\n",
    "plt.show()"
   ]
  },
  {
   "cell_type": "code",
   "execution_count": null,
   "metadata": {},
   "outputs": [],
   "source": [
    "'''\n",
    "# My results\n",
    "At relu, model is stuck around 25k with 3x1000 steps with xavier\n",
    "AT relu, moedl went to 9k and then exploded at 3x1000 steps with kaiming; then at 14k\n",
    "At gelu, model is stuck atound 10k\n",
    "\n",
    "Adam is better than AdamW for this task\n",
    "'''"
   ]
  },
  {
   "cell_type": "markdown",
   "metadata": {},
   "source": [
    "# TO DO"
   ]
  },
  {
   "cell_type": "markdown",
   "metadata": {},
   "source": [
    "- [x] do inference, and run a partially trained model with the GUI intact\n",
    "- [x] **find a way to fix the fact that our model is giving integer loss\n",
    "- [x] **Fix the bug in initialisation\n",
    "- [ ] implement weights and biases or tensorboard \n",
    "- [ ] improve the model\n",
    "  - [x] get a better/ bigger dataset\n",
    "  - [ ] hyperparameter and architecture\n",
    "    - [x] better encoding\n",
    "    - [ ] residual connections\n",
    "    - [ ] try adamW after tuning b1 and b2\n",
    "    - [x] increase embedding dim\n",
    "    - [x] increase neurons in the layers\n",
    "    - [x] increase layers in the network\n",
    "    - [x] change loss function (maybe)\n",
    "    - [ ] try diff learning rate scheduler(trapeziodal)\n",
    "    - [ ] Add regularisation\n",
    "      - [ ] l1,l2\n",
    "      - [x] dropout\n",
    "    - [x] Better initialisation\n",
    "    - [x] diff optimisation algorithm"
   ]
  },
  {
   "cell_type": "markdown",
   "metadata": {},
   "source": [
    "# Note"
   ]
  }
 ],
 "metadata": {
  "kernelspec": {
   "display_name": "AI_ENV",
   "language": "python",
   "name": "python3"
  },
  "language_info": {
   "codemirror_mode": {
    "name": "ipython",
    "version": 3
   },
   "file_extension": ".py",
   "mimetype": "text/x-python",
   "name": "python",
   "nbconvert_exporter": "python",
   "pygments_lexer": "ipython3",
   "version": "3.10.12"
  }
 },
 "nbformat": 4,
 "nbformat_minor": 2
}
