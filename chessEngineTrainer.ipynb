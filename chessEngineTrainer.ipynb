{
 "cells": [
  {
   "cell_type": "code",
   "execution_count": 1,
   "metadata": {},
   "outputs": [],
   "source": [
    "import torch\n",
    "import torch.nn as nn\n",
    "import pandas as pd\n",
    "from chessEngine import ChessEncoder, MLPEngine\n",
    "import matplotlib.pyplot as plt\n",
    "from torch.optim.lr_scheduler import CosineAnnealingLR"
   ]
  },
  {
   "cell_type": "markdown",
   "metadata": {},
   "source": [
    "# Preprocessing"
   ]
  },
  {
   "cell_type": "code",
   "execution_count": 2,
   "metadata": {},
   "outputs": [
    {
     "data": {
      "text/html": [
       "<div>\n",
       "<style scoped>\n",
       "    .dataframe tbody tr th:only-of-type {\n",
       "        vertical-align: middle;\n",
       "    }\n",
       "\n",
       "    .dataframe tbody tr th {\n",
       "        vertical-align: top;\n",
       "    }\n",
       "\n",
       "    .dataframe thead th {\n",
       "        text-align: right;\n",
       "    }\n",
       "</style>\n",
       "<table border=\"1\" class=\"dataframe\">\n",
       "  <thead>\n",
       "    <tr style=\"text-align: right;\">\n",
       "      <th></th>\n",
       "      <th>fen_value</th>\n",
       "      <th>score</th>\n",
       "    </tr>\n",
       "  </thead>\n",
       "  <tbody>\n",
       "    <tr>\n",
       "      <th>0</th>\n",
       "      <td>rnbqkbnr/pppppppp/8/8/4P3/8/PPPP1PPP/RNBQKBNR ...</td>\n",
       "      <td>-33</td>\n",
       "    </tr>\n",
       "    <tr>\n",
       "      <th>1</th>\n",
       "      <td>rnbqkbnr/pppp1ppp/8/4p3/4P3/8/PPPP1PPP/RNBQKBN...</td>\n",
       "      <td>34</td>\n",
       "    </tr>\n",
       "    <tr>\n",
       "      <th>2</th>\n",
       "      <td>rnbqkbnr/pppp1ppp/8/4p3/4P3/5N2/PPPP1PPP/RNBQK...</td>\n",
       "      <td>-30</td>\n",
       "    </tr>\n",
       "    <tr>\n",
       "      <th>3</th>\n",
       "      <td>r1bqkbnr/pppp1ppp/2n5/4p3/4P3/5N2/PPPP1PPP/RNB...</td>\n",
       "      <td>30</td>\n",
       "    </tr>\n",
       "    <tr>\n",
       "      <th>4</th>\n",
       "      <td>r1bqkbnr/pppp1ppp/2n5/4p3/2B1P3/5N2/PPPP1PPP/R...</td>\n",
       "      <td>-29</td>\n",
       "    </tr>\n",
       "    <tr>\n",
       "      <th>...</th>\n",
       "      <td>...</td>\n",
       "      <td>...</td>\n",
       "    </tr>\n",
       "    <tr>\n",
       "      <th>29995</th>\n",
       "      <td>rn1qkb1r/pp2pppp/2p5/1B1p1b2/3P4/4PN1P/PPPB1PP...</td>\n",
       "      <td>23</td>\n",
       "    </tr>\n",
       "    <tr>\n",
       "      <th>29996</th>\n",
       "      <td>rn1qkb1r/pp2pppp/2p5/3p1b2/B2P4/4PN1P/PPPB1PP1...</td>\n",
       "      <td>16</td>\n",
       "    </tr>\n",
       "    <tr>\n",
       "      <th>29997</th>\n",
       "      <td>rn1qkb1r/1p2pppp/2p5/p2p1b2/B2P4/4PN1P/PPPB1PP...</td>\n",
       "      <td>7</td>\n",
       "    </tr>\n",
       "    <tr>\n",
       "      <th>29998</th>\n",
       "      <td>rn1qkb1r/1p2pppp/2p5/p2p1b2/B2P4/2P1PN1P/PP1B1...</td>\n",
       "      <td>-5</td>\n",
       "    </tr>\n",
       "    <tr>\n",
       "      <th>29999</th>\n",
       "      <td>rn1qkb1r/1p3ppp/2p1p3/p2p1b2/B2P4/2P1PN1P/PP1B...</td>\n",
       "      <td>5</td>\n",
       "    </tr>\n",
       "  </tbody>\n",
       "</table>\n",
       "<p>30000 rows × 2 columns</p>\n",
       "</div>"
      ],
      "text/plain": [
       "                                               fen_value  score\n",
       "0      rnbqkbnr/pppppppp/8/8/4P3/8/PPPP1PPP/RNBQKBNR ...    -33\n",
       "1      rnbqkbnr/pppp1ppp/8/4p3/4P3/8/PPPP1PPP/RNBQKBN...     34\n",
       "2      rnbqkbnr/pppp1ppp/8/4p3/4P3/5N2/PPPP1PPP/RNBQK...    -30\n",
       "3      r1bqkbnr/pppp1ppp/2n5/4p3/4P3/5N2/PPPP1PPP/RNB...     30\n",
       "4      r1bqkbnr/pppp1ppp/2n5/4p3/2B1P3/5N2/PPPP1PPP/R...    -29\n",
       "...                                                  ...    ...\n",
       "29995  rn1qkb1r/pp2pppp/2p5/1B1p1b2/3P4/4PN1P/PPPB1PP...     23\n",
       "29996  rn1qkb1r/pp2pppp/2p5/3p1b2/B2P4/4PN1P/PPPB1PP1...     16\n",
       "29997  rn1qkb1r/1p2pppp/2p5/p2p1b2/B2P4/4PN1P/PPPB1PP...      7\n",
       "29998  rn1qkb1r/1p2pppp/2p5/p2p1b2/B2P4/2P1PN1P/PP1B1...     -5\n",
       "29999  rn1qkb1r/1p3ppp/2p1p3/p2p1b2/B2P4/2P1PN1P/PP1B...      5\n",
       "\n",
       "[30000 rows x 2 columns]"
      ]
     },
     "execution_count": 2,
     "metadata": {},
     "output_type": "execute_result"
    }
   ],
   "source": [
    "df = pd.read_csv('fen_analysis.csv').sample(frac=1)[:30000] # This shuffles the rows\n",
    "df = pd.read_csv('fen_analysis.csv')[:30000] # no shuffle\n",
    "df"
   ]
  },
  {
   "cell_type": "code",
   "execution_count": 3,
   "metadata": {},
   "outputs": [],
   "source": [
    "encoder_object = ChessEncoder()"
   ]
  },
  {
   "cell_type": "code",
   "execution_count": 4,
   "metadata": {},
   "outputs": [],
   "source": [
    "fen_encodings = []\n",
    "for fen_i in df['fen_value']:\n",
    "    encoded_fen = encoder_object.encode_fen(fen_i)\n",
    "    fen_encodings.append(encoded_fen)"
   ]
  },
  {
   "cell_type": "code",
   "execution_count": 5,
   "metadata": {},
   "outputs": [],
   "source": [
    "X = torch.tensor(fen_encodings, dtype=torch.int32)"
   ]
  },
  {
   "cell_type": "code",
   "execution_count": 6,
   "metadata": {},
   "outputs": [
    {
     "data": {
      "text/plain": [
       "tensor([[ 9, 11, 10,  ...,  0, 39, 39],\n",
       "        [ 9, 11, 10,  ...,  0, 39, 39],\n",
       "        [ 9, 11, 10,  ...,  0, 39, 39],\n",
       "        ...,\n",
       "        [ 9, 11,  0,  ...,  0, 36, 36],\n",
       "        [ 9, 11,  0,  ...,  0, 36, 36],\n",
       "        [ 9, 11,  0,  ...,  0, 36, 36]], dtype=torch.int32)"
      ]
     },
     "execution_count": 6,
     "metadata": {},
     "output_type": "execute_result"
    }
   ],
   "source": [
    "X"
   ]
  },
  {
   "cell_type": "code",
   "execution_count": 7,
   "metadata": {},
   "outputs": [],
   "source": [
    "score_encodings = []\n",
    "for y_i in df['score']:\n",
    "    # print(y_i)\n",
    "    encoded_score = encoder_object.encode_score(str(y_i))\n",
    "    score_encodings.append(encoded_score)\n",
    "y = torch.tensor(score_encodings, dtype=torch.float32)"
   ]
  },
  {
   "cell_type": "code",
   "execution_count": 8,
   "metadata": {},
   "outputs": [
    {
     "data": {
      "text/plain": [
       "(torch.Size([30000, 200]), torch.Size([30000]))"
      ]
     },
     "execution_count": 8,
     "metadata": {},
     "output_type": "execute_result"
    }
   ],
   "source": [
    "X.shape, y.shape"
   ]
  },
  {
   "cell_type": "markdown",
   "metadata": {},
   "source": [
    "# Helper Functions"
   ]
  },
  {
   "cell_type": "code",
   "execution_count": 9,
   "metadata": {},
   "outputs": [],
   "source": [
    "val_split = 10000\n",
    "test_split = 10000"
   ]
  },
  {
   "cell_type": "code",
   "execution_count": 10,
   "metadata": {},
   "outputs": [],
   "source": [
    "device = 'cuda' if torch.cuda.is_available() else 'cpu'"
   ]
  },
  {
   "cell_type": "code",
   "execution_count": 11,
   "metadata": {},
   "outputs": [],
   "source": [
    "def get_batch(X, Y, bs):\n",
    "    \n",
    "    assert isinstance(X, torch.Tensor)\n",
    "    assert isinstance(Y, torch.Tensor)\n",
    "\n",
    "    batch = torch.randint(0, len(X), (bs,))\n",
    "    x = X[batch].to(device)\n",
    "    y = Y[batch].to(device).to(torch.float32)\n",
    "    return x, y\n",
    "# b = get_batch(X, y, 64)"
   ]
  },
  {
   "cell_type": "code",
   "execution_count": 12,
   "metadata": {},
   "outputs": [],
   "source": [
    "X_val = X[:val_split].to(device)\n",
    "y_val = y[:val_split].to(device)\n",
    "X_test = X[val_split:val_split+test_split].to(device)\n",
    "y_test = y[val_split:val_split+test_split].to(device)\n",
    "X = X[test_split:]\n",
    "y = y[test_split:]"
   ]
  },
  {
   "cell_type": "code",
   "execution_count": 13,
   "metadata": {},
   "outputs": [
    {
     "data": {
      "text/plain": [
       "20000"
      ]
     },
     "execution_count": 13,
     "metadata": {},
     "output_type": "execute_result"
    }
   ],
   "source": [
    "len(X)"
   ]
  },
  {
   "cell_type": "markdown",
   "metadata": {},
   "source": [
    "# Training"
   ]
  },
  {
   "cell_type": "code",
   "execution_count": 14,
   "metadata": {},
   "outputs": [],
   "source": [
    "# hyperparameters\n",
    "lr = 0.1\n",
    "num_steps = 500\n",
    "warmup_steps = 50\n",
    "bs = len(X)\n",
    "# allowed_error = 100 #\n",
    "d1 = {1:10, 2:20}\n",
    "if bs > len(X): bs = len(X)"
   ]
  },
  {
   "cell_type": "code",
   "execution_count": 15,
   "metadata": {},
   "outputs": [],
   "source": [
    "from torch.optim.lr_scheduler import LambdaLR\n"
   ]
  },
  {
   "cell_type": "code",
   "execution_count": 16,
   "metadata": {},
   "outputs": [],
   "source": [
    "model = MLPEngine(embedding_dim=64).to(device)\n",
    "loss_category = nn.MSELoss()\n",
    "optimiser = torch.optim.AdamW(model.parameters(), lr = lr,\n",
    "            betas=(0.9, 0.999),)\n",
    "            # weight_decay=1e-5  ) # i accidenly used a smaller lr for scheduler and it worked better, maybe try it?\n",
    "# Define warm-up and decay\n",
    "def lr_lambda(epoch):\n",
    "    if epoch < warmup_steps:  \n",
    "        return epoch / warmup_steps\n",
    "    else:  # Exponential decay after warm-up\n",
    "        return 0.95 ** (epoch - warmup_steps)\n",
    "\n",
    "scheduler = LambdaLR(optimiser, lr_lambda)\n",
    "model = model\n",
    "model.compile()"
   ]
  },
  {
   "cell_type": "code",
   "execution_count": 17,
   "metadata": {},
   "outputs": [],
   "source": [
    "import torch._dynamo\n",
    "torch._dynamo.config.suppress_errors = True\n",
    "torch.set_float32_matmul_precision('high')"
   ]
  },
  {
   "cell_type": "code",
   "execution_count": 18,
   "metadata": {},
   "outputs": [],
   "source": [
    "train_history = {}\n",
    "val_history = {}\n",
    "start_step = 0"
   ]
  },
  {
   "cell_type": "code",
   "execution_count": 19,
   "metadata": {},
   "outputs": [
    {
     "name": "stdout",
     "output_type": "stream",
     "text": [
      "0 :  1933748.0\n",
      "1 :  2024331.875\n",
      "2 :  2042287.5\n",
      "3 :  1945889.5\n",
      "4 :  2032150.5\n",
      "5 :  1928713.375\n",
      "6 :  2015201.25\n",
      "7 :  2172961.25\n",
      "8 :  1940126.0\n",
      "9 :  2146782.0\n",
      "10 :  1935265.375\n",
      "11 :  2036891.75\n",
      "12 :  2120949.25\n",
      "13 :  2112289.25\n",
      "14 :  1950282.25\n",
      "15 :  2123111.25\n",
      "16 :  2053682.75\n",
      "17 :  1900339.5\n",
      "18 :  1917242.375\n",
      "19 :  1862571.625\n",
      "20 :  1986805.25\n",
      "21 :  2039530.5\n",
      "22 :  1804188.875\n",
      "23 :  1819702.375\n",
      "24 :  1878713.875\n",
      "25 :  1822544.25\n",
      "26 :  1826389.125\n",
      "27 :  1775622.5\n",
      "28 :  1755434.125\n",
      "29 :  1632111.125\n",
      "30 :  1754910.5\n",
      "31 :  1502931.125\n",
      "32 :  1637668.25\n",
      "33 :  1587314.0\n",
      "34 :  1462487.625\n",
      "35 :  1509517.125\n",
      "36 :  1280781.125\n",
      "37 :  1196677.5\n",
      "38 :  1240306.625\n",
      "39 :  1066641.5\n",
      "40 :  1050852.75\n",
      "41 :  972893.5625\n",
      "42 :  718482.3125\n",
      "43 :  796225.5625\n",
      "44 :  621011.0\n",
      "45 :  515690.1875\n",
      "46 :  505213.46875\n",
      "47 :  372355.3125\n",
      "48 :  342279.25\n",
      "49 :  300349.0625\n",
      "50 :  235916.4375\n",
      "51 :  236576.609375\n",
      "52 :  209722.078125\n",
      "53 :  158963.34375\n",
      "54 :  157198.875\n",
      "55 :  177200.9375\n",
      "56 :  140081.578125\n",
      "57 :  158949.109375\n",
      "58 :  136807.453125\n",
      "59 :  127811.7734375\n",
      "60 :  128644.25\n",
      "61 :  107886.6171875\n",
      "62 :  116968.6875\n",
      "63 :  108066.5859375\n",
      "64 :  92372.15625\n",
      "65 :  84393.9453125\n",
      "66 :  96247.8046875\n",
      "67 :  82889.6640625\n",
      "68 :  66162.7109375\n",
      "69 :  74517.4296875\n",
      "70 :  77577.171875\n",
      "71 :  73210.0078125\n",
      "72 :  76392.578125\n",
      "73 :  67379.8828125\n",
      "74 :  53607.7890625\n",
      "75 :  65545.1640625\n",
      "76 :  54543.8515625\n",
      "77 :  57044.234375\n",
      "78 :  54424.47265625\n",
      "79 :  54382.77734375\n",
      "80 :  49853.8671875\n",
      "81 :  55000.765625\n",
      "82 :  47670.55859375\n",
      "83 :  43477.71484375\n",
      "84 :  44284.69140625\n",
      "85 :  49906.125\n",
      "86 :  43269.17578125\n",
      "87 :  41437.1328125\n",
      "88 :  42833.578125\n",
      "89 :  43501.21484375\n",
      "90 :  41139.8515625\n",
      "91 :  36849.8515625\n",
      "92 :  34825.25390625\n",
      "93 :  46574.17578125\n",
      "94 :  39525.484375\n",
      "95 :  35952.78515625\n",
      "96 :  36020.125\n",
      "97 :  40534.30859375\n",
      "98 :  37778.9609375\n",
      "99 :  38133.49609375\n",
      "100 :  34154.4453125\n",
      "101 :  37419.6640625\n",
      "102 :  40077.0625\n",
      "103 :  36899.171875\n",
      "104 :  34778.71484375\n",
      "105 :  31118.1953125\n",
      "106 :  37977.26171875\n",
      "107 :  33513.28125\n",
      "108 :  35199.41796875\n",
      "109 :  37822.80078125\n",
      "110 :  35242.3046875\n",
      "111 :  38086.90625\n",
      "112 :  32620.94921875\n",
      "113 :  31544.8828125\n",
      "114 :  31766.056640625\n",
      "115 :  34167.79296875\n",
      "116 :  34038.69921875\n",
      "117 :  33680.5546875\n",
      "118 :  32302.177734375\n",
      "119 :  34115.69140625\n",
      "120 :  40319.78515625\n",
      "121 :  33966.16796875\n",
      "122 :  31563.013671875\n",
      "123 :  34675.984375\n",
      "124 :  39918.97265625\n",
      "125 :  39266.17578125\n",
      "126 :  34825.0078125\n",
      "127 :  31514.1875\n",
      "128 :  34059.91796875\n",
      "129 :  34342.05859375\n",
      "130 :  30930.63671875\n",
      "131 :  41753.17578125\n",
      "132 :  32577.5703125\n",
      "133 :  35806.87109375\n",
      "134 :  29645.947265625\n",
      "135 :  28247.916015625\n",
      "136 :  36054.3359375\n",
      "137 :  34328.7578125\n",
      "138 :  34824.1015625\n",
      "139 :  32488.927734375\n",
      "140 :  35168.4609375\n",
      "141 :  31489.6015625\n",
      "142 :  35740.40234375\n",
      "143 :  35517.72265625\n",
      "144 :  29411.23046875\n",
      "145 :  33741.7734375\n",
      "146 :  31214.30078125\n",
      "147 :  36924.5703125\n",
      "148 :  32856.79296875\n",
      "149 :  32323.16015625\n",
      "150 :  35265.95703125\n",
      "151 :  30108.958984375\n",
      "152 :  33045.73828125\n",
      "153 :  33967.6171875\n",
      "154 :  31883.3984375\n",
      "155 :  29141.826171875\n",
      "156 :  30326.001953125\n",
      "157 :  36606.7734375\n",
      "158 :  31677.064453125\n",
      "159 :  35434.1640625\n",
      "160 :  34040.26171875\n",
      "161 :  29132.22265625\n",
      "162 :  35459.046875\n",
      "163 :  35035.92578125\n",
      "164 :  34358.4453125\n",
      "165 :  42959.390625\n",
      "166 :  36333.36328125\n",
      "167 :  37043.23828125\n",
      "168 :  30625.228515625\n",
      "169 :  36202.265625\n",
      "170 :  31392.908203125\n",
      "171 :  32017.103515625\n",
      "172 :  35529.828125\n",
      "173 :  33865.72265625\n",
      "174 :  34274.73046875\n",
      "175 :  32259.318359375\n",
      "176 :  34376.640625\n",
      "177 :  37207.578125\n",
      "178 :  32902.7109375\n",
      "179 :  33724.51953125\n",
      "180 :  34558.19140625\n",
      "181 :  39060.51953125\n",
      "182 :  37103.51953125\n",
      "183 :  27807.033203125\n",
      "184 :  32203.94140625\n",
      "185 :  28991.76953125\n",
      "186 :  34626.77734375\n",
      "187 :  36921.703125\n",
      "188 :  32654.005859375\n",
      "189 :  31906.9375\n",
      "190 :  31062.939453125\n",
      "191 :  32151.1640625\n",
      "192 :  34319.26171875\n",
      "193 :  31335.265625\n",
      "194 :  32005.158203125\n",
      "195 :  31176.501953125\n",
      "196 :  31047.154296875\n",
      "197 :  30316.84765625\n",
      "198 :  32668.29296875\n",
      "199 :  35915.2421875\n",
      "200 :  31417.10546875\n",
      "201 :  35680.6953125\n"
     ]
    },
    {
     "ename": "KeyboardInterrupt",
     "evalue": "",
     "output_type": "error",
     "traceback": [
      "\u001b[0;31m---------------------------------------------------------------------------\u001b[0m",
      "\u001b[0;31mKeyboardInterrupt\u001b[0m                         Traceback (most recent call last)",
      "Cell \u001b[0;32mIn[19], line 18\u001b[0m\n\u001b[1;32m     16\u001b[0m scheduler\u001b[38;5;241m.\u001b[39mstep()\n\u001b[1;32m     17\u001b[0m \u001b[38;5;66;03m# print(f\"Epoch {step_i}, Learning Rate: {scheduler.get_last_lr()}\")\u001b[39;00m\n\u001b[0;32m---> 18\u001b[0m \u001b[38;5;28mprint\u001b[39m(tot_step, \u001b[38;5;124m'\u001b[39m\u001b[38;5;124m: \u001b[39m\u001b[38;5;124m'\u001b[39m,\u001b[43mloss\u001b[49m\u001b[38;5;241;43m.\u001b[39;49m\u001b[43mitem\u001b[49m\u001b[43m(\u001b[49m\u001b[43m)\u001b[49m)\n\u001b[1;32m     20\u001b[0m \u001b[38;5;28;01mif\u001b[39;00m tot_step \u001b[38;5;241m%\u001b[39m \u001b[38;5;241m100\u001b[39m \u001b[38;5;241m==\u001b[39m \u001b[38;5;241m0\u001b[39m:\n\u001b[1;32m     21\u001b[0m     \u001b[38;5;66;03m# validation phase\u001b[39;00m\n\u001b[1;32m     22\u001b[0m     y_pred \u001b[38;5;241m=\u001b[39m model(X_val)\u001b[38;5;241m.\u001b[39mview(val_split)\n",
      "\u001b[0;31mKeyboardInterrupt\u001b[0m: "
     ]
    }
   ],
   "source": [
    "model.train()\n",
    "# train_history = {}\n",
    "# val_history = {}\n",
    "for step_i in range(num_steps):\n",
    "    tot_step = step_i + start_step\n",
    "    optimiser.zero_grad()\n",
    "    x_batch, y_batch = get_batch(X, y, bs) \n",
    "    # print(x_batch, y_batch)\n",
    "    y_pred = model(x_batch).view(bs)\n",
    "    # print(y_pred.shape, y_batch.shape)\n",
    "    loss = loss_category(y_pred, y_batch)\n",
    "    # print(loss.item())\n",
    "    train_history[tot_step] = loss.item()\n",
    "    loss.backward()\n",
    "    optimiser.step()\n",
    "    scheduler.step()\n",
    "    # print(f\"Epoch {step_i}, Learning Rate: {scheduler.get_last_lr()}\")\n",
    "    print(tot_step, ': ',loss.item())\n",
    "\n",
    "    if tot_step % 100 == 0:\n",
    "        # validation phase\n",
    "        y_pred = model(X_val).view(val_split)\n",
    "        # print(y_pred.shape, y_batch.shape)\n",
    "        loss = loss_category(y_pred, y_val)\n",
    "        # print(loss.item())\n",
    "        val_history[tot_step] = loss.item()\n",
    "\n",
    "start_step += num_steps"
   ]
  },
  {
   "cell_type": "code",
   "execution_count": null,
   "metadata": {},
   "outputs": [],
   "source": [
    "torch.save(model.state_dict(), 'saves/bad_model.pt')"
   ]
  },
  {
   "cell_type": "code",
   "execution_count": null,
   "metadata": {},
   "outputs": [
    {
     "data": {
      "image/png": "[encoded data removed]",
      "text/plain": [
       "<Figure size 640x480 with 1 Axes>"
      ]
     },
     "metadata": {},
     "output_type": "display_data"
    }
   ],
   "source": [
    "plt.plot(list(train_history.keys())[100:], list(train_history.values())[100:], label='train')\n",
    "# plt.plot(val_history.keys(), val_history.values(), label='validation')\n",
    "plt.legend()\n",
    "plt.show()"
   ]
  },
  {
   "cell_type": "code",
   "execution_count": null,
   "metadata": {},
   "outputs": [
    {
     "data": {
      "image/png": "[encoded data removed]",
      "text/plain": [
       "<Figure size 640x480 with 1 Axes>"
      ]
     },
     "metadata": {},
     "output_type": "display_data"
    }
   ],
   "source": [
    "plt.plot(list(train_history.keys()), list(train_history.values()), label='train')\n",
    "plt.plot(val_history.keys(), val_history.values(), label='validation')\n",
    "plt.legend()\n",
    "plt.show()"
   ]
  },
  {
   "cell_type": "code",
   "execution_count": null,
   "metadata": {},
   "outputs": [
    {
     "data": {
      "text/plain": [
       "'\\n# My results\\nAt relu, model is stuck around 25k with 3x1000 steps with xavier\\nAT relu, moedl went to 9k and then exploded at 3x1000 steps with kaiming; then at 14k\\nAt gelu, model is stuck atound 10k\\n\\nAdam is better than AdamW for this task\\n'"
      ]
     },
     "execution_count": 23,
     "metadata": {},
     "output_type": "execute_result"
    }
   ],
   "source": [
    "'''\n",
    "# My results\n",
    "At relu, model is stuck around 25k with 3x1000 steps with xavier\n",
    "AT relu, moedl went to 9k and then exploded at 3x1000 steps with kaiming; then at 14k\n",
    "At gelu, model is stuck atound 10k\n",
    "\n",
    "Adam is better than AdamW for this task\n",
    "'''"
   ]
  },
  {
   "cell_type": "markdown",
   "metadata": {},
   "source": [
    "# TO DO"
   ]
  },
  {
   "cell_type": "markdown",
   "metadata": {},
   "source": [
    "- [x] do inference, and run a partially trained model with the GUI intact\n",
    "- [ ] **find a way to fix the fact that our model is giving integer loss\n",
    "- [ ] **Fix the bug in initialisation\n",
    "- [ ] implement weights and biases or tensorboard \n",
    "- [ ] improve the model\n",
    "  - [ ] get a better/ bigger dataset\n",
    "  - [ ] hyperparameter and architecture\n",
    "    - [ ] add CNN\n",
    "    - [x] better encoding\n",
    "    - [ ] residual connections\n",
    "    - [ ] try adamW after tuning b1 and b2\n",
    "    - [ ] increase embedding dim\n",
    "    - [ ] increase neurons in the layers\n",
    "    - [ ] increase layers in the network\n",
    "    - [ ] change loss function (maybe)\n",
    "    - [ ] try diff learning rate scheduler(trapeziodal)\n",
    "    - [ ] Add regularisation\n",
    "      - [ ] l1,l2\n",
    "      - [ ] dropout\n",
    "    - [ ] Better initialisation\n",
    "    - [ ] diff optimisation algorithm"
   ]
  },
  {
   "cell_type": "markdown",
   "metadata": {},
   "source": [
    "- make the init proper by specifying the activation in the init as claude said\n",
    "-  no cnn right now, maybe in future\n",
    "- "
   ]
  }
 ],
 "metadata": {
  "kernelspec": {
   "display_name": "AI_ENV",
   "language": "python",
   "name": "python3"
  },
  "language_info": {
   "codemirror_mode": {
    "name": "ipython",
    "version": 3
   },
   "file_extension": ".py",
   "mimetype": "text/x-python",
   "name": "python",
   "nbconvert_exporter": "python",
   "pygments_lexer": "ipython3",
   "version": "3.10.12"
  }
 },
 "nbformat": 4,
 "nbformat_minor": 2
}
