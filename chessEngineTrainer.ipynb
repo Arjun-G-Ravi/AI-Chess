{
 "cells": [
  {
   "cell_type": "code",
   "execution_count": 1,
   "metadata": {},
   "outputs": [],
   "source": [
    "import torch\n",
    "import torch.nn as nn\n",
    "import pandas as pd\n",
    "from chessEngine import ChessEncoder, MLPEngine\n",
    "import matplotlib.pyplot as plt"
   ]
  },
  {
   "cell_type": "markdown",
   "metadata": {},
   "source": [
    "# Preprocessing"
   ]
  },
  {
   "cell_type": "code",
   "execution_count": 2,
   "metadata": {},
   "outputs": [
    {
     "data": {
      "text/html": [
       "<div>\n",
       "<style scoped>\n",
       "    .dataframe tbody tr th:only-of-type {\n",
       "        vertical-align: middle;\n",
       "    }\n",
       "\n",
       "    .dataframe tbody tr th {\n",
       "        vertical-align: top;\n",
       "    }\n",
       "\n",
       "    .dataframe thead th {\n",
       "        text-align: right;\n",
       "    }\n",
       "</style>\n",
       "<table border=\"1\" class=\"dataframe\">\n",
       "  <thead>\n",
       "    <tr style=\"text-align: right;\">\n",
       "      <th></th>\n",
       "      <th>fen_value</th>\n",
       "      <th>score</th>\n",
       "    </tr>\n",
       "  </thead>\n",
       "  <tbody>\n",
       "    <tr>\n",
       "      <th>215700</th>\n",
       "      <td>rnbqk1nr/ppp1bppp/3pp3/8/4P3/2NP4/PPP2PPP/R1BQ...</td>\n",
       "      <td>51</td>\n",
       "    </tr>\n",
       "    <tr>\n",
       "      <th>292301</th>\n",
       "      <td>3k4/1p2n2p/p4rp1/2b2p2/2B2P2/2N5/PPP3PP/3K4 b ...</td>\n",
       "      <td>457</td>\n",
       "    </tr>\n",
       "    <tr>\n",
       "      <th>176899</th>\n",
       "      <td>r2q1rk1/3n2pp/p1nbbp2/2p1p3/3pP3/1PpP1NPP/PBNQ...</td>\n",
       "      <td>-632</td>\n",
       "    </tr>\n",
       "    <tr>\n",
       "      <th>21481</th>\n",
       "      <td>rn1qkb1r/1ppb1ppp/p2ppn2/8/3PP3/3B1N2/PPP2PPP/...</td>\n",
       "      <td>-91</td>\n",
       "    </tr>\n",
       "    <tr>\n",
       "      <th>290907</th>\n",
       "      <td>rn1qkb1r/ppp2ppp/3p1n2/4P3/4P3/2N2b2/PPPP2PP/R...</td>\n",
       "      <td>68</td>\n",
       "    </tr>\n",
       "    <tr>\n",
       "      <th>...</th>\n",
       "      <td>...</td>\n",
       "      <td>...</td>\n",
       "    </tr>\n",
       "    <tr>\n",
       "      <th>214730</th>\n",
       "      <td>2kr3r/pppq1ppp/3b4/5b2/3Pp3/P1P1n3/1P2BPPP/RN1...</td>\n",
       "      <td>-159</td>\n",
       "    </tr>\n",
       "    <tr>\n",
       "      <th>261532</th>\n",
       "      <td>r2q1r1k/ppp3pp/3p4/3Q4/3nP3/8/P4PPP/R4RK1 w - ...</td>\n",
       "      <td>-90</td>\n",
       "    </tr>\n",
       "    <tr>\n",
       "      <th>108372</th>\n",
       "      <td>r4rk1/3bppbp/2qp1np1/2p2P2/1pP1P3/pP1P2Q1/PBNN...</td>\n",
       "      <td>-74</td>\n",
       "    </tr>\n",
       "    <tr>\n",
       "      <th>276375</th>\n",
       "      <td>rn1qk2r/pp3pbp/2p1p1p1/3nP3/2B2P2/2P2Q1P/PP4P1...</td>\n",
       "      <td>-62</td>\n",
       "    </tr>\n",
       "    <tr>\n",
       "      <th>10529</th>\n",
       "      <td>rn1qk1nr/1b1p1pbp/p3p1p1/1pp5/4PP2/P1NP4/BPPB2...</td>\n",
       "      <td>76</td>\n",
       "    </tr>\n",
       "  </tbody>\n",
       "</table>\n",
       "<p>336903 rows × 2 columns</p>\n",
       "</div>"
      ],
      "text/plain": [
       "                                                fen_value  score\n",
       "215700  rnbqk1nr/ppp1bppp/3pp3/8/4P3/2NP4/PPP2PPP/R1BQ...     51\n",
       "292301  3k4/1p2n2p/p4rp1/2b2p2/2B2P2/2N5/PPP3PP/3K4 b ...    457\n",
       "176899  r2q1rk1/3n2pp/p1nbbp2/2p1p3/3pP3/1PpP1NPP/PBNQ...   -632\n",
       "21481   rn1qkb1r/1ppb1ppp/p2ppn2/8/3PP3/3B1N2/PPP2PPP/...    -91\n",
       "290907  rn1qkb1r/ppp2ppp/3p1n2/4P3/4P3/2N2b2/PPPP2PP/R...     68\n",
       "...                                                   ...    ...\n",
       "214730  2kr3r/pppq1ppp/3b4/5b2/3Pp3/P1P1n3/1P2BPPP/RN1...   -159\n",
       "261532  r2q1r1k/ppp3pp/3p4/3Q4/3nP3/8/P4PPP/R4RK1 w - ...    -90\n",
       "108372  r4rk1/3bppbp/2qp1np1/2p2P2/1pP1P3/pP1P2Q1/PBNN...    -74\n",
       "276375  rn1qk2r/pp3pbp/2p1p1p1/3nP3/2B2P2/2P2Q1P/PP4P1...    -62\n",
       "10529   rn1qk1nr/1b1p1pbp/p3p1p1/1pp5/4PP2/P1NP4/BPPB2...     76\n",
       "\n",
       "[336903 rows x 2 columns]"
      ]
     },
     "execution_count": 2,
     "metadata": {},
     "output_type": "execute_result"
    }
   ],
   "source": [
    "df = pd.read_csv('fen_analysis.csv').sample(frac=1) # This shuffles the rows\n",
    "df"
   ]
  },
  {
   "cell_type": "code",
   "execution_count": 3,
   "metadata": {},
   "outputs": [],
   "source": [
    "encoder_object = ChessEncoder()"
   ]
  },
  {
   "cell_type": "code",
   "execution_count": 4,
   "metadata": {},
   "outputs": [],
   "source": [
    "fen_encodings = []\n",
    "for fen_i in df['fen_value']:\n",
    "    encoded_fen = encoder_object.encode_fen(fen_i)\n",
    "    fen_encodings.append(encoded_fen)"
   ]
  },
  {
   "cell_type": "code",
   "execution_count": 5,
   "metadata": {},
   "outputs": [],
   "source": [
    "X = torch.tensor(fen_encodings, dtype=torch.int32)"
   ]
  },
  {
   "cell_type": "code",
   "execution_count": 6,
   "metadata": {},
   "outputs": [],
   "source": [
    "score_encodings = []\n",
    "for y_i in df['score']:\n",
    "    # print(y_i)\n",
    "    encoded_score = encoder_object.encode_score(str(y_i))\n",
    "    score_encodings.append(encoded_score)\n",
    "y = torch.tensor(score_encodings)"
   ]
  },
  {
   "cell_type": "code",
   "execution_count": 7,
   "metadata": {},
   "outputs": [
    {
     "data": {
      "text/plain": [
       "(torch.Size([336903, 70]), torch.Size([336903]))"
      ]
     },
     "execution_count": 7,
     "metadata": {},
     "output_type": "execute_result"
    }
   ],
   "source": [
    "X.shape, y.shape"
   ]
  },
  {
   "cell_type": "markdown",
   "metadata": {},
   "source": [
    "# Helper Functions"
   ]
  },
  {
   "cell_type": "code",
   "execution_count": 8,
   "metadata": {},
   "outputs": [],
   "source": [
    "val_split = 10000\n",
    "test_split = 10000"
   ]
  },
  {
   "cell_type": "code",
   "execution_count": 9,
   "metadata": {},
   "outputs": [],
   "source": [
    "device = 'cuda' if torch.cuda.is_available() else 'cpu'"
   ]
  },
  {
   "cell_type": "code",
   "execution_count": 10,
   "metadata": {},
   "outputs": [],
   "source": [
    "def get_batch(X, Y, bs):\n",
    "    if bs > len(X): bs = len(X)\n",
    "    assert isinstance(X, torch.Tensor)\n",
    "    assert isinstance(Y, torch.Tensor)\n",
    "\n",
    "    batch = torch.randint(0, len(X), (bs,))\n",
    "    x = X[batch].to(device)\n",
    "    y = Y[batch].to(device)\n",
    "    return x, y\n",
    "# b = get_batch(X, y, 64)"
   ]
  },
  {
   "cell_type": "code",
   "execution_count": 11,
   "metadata": {},
   "outputs": [],
   "source": [
    "X_val = X[:val_split].to(device)\n",
    "y_val = y[:val_split].to(device)\n",
    "X_test = X[val_split:test_split].to(device)\n",
    "y_test = y[val_split:test_split].to(device)\n",
    "X = X[test_split:]\n",
    "y = y[test_split:]"
   ]
  },
  {
   "cell_type": "markdown",
   "metadata": {},
   "source": [
    "# Training"
   ]
  },
  {
   "cell_type": "code",
   "execution_count": 12,
   "metadata": {},
   "outputs": [],
   "source": [
    "# hyperparameters\n",
    "lr = 0.01\n",
    "num_steps = 100\n",
    "bs = 12800\n",
    "# allowed_error = 100 #"
   ]
  },
  {
   "cell_type": "code",
   "execution_count": 13,
   "metadata": {},
   "outputs": [],
   "source": [
    "model = MLPEngine(embedding_dim=32).to(device)\n",
    "loss_category = nn.MSELoss()\n",
    "optimiser = torch.optim.Adam(model.parameters(), lr = lr)\n",
    "# model.compile()"
   ]
  },
  {
   "cell_type": "code",
   "execution_count": 14,
   "metadata": {},
   "outputs": [
    {
     "name": "stdout",
     "output_type": "stream",
     "text": [
      "5631.30322265625\n",
      "28.205768585205078\n",
      "3.716433525085449\n",
      "0.3423081636428833\n",
      "0.11000849306583405\n",
      "0.054585520178079605\n",
      "0.03803066536784172\n",
      "0.03311091288924217\n",
      "0.03217490017414093\n",
      "0.03220944106578827\n"
     ]
    }
   ],
   "source": [
    "train_history = {}\n",
    "val_history = {}\n",
    "for step_i in range(num_steps):\n",
    "    optimiser.zero_grad()\n",
    "    x_batch, y_batch = get_batch(X, y, bs) \n",
    "    # print(x_batch, y_batch)\n",
    "    y_pred = model(x_batch).view(bs)\n",
    "    # print(y_pred.shape, y_batch.shape)\n",
    "    loss = loss_category(y_pred, y_batch)\n",
    "    # print(loss.item())\n",
    "    if loss.item() < 100:\n",
    "        train_history[step_i] = loss.item()\n",
    "    loss.backward()\n",
    "    optimiser.step()\n",
    "\n",
    "    if step_i % 10 == 0:\n",
    "        # validation phase\n",
    "        y_pred = model(X_val).view(val_split)\n",
    "        # print(y_pred.shape, y_batch.shape)\n",
    "        loss = loss_category(y_pred, y_val)\n",
    "        print(loss.item())\n",
    "        if loss.item() < 100:\n",
    "            val_history[step_i] = loss.item()\n",
    "\n",
    "        \n",
    "\n"
   ]
  },
  {
   "cell_type": "code",
   "execution_count": 15,
   "metadata": {},
   "outputs": [
    {
     "data": {
      "text/plain": [
       "dict_values([28.205768585205078, 3.716433525085449, 0.3423081636428833, 0.11000849306583405, 0.054585520178079605, 0.03803066536784172, 0.03311091288924217, 0.03217490017414093, 0.03220944106578827])"
      ]
     },
     "execution_count": 15,
     "metadata": {},
     "output_type": "execute_result"
    }
   ],
   "source": [
    "val_history.values()"
   ]
  },
  {
   "cell_type": "code",
   "execution_count": 16,
   "metadata": {},
   "outputs": [
    {
     "data": {
      "image/png": "[encoded data removed]",
      "text/plain": [
       "<Figure size 640x480 with 1 Axes>"
      ]
     },
     "metadata": {},
     "output_type": "display_data"
    }
   ],
   "source": [
    "plt.plot(train_history.keys(), train_history.values(), label='train')\n",
    "plt.plot(val_history.keys(), val_history.values(), label='validation')\n",
    "plt.legend()\n",
    "plt.show()"
   ]
  },
  {
   "cell_type": "markdown",
   "metadata": {},
   "source": [
    "# Inference"
   ]
  },
  {
   "cell_type": "code",
   "execution_count": null,
   "metadata": {},
   "outputs": [],
   "source": []
  },
  {
   "cell_type": "code",
   "execution_count": null,
   "metadata": {},
   "outputs": [],
   "source": []
  },
  {
   "cell_type": "code",
   "execution_count": null,
   "metadata": {},
   "outputs": [],
   "source": []
  },
  {
   "cell_type": "code",
   "execution_count": null,
   "metadata": {},
   "outputs": [],
   "source": []
  },
  {
   "cell_type": "markdown",
   "metadata": {},
   "source": [
    "# TODO\n",
    "- do inference\n",
    "- evaluate on test dataset\n",
    "- do some hyperparameter tuning, maybe grid search or something\n",
    "- look for other/ better dataset\n",
    "- add regularisation\n",
    "- add prop initialisation\n",
    "- Then start to think about architectural changes"
   ]
  }
 ],
 "metadata": {
  "kernelspec": {
   "display_name": "AI_ENV",
   "language": "python",
   "name": "python3"
  },
  "language_info": {
   "codemirror_mode": {
    "name": "ipython",
    "version": 3
   },
   "file_extension": ".py",
   "mimetype": "text/x-python",
   "name": "python",
   "nbconvert_exporter": "python",
   "pygments_lexer": "ipython3",
   "version": "3.10.12"
  }
 },
 "nbformat": 4,
 "nbformat_minor": 2
}
