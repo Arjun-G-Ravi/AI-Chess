{
 "cells": [
  {
   "cell_type": "code",
   "execution_count": 1,
   "metadata": {},
   "outputs": [],
   "source": [
    "import pandas as pd\n",
    "import numpy as np\n",
    "import chess\n",
    "from sklearn.model_selection import train_test_split\n",
    "from ChessEngine import Engine\n",
    "import torch"
   ]
  },
  {
   "cell_type": "code",
   "execution_count": 2,
   "metadata": {},
   "outputs": [
    {
     "name": "stdout",
     "output_type": "stream",
     "text": [
      "Size: 1200000\n"
     ]
    }
   ],
   "source": [
    "df = pd.read_csv('/home/arjun/Desktop/Datasets/chessData.csv', nrows = 1200000)  # tot = 12,958,035\n",
    "print('Size:', len(df))\n",
    "test_df = df\n",
    "X = np.array(test_df.iloc[:,0])\n",
    "y = np.array(test_df.iloc[:,1])\n",
    "# dataset split\n",
    "X_train, X_test, y_train, y_test = train_test_split(X, y, test_size=0.1, shuffle=True)\n",
    "    "
   ]
  },
  {
   "cell_type": "code",
   "execution_count": 2,
   "metadata": {},
   "outputs": [],
   "source": [
    "board = chess.Board()\n",
    "engine = Engine(board)"
   ]
  },
  {
   "cell_type": "code",
   "execution_count": 3,
   "metadata": {},
   "outputs": [],
   "source": [
    "loc = 'Model_saves/ChessModel.pt'"
   ]
  },
  {
   "cell_type": "code",
   "execution_count": 5,
   "metadata": {},
   "outputs": [
    {
     "name": "stdout",
     "output_type": "stream",
     "text": [
      "Training model...\n",
      "Initialising...\n"
     ]
    },
    {
     "name": "stderr",
     "output_type": "stream",
     "text": [
      "/home/arjun/AI_ENV/lib/python3.10/site-packages/tqdm/auto.py:21: TqdmWarning: IProgress not found. Please update jupyter and ipywidgets. See https://ipywidgets.readthedocs.io/en/stable/user_install.html\n",
      "  from .autonotebook import tqdm as notebook_tqdm\n"
     ]
    },
    {
     "name": "stdout",
     "output_type": "stream",
     "text": [
      "Something wrong with ﻿+23\n",
      "Training...\n",
      "Epoch: 1/100   Loss: 124.34580993652344\n",
      "Epoch: 2/100   Loss: 258.4671325683594\n",
      "Epoch: 3/100   Loss: 127.69087982177734\n",
      "Epoch: 4/100   Loss: 117.53087615966797\n",
      "Epoch: 5/100   Loss: 122.25791931152344\n",
      "Epoch: 6/100   Loss: 123.73113250732422\n",
      "Epoch: 7/100   Loss: 122.4934310913086\n",
      "Epoch: 8/100   Loss: 120.4363784790039\n",
      "Epoch: 9/100   Loss: 118.57672882080078\n",
      "Epoch: 10/100   Loss: 117.40970611572266\n",
      "Epoch: 11/100   Loss: 117.20203399658203\n",
      "Epoch: 12/100   Loss: 117.79971313476562\n",
      "Epoch: 13/100   Loss: 118.298828125\n",
      "Epoch: 14/100   Loss: 118.21614074707031\n",
      "Epoch: 15/100   Loss: 117.75386810302734\n",
      "Epoch: 16/100   Loss: 117.27689361572266\n",
      "Epoch: 17/100   Loss: 117.01083374023438\n",
      "Epoch: 18/100   Loss: 116.98918914794922\n",
      "Epoch: 19/100   Loss: 117.0989761352539\n",
      "Epoch: 20/100   Loss: 117.19782257080078\n",
      "Epoch: 21/100   Loss: 117.21298217773438\n",
      "Epoch: 22/100   Loss: 117.14075469970703\n",
      "Epoch: 23/100   Loss: 117.0114974975586\n",
      "Epoch: 24/100   Loss: 116.8562240600586\n",
      "Epoch: 25/100   Loss: 116.69743347167969\n",
      "Epoch: 26/100   Loss: 116.55445861816406\n",
      "Epoch: 27/100   Loss: 116.44183349609375\n",
      "Epoch: 28/100   Loss: 116.36055755615234\n",
      "Epoch: 29/100   Loss: 116.29039001464844\n",
      "Epoch: 30/100   Loss: 116.19800567626953\n",
      "Epoch: 31/100   Loss: 116.05400085449219\n",
      "Epoch: 32/100   Loss: 115.84951782226562\n",
      "Epoch: 33/100   Loss: 115.60031127929688\n",
      "Epoch: 34/100   Loss: 115.33078002929688\n",
      "Epoch: 35/100   Loss: 115.05138397216797\n",
      "Epoch: 36/100   Loss: 114.74786376953125\n",
      "Epoch: 37/100   Loss: 114.38882446289062\n",
      "Epoch: 38/100   Loss: 113.9501724243164\n",
      "Epoch: 39/100   Loss: 113.43982696533203\n",
      "Epoch: 40/100   Loss: 112.90660858154297\n",
      "Epoch: 41/100   Loss: 112.38214111328125\n",
      "Epoch: 42/100   Loss: 111.80809783935547\n",
      "Epoch: 43/100   Loss: 111.21751403808594\n",
      "Epoch: 44/100   Loss: 110.7377700805664\n",
      "Epoch: 45/100   Loss: 110.2398452758789\n",
      "Epoch: 46/100   Loss: 109.79525756835938\n",
      "Epoch: 47/100   Loss: 109.41373443603516\n",
      "Epoch: 48/100   Loss: 108.96952056884766\n",
      "Epoch: 49/100   Loss: 108.53319549560547\n",
      "Epoch: 50/100   Loss: 107.99030303955078\n",
      "Epoch: 51/100   Loss: 107.41497039794922\n",
      "Epoch: 52/100   Loss: 106.79228210449219\n",
      "Epoch: 53/100   Loss: 106.15482330322266\n",
      "Epoch: 54/100   Loss: 105.54682159423828\n",
      "Epoch: 55/100   Loss: 104.92715454101562\n",
      "Epoch: 56/100   Loss: 104.34130859375\n",
      "Epoch: 57/100   Loss: 103.69270324707031\n",
      "Epoch: 58/100   Loss: 103.032958984375\n",
      "Epoch: 59/100   Loss: 102.28516387939453\n",
      "Epoch: 60/100   Loss: 101.48481750488281\n",
      "Epoch: 61/100   Loss: 100.62962341308594\n",
      "Epoch: 62/100   Loss: 99.70427703857422\n",
      "Epoch: 63/100   Loss: 98.72772216796875\n",
      "Epoch: 64/100   Loss: 97.68731689453125\n",
      "Epoch: 65/100   Loss: 96.55923461914062\n",
      "Epoch: 66/100   Loss: 95.35015869140625\n",
      "Epoch: 67/100   Loss: 94.06687927246094\n",
      "Epoch: 68/100   Loss: 92.70539855957031\n",
      "Epoch: 69/100   Loss: 91.24716186523438\n",
      "Epoch: 70/100   Loss: 89.67858123779297\n",
      "Epoch: 71/100   Loss: 88.02253723144531\n",
      "Epoch: 72/100   Loss: 86.3436279296875\n",
      "Epoch: 73/100   Loss: 84.88540649414062\n",
      "Epoch: 74/100   Loss: 84.2132568359375\n",
      "Epoch: 75/100   Loss: 82.47199249267578\n",
      "Epoch: 76/100   Loss: 79.06208038330078\n",
      "Epoch: 77/100   Loss: 77.97144317626953\n",
      "Epoch: 78/100   Loss: 76.52848052978516\n",
      "Epoch: 79/100   Loss: 73.37928771972656\n",
      "Epoch: 80/100   Loss: 72.03035736083984\n",
      "Epoch: 81/100   Loss: 70.74176788330078\n",
      "Epoch: 82/100   Loss: 67.93946075439453\n",
      "Epoch: 83/100   Loss: 65.26361083984375\n",
      "Epoch: 84/100   Loss: 64.02107238769531\n",
      "Epoch: 85/100   Loss: 63.588653564453125\n",
      "Epoch: 86/100   Loss: 62.047969818115234\n",
      "Epoch: 87/100   Loss: 58.89366149902344\n",
      "Epoch: 88/100   Loss: 56.30214309692383\n",
      "Epoch: 89/100   Loss: 56.089298248291016\n",
      "Epoch: 90/100   Loss: 55.495670318603516\n",
      "Epoch: 91/100   Loss: 52.49997329711914\n",
      "Epoch: 92/100   Loss: 50.47462844848633\n",
      "Epoch: 93/100   Loss: 50.3860969543457\n",
      "Epoch: 94/100   Loss: 49.60424041748047\n",
      "Epoch: 95/100   Loss: 47.38337707519531\n",
      "Epoch: 96/100   Loss: 45.34382629394531\n",
      "Epoch: 97/100   Loss: 44.910621643066406\n",
      "Epoch: 98/100   Loss: 44.640499114990234\n",
      "Epoch: 99/100   Loss: 42.924556732177734\n",
      "Epoch: 100/100   Loss: 40.95078659057617\n"
     ]
    }
   ],
   "source": [
    "# # Training\n",
    "print(\"Training model...\")\n",
    "engine.train_chess_engine(X_train, y_train)"
   ]
  },
  {
   "cell_type": "code",
   "execution_count": 6,
   "metadata": {},
   "outputs": [],
   "source": [
    "torch.save(engine.model,loc)"
   ]
  },
  {
   "cell_type": "code",
   "execution_count": 7,
   "metadata": {},
   "outputs": [
    {
     "ename": "SyntaxError",
     "evalue": "'break' outside loop (668683560.py, line 1)",
     "output_type": "error",
     "traceback": [
      "\u001b[0;36m  Cell \u001b[0;32mIn[7], line 1\u001b[0;36m\u001b[0m\n\u001b[0;31m    break\u001b[0m\n\u001b[0m    ^\u001b[0m\n\u001b[0;31mSyntaxError\u001b[0m\u001b[0;31m:\u001b[0m 'break' outside loop\n"
     ]
    }
   ],
   "source": [
    "break"
   ]
  },
  {
   "cell_type": "code",
   "execution_count": 4,
   "metadata": {},
   "outputs": [
    {
     "name": "stdout",
     "output_type": "stream",
     "text": [
      "Loaded successfully\n"
     ]
    }
   ],
   "source": [
    "engine.model = torch.load(loc)\n",
    "if engine.model: print(\"Loaded successfully\")\n",
    "else: raise Exception('ModelLoadingFailed') "
   ]
  },
  {
   "cell_type": "code",
   "execution_count": 5,
   "metadata": {},
   "outputs": [
    {
     "name": "stdout",
     "output_type": "stream",
     "text": [
      "Train set\n"
     ]
    },
    {
     "ename": "NameError",
     "evalue": "name 'X_train' is not defined",
     "output_type": "error",
     "traceback": [
      "\u001b[0;31m---------------------------------------------------------------------------\u001b[0m",
      "\u001b[0;31mNameError\u001b[0m                                 Traceback (most recent call last)",
      "Cell \u001b[0;32mIn[5], line 3\u001b[0m\n\u001b[1;32m      1\u001b[0m \u001b[38;5;66;03m# Accuracy\u001b[39;00m\n\u001b[1;32m      2\u001b[0m \u001b[38;5;28mprint\u001b[39m(\u001b[38;5;124m'\u001b[39m\u001b[38;5;124mTrain set\u001b[39m\u001b[38;5;124m'\u001b[39m)\n\u001b[0;32m----> 3\u001b[0m engine\u001b[38;5;241m.\u001b[39maccuracy(\u001b[43mX_train\u001b[49m,y_train)\n\u001b[1;32m      4\u001b[0m \u001b[38;5;28mprint\u001b[39m(\u001b[38;5;124m'\u001b[39m\u001b[38;5;130;01m\\n\u001b[39;00m\u001b[38;5;124mTest set\u001b[39m\u001b[38;5;124m'\u001b[39m)\n\u001b[1;32m      5\u001b[0m engine\u001b[38;5;241m.\u001b[39maccuracy(X_test,y_test)\n",
      "\u001b[0;31mNameError\u001b[0m: name 'X_train' is not defined"
     ]
    }
   ],
   "source": [
    "# Accuracy\n",
    "print('Train set')\n",
    "engine.accuracy(X_train,y_train)\n",
    "print('\\nTest set')\n",
    "engine.accuracy(X_test,y_test)\n"
   ]
  },
  {
   "cell_type": "code",
   "execution_count": 5,
   "metadata": {},
   "outputs": [
    {
     "name": "stdout",
     "output_type": "stream",
     "text": [
      "tensor([[-30.5122],\n",
      "        [-30.5122]], device='cuda:0', grad_fn=<MulBackward0>)\n"
     ]
    }
   ],
   "source": [
    "\n",
    "# Inference\n",
    "out = engine.run_engine(['rnbqkbnr/pppp1ppp/4p3/8/4P3/8/PPPP1PPP/RNBQKBNR w KQkq - 0 2', 'rnbqkbnr/pppp1ppp/4p3/8/4P3/8/PPPP1PPP/RNBQKBNR w KQkq - 0 2'], loc) * 9999\n",
    "print(out)"
   ]
  },
  {
   "cell_type": "code",
   "execution_count": null,
   "metadata": {},
   "outputs": [],
   "source": []
  },
  {
   "cell_type": "code",
   "execution_count": null,
   "metadata": {},
   "outputs": [],
   "source": []
  },
  {
   "cell_type": "code",
   "execution_count": null,
   "metadata": {},
   "outputs": [],
   "source": []
  }
 ],
 "metadata": {
  "kernelspec": {
   "display_name": "AI_ENV",
   "language": "python",
   "name": "python3"
  },
  "language_info": {
   "codemirror_mode": {
    "name": "ipython",
    "version": 3
   },
   "file_extension": ".py",
   "mimetype": "text/x-python",
   "name": "python",
   "nbconvert_exporter": "python",
   "pygments_lexer": "ipython3",
   "version": "3.10.12"
  }
 },
 "nbformat": 4,
 "nbformat_minor": 2
}
