{
 "cells": [
  {
   "cell_type": "code",
   "execution_count": 1,
   "metadata": {},
   "outputs": [],
   "source": [
    "import pandas as pd\n",
    "import numpy as np\n",
    "import chess\n",
    "from sklearn.model_selection import train_test_split\n",
    "import joblib\n",
    "from ChessEngine import Engine\n",
    " "
   ]
  },
  {
   "cell_type": "code",
   "execution_count": 2,
   "metadata": {},
   "outputs": [
    {
     "name": "stdout",
     "output_type": "stream",
     "text": [
      "Size: 100000\n"
     ]
    }
   ],
   "source": [
    "df = pd.read_csv('/home/arjun/Desktop/Datasets/chessData.csv', nrows = 1000000)  # tot = 12,958,035\n",
    "print('Size:', len(df))\n",
    "test_df = df\n",
    "X = np.array(test_df.iloc[:,0])\n",
    "y = np.array(test_df.iloc[:,1])\n",
    "# dataset split\n",
    "X_train, X_test, y_train, y_test = train_test_split(X, y, test_size=0.1, shuffle=True)\n",
    "    "
   ]
  },
  {
   "cell_type": "code",
   "execution_count": 3,
   "metadata": {},
   "outputs": [],
   "source": [
    "board = chess.Board()\n",
    "engine = Engine(board)"
   ]
  },
  {
   "cell_type": "code",
   "execution_count": 4,
   "metadata": {},
   "outputs": [
    {
     "name": "stdout",
     "output_type": "stream",
     "text": [
      "Training model...\n",
      "Initialising...\n"
     ]
    },
    {
     "name": "stderr",
     "output_type": "stream",
     "text": [
      "/home/arjun/AI_ENV/lib/python3.10/site-packages/tqdm/auto.py:21: TqdmWarning: IProgress not found. Please update jupyter and ipywidgets. See https://ipywidgets.readthedocs.io/en/stable/user_install.html\n",
      "  from .autonotebook import tqdm as notebook_tqdm\n"
     ]
    },
    {
     "name": "stdout",
     "output_type": "stream",
     "text": [
      "torch.float32 torch.float32\n",
      "Training...\n",
      "Epoch: 1/100   Loss: 90.66246795654297\n",
      "Epoch: 2/100   Loss: 85.05168914794922\n",
      "Epoch: 3/100   Loss: 72.9264907836914\n",
      "Epoch: 4/100   Loss: 80.56375885009766\n",
      "Epoch: 5/100   Loss: 84.53398132324219\n",
      "Epoch: 6/100   Loss: 80.23025512695312\n",
      "Epoch: 7/100   Loss: 84.07978820800781\n",
      "Epoch: 8/100   Loss: 76.74897766113281\n",
      "Epoch: 9/100   Loss: 75.43316650390625\n",
      "Epoch: 10/100   Loss: 71.85536193847656\n",
      "Epoch: 11/100   Loss: 68.39509582519531\n",
      "Epoch: 12/100   Loss: 72.58100891113281\n",
      "Epoch: 13/100   Loss: 67.87922668457031\n",
      "Epoch: 14/100   Loss: 54.73130798339844\n",
      "Epoch: 15/100   Loss: 60.204410552978516\n",
      "Epoch: 16/100   Loss: 55.62849044799805\n",
      "Epoch: 17/100   Loss: 61.34291076660156\n",
      "Epoch: 18/100   Loss: 53.97052001953125\n",
      "Epoch: 19/100   Loss: 50.83488845825195\n",
      "Epoch: 20/100   Loss: 50.48925018310547\n",
      "Epoch: 21/100   Loss: 50.33766174316406\n",
      "Epoch: 22/100   Loss: 45.317848205566406\n",
      "Epoch: 23/100   Loss: 37.95052719116211\n",
      "Epoch: 24/100   Loss: 35.29954528808594\n",
      "Epoch: 25/100   Loss: 31.016252517700195\n",
      "Epoch: 26/100   Loss: 28.84726333618164\n",
      "Epoch: 27/100   Loss: 27.694284439086914\n",
      "Epoch: 28/100   Loss: 25.336902618408203\n",
      "Epoch: 29/100   Loss: 24.23044776916504\n",
      "Epoch: 30/100   Loss: 22.69550323486328\n",
      "Epoch: 31/100   Loss: 20.612302780151367\n",
      "Epoch: 32/100   Loss: 20.688400268554688\n",
      "Epoch: 33/100   Loss: 14.616924285888672\n",
      "Epoch: 34/100   Loss: 16.154191970825195\n",
      "Epoch: 35/100   Loss: 15.181916236877441\n",
      "Epoch: 36/100   Loss: 17.11337661743164\n",
      "Epoch: 37/100   Loss: 13.966353416442871\n",
      "Epoch: 38/100   Loss: 12.56902027130127\n",
      "Epoch: 39/100   Loss: 11.728961944580078\n",
      "Epoch: 40/100   Loss: 12.978951454162598\n",
      "Epoch: 41/100   Loss: 10.026214599609375\n",
      "Epoch: 42/100   Loss: 10.335554122924805\n",
      "Epoch: 43/100   Loss: 10.261507034301758\n",
      "Epoch: 44/100   Loss: 9.546284675598145\n",
      "Epoch: 45/100   Loss: 9.175626754760742\n",
      "Epoch: 46/100   Loss: 8.986345291137695\n",
      "Epoch: 47/100   Loss: 9.031764030456543\n",
      "Epoch: 48/100   Loss: 7.462940216064453\n",
      "Epoch: 49/100   Loss: 8.40357780456543\n",
      "Epoch: 50/100   Loss: 7.182255268096924\n",
      "Epoch: 51/100   Loss: 7.529901027679443\n",
      "Epoch: 52/100   Loss: 6.757997989654541\n",
      "Epoch: 53/100   Loss: 5.382190227508545\n",
      "Epoch: 54/100   Loss: 6.625823974609375\n",
      "Epoch: 55/100   Loss: 6.355928421020508\n",
      "Epoch: 56/100   Loss: 6.588369369506836\n",
      "Epoch: 57/100   Loss: 5.627493858337402\n",
      "Epoch: 58/100   Loss: 5.100900173187256\n",
      "Epoch: 59/100   Loss: 4.6310577392578125\n",
      "Epoch: 60/100   Loss: 5.954141139984131\n",
      "Epoch: 61/100   Loss: 5.3638916015625\n",
      "Epoch: 62/100   Loss: 4.729605674743652\n",
      "Epoch: 63/100   Loss: 4.579832553863525\n",
      "Epoch: 64/100   Loss: 4.67376708984375\n",
      "Epoch: 65/100   Loss: 4.671114921569824\n",
      "Epoch: 66/100   Loss: 4.360751628875732\n",
      "Epoch: 67/100   Loss: 3.913337230682373\n",
      "Epoch: 68/100   Loss: 3.5196073055267334\n",
      "Epoch: 69/100   Loss: 4.163633823394775\n",
      "Epoch: 70/100   Loss: 3.4040699005126953\n",
      "Epoch: 71/100   Loss: 3.59218430519104\n",
      "Epoch: 72/100   Loss: 3.698176860809326\n",
      "Epoch: 73/100   Loss: 3.3962461948394775\n",
      "Epoch: 74/100   Loss: 3.331069231033325\n",
      "Epoch: 75/100   Loss: 3.000990390777588\n",
      "Epoch: 76/100   Loss: 2.9304733276367188\n",
      "Epoch: 77/100   Loss: 3.002927541732788\n",
      "Epoch: 78/100   Loss: 2.7561399936676025\n",
      "Epoch: 79/100   Loss: 3.0640289783477783\n",
      "Epoch: 80/100   Loss: 2.6174471378326416\n",
      "Epoch: 81/100   Loss: 2.744281053543091\n",
      "Epoch: 82/100   Loss: 2.383970260620117\n",
      "Epoch: 83/100   Loss: 2.4130167961120605\n",
      "Epoch: 84/100   Loss: 2.478487014770508\n",
      "Epoch: 85/100   Loss: 2.742246627807617\n",
      "Epoch: 86/100   Loss: 2.2040059566497803\n",
      "Epoch: 87/100   Loss: 2.1649868488311768\n",
      "Epoch: 88/100   Loss: 2.7326505184173584\n",
      "Epoch: 89/100   Loss: 2.1929736137390137\n",
      "Epoch: 90/100   Loss: 2.0825600624084473\n",
      "Epoch: 91/100   Loss: 2.1660711765289307\n",
      "Epoch: 92/100   Loss: 2.323042154312134\n",
      "Epoch: 93/100   Loss: 2.087547779083252\n",
      "Epoch: 94/100   Loss: 1.9810521602630615\n",
      "Epoch: 95/100   Loss: 1.9979795217514038\n",
      "Epoch: 96/100   Loss: 1.8312000036239624\n",
      "Epoch: 97/100   Loss: 2.135580539703369\n",
      "Epoch: 98/100   Loss: 1.682485818862915\n",
      "Epoch: 99/100   Loss: 1.7188611030578613\n",
      "Epoch: 100/100   Loss: 1.770310878753662\n"
     ]
    },
    {
     "data": {
      "text/plain": [
       "['Model_saves/NewEncodingModel.joblib']"
      ]
     },
     "execution_count": 4,
     "metadata": {},
     "output_type": "execute_result"
    }
   ],
   "source": [
    "# # Training\n",
    "print(\"Training model...\")\n",
    "engine.train_chess_engine(X_train, y_train)\n",
    "\n",
    "# Loading previous model\n",
    "# engine.model = joblib.load('Model_saves/Chess100kModel.joblib')"
   ]
  },
  {
   "cell_type": "code",
   "execution_count": 7,
   "metadata": {},
   "outputs": [
    {
     "data": {
      "text/plain": [
       "['Model_saves/NewEncodingModel_100k_acc_60.joblib']"
      ]
     },
     "execution_count": 7,
     "metadata": {},
     "output_type": "execute_result"
    }
   ],
   "source": [
    "joblib.dump(engine.model, 'Model_saves/NewEncodingModel_100k_acc_60.joblib')"
   ]
  },
  {
   "cell_type": "code",
   "execution_count": 5,
   "metadata": {},
   "outputs": [
    {
     "name": "stdout",
     "output_type": "stream",
     "text": [
      "Train set\n"
     ]
    },
    {
     "name": "stderr",
     "output_type": "stream",
     "text": [
      "/home/arjun/Desktop/GitHub/AI-Chess/ChessEngine.py:166: UserWarning: Creating a tensor from a list of numpy.ndarrays is extremely slow. Please consider converting the list to a single numpy.ndarray with numpy.array() before converting to a tensor. (Triggered internally at ../torch/csrc/utils/tensor_new.cpp:261.)\n",
      "  X_encoded = torch.tensor([self.encode_fen(x) for x in X])\n"
     ]
    },
    {
     "name": "stdout",
     "output_type": "stream",
     "text": [
      "Score: 68958/90000, Accuracy: 76.62%\n",
      "Avg_loss 1.6429433081712987e-08\n",
      "\n",
      "Test set\n",
      "Score: 5884/10000, Accuracy: 58.84%\n",
      "Avg_loss 2.098387572914362e-07\n"
     ]
    }
   ],
   "source": [
    "# Accuracy\n",
    "print('Train set')\n",
    "engine.accuracy(X_train,y_train)\n",
    "print('\\nTest set')\n",
    "engine.accuracy(X_test,y_test)\n"
   ]
  },
  {
   "cell_type": "code",
   "execution_count": 6,
   "metadata": {},
   "outputs": [
    {
     "name": "stdout",
     "output_type": "stream",
     "text": [
      "tensor([[54.1460]], device='cuda:0', grad_fn=<MulBackward0>)\n"
     ]
    }
   ],
   "source": [
    "\n",
    "# Inference\n",
    "out = engine.run_engine(['rnbqkbnr/pppp1ppp/4p3/8/4P3/8/PPPP1PPP/RNBQKBNR w KQkq - 0 2']) * 9999\n",
    "print(out)"
   ]
  },
  {
   "cell_type": "code",
   "execution_count": null,
   "metadata": {},
   "outputs": [],
   "source": []
  },
  {
   "cell_type": "code",
   "execution_count": null,
   "metadata": {},
   "outputs": [],
   "source": []
  },
  {
   "cell_type": "code",
   "execution_count": null,
   "metadata": {},
   "outputs": [],
   "source": []
  }
 ],
 "metadata": {
  "kernelspec": {
   "display_name": "AI_ENV",
   "language": "python",
   "name": "python3"
  },
  "language_info": {
   "codemirror_mode": {
    "name": "ipython",
    "version": 3
   },
   "file_extension": ".py",
   "mimetype": "text/x-python",
   "name": "python",
   "nbconvert_exporter": "python",
   "pygments_lexer": "ipython3",
   "version": "3.10.12"
  }
 },
 "nbformat": 4,
 "nbformat_minor": 2
}
