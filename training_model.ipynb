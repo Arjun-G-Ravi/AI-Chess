{
 "cells": [
  {
   "cell_type": "code",
   "execution_count": 1,
   "metadata": {},
   "outputs": [],
   "source": [
    "import pandas as pd\n",
    "import numpy as np\n",
    "import chess\n",
    "from sklearn.model_selection import train_test_split\n",
    "import joblib\n",
    "from ChessEngine import Engine\n",
    " "
   ]
  },
  {
   "cell_type": "code",
   "execution_count": 2,
   "metadata": {},
   "outputs": [],
   "source": [
    "df = pd.read_csv('/home/arjun/Desktop/Datasets/chessData.csv',nrows=100000)\n",
    "test_df = df.iloc[:100000]\n",
    "X = np.array(test_df.iloc[:,0])\n",
    "y = np.array(test_df.iloc[:,1])\n",
    "# dataset split\n",
    "X_train, X_test, y_train, y_test = train_test_split(X, y, test_size=0.1, shuffle=True)\n",
    "    "
   ]
  },
  {
   "cell_type": "code",
   "execution_count": 3,
   "metadata": {},
   "outputs": [],
   "source": [
    "board = chess.Board()\n",
    "engine = Engine(board)"
   ]
  },
  {
   "cell_type": "code",
   "execution_count": 4,
   "metadata": {},
   "outputs": [
    {
     "name": "stdout",
     "output_type": "stream",
     "text": [
      "Training model...\n"
     ]
    },
    {
     "name": "stderr",
     "output_type": "stream",
     "text": [
      "/home/arjun/AI_ENV/lib/python3.10/site-packages/tqdm/auto.py:21: TqdmWarning: IProgress not found. Please update jupyter and ipywidgets. See https://ipywidgets.readthedocs.io/en/stable/user_install.html\n",
      "  from .autonotebook import tqdm as notebook_tqdm\n",
      "/home/arjun/Desktop/GitHub/AI-Chess/ChessEngine.py:109: UserWarning: Creating a tensor from a list of numpy.ndarrays is extremely slow. Please consider converting the list to a single numpy.ndarray with numpy.array() before converting to a tensor. (Triggered internally at ../torch/csrc/utils/tensor_new.cpp:261.)\n",
      "  X_encoded = torch.tensor([self.encode_fen(x) for x in X])\n"
     ]
    },
    {
     "name": "stdout",
     "output_type": "stream",
     "text": [
      "Epoch:1/100  Loss:0.011269773356616497\n",
      "Epoch:2/100  Loss:0.00927677657455206\n",
      "Epoch:3/100  Loss:0.008878299966454506\n",
      "Epoch:4/100  Loss:0.008627384901046753\n",
      "Epoch:5/100  Loss:0.009256241843104362\n",
      "Epoch:6/100  Loss:0.008690289221704006\n",
      "Epoch:7/100  Loss:0.00787183828651905\n",
      "Epoch:8/100  Loss:0.006659370381385088\n",
      "Epoch:9/100  Loss:0.007335958536714315\n",
      "Epoch:10/100  Loss:0.00741628697142005\n",
      "Epoch:11/100  Loss:0.00713010411709547\n",
      "Epoch:12/100  Loss:0.007269145920872688\n",
      "Epoch:13/100  Loss:0.007479384541511536\n",
      "Epoch:14/100  Loss:0.007233671378344297\n",
      "Epoch:15/100  Loss:0.00614122161641717\n",
      "Epoch:16/100  Loss:0.005096984561532736\n",
      "Epoch:17/100  Loss:0.006054936908185482\n",
      "Epoch:18/100  Loss:0.006626185495406389\n",
      "Epoch:19/100  Loss:0.005060461349785328\n",
      "Epoch:20/100  Loss:0.0064358641393482685\n",
      "Epoch:21/100  Loss:0.004585104528814554\n",
      "Epoch:22/100  Loss:0.004912158008664846\n",
      "Epoch:23/100  Loss:0.005355381406843662\n",
      "Epoch:24/100  Loss:0.004904103931039572\n",
      "Epoch:25/100  Loss:0.0038491045124828815\n",
      "Epoch:26/100  Loss:0.0036813460756093264\n",
      "Epoch:27/100  Loss:0.003763963934034109\n",
      "Epoch:28/100  Loss:0.003255837131291628\n",
      "Epoch:29/100  Loss:0.0032579528633505106\n",
      "Epoch:30/100  Loss:0.0027521238662302494\n",
      "Epoch:31/100  Loss:0.0025586809497326612\n",
      "Epoch:32/100  Loss:0.0024265609681606293\n",
      "Epoch:33/100  Loss:0.0023143552243709564\n",
      "Epoch:34/100  Loss:0.0017859515501186252\n",
      "Epoch:35/100  Loss:0.0022616691421717405\n",
      "Epoch:36/100  Loss:0.0017056275391951203\n",
      "Epoch:37/100  Loss:0.0018320262897759676\n",
      "Epoch:38/100  Loss:0.001650525606237352\n",
      "Epoch:39/100  Loss:0.0016891829436644912\n",
      "Epoch:40/100  Loss:0.0016187286237254739\n",
      "Epoch:41/100  Loss:0.0015312879113480449\n",
      "Epoch:42/100  Loss:0.0013881167396903038\n",
      "Epoch:43/100  Loss:0.001227120403200388\n",
      "Epoch:44/100  Loss:0.0011596784461289644\n",
      "Epoch:45/100  Loss:0.0010514191817492247\n",
      "Epoch:46/100  Loss:0.0010999662335962057\n",
      "Epoch:47/100  Loss:0.001021652715280652\n",
      "Epoch:48/100  Loss:0.000984272570349276\n",
      "Epoch:49/100  Loss:0.0010017596650868654\n",
      "Epoch:50/100  Loss:0.0009308671578764915\n",
      "Epoch:51/100  Loss:0.0008784368983469903\n",
      "Epoch:52/100  Loss:0.0007812061230652034\n",
      "Epoch:53/100  Loss:0.0007557961507700384\n",
      "Epoch:54/100  Loss:0.0007793934200890362\n",
      "Epoch:55/100  Loss:0.0007359783048741519\n",
      "Epoch:56/100  Loss:0.0006744692218489945\n",
      "Epoch:57/100  Loss:0.000581484695430845\n",
      "Epoch:58/100  Loss:0.0005365565302781761\n",
      "Epoch:59/100  Loss:0.0006298925145529211\n",
      "Epoch:60/100  Loss:0.0006859604618512094\n",
      "Epoch:61/100  Loss:0.000576435646507889\n",
      "Epoch:62/100  Loss:0.0005874944617971778\n",
      "Epoch:63/100  Loss:0.00047738751163706183\n",
      "Epoch:64/100  Loss:0.000582637672778219\n",
      "Epoch:65/100  Loss:0.0005102990544401109\n",
      "Epoch:66/100  Loss:0.0004780324816238135\n",
      "Epoch:67/100  Loss:0.0004721060977317393\n",
      "Epoch:68/100  Loss:0.0004207433667033911\n",
      "Epoch:69/100  Loss:0.0005207642097957432\n",
      "Epoch:70/100  Loss:0.0004386069194879383\n",
      "Epoch:71/100  Loss:0.00046584405936300755\n",
      "Epoch:72/100  Loss:0.00044865853851661086\n",
      "Epoch:73/100  Loss:0.0003765473375096917\n",
      "Epoch:74/100  Loss:0.0003985895018558949\n",
      "Epoch:75/100  Loss:0.0003259899967815727\n",
      "Epoch:76/100  Loss:0.0003615936147980392\n",
      "Epoch:77/100  Loss:0.0003537772863637656\n",
      "Epoch:78/100  Loss:0.0003012520610354841\n",
      "Epoch:79/100  Loss:0.00034678701194934547\n",
      "Epoch:80/100  Loss:0.0003326169971842319\n",
      "Epoch:81/100  Loss:0.0003132258716505021\n",
      "Epoch:82/100  Loss:0.0003378765832167119\n",
      "Epoch:83/100  Loss:0.00032382397330366075\n",
      "Epoch:84/100  Loss:0.0002497688983567059\n",
      "Epoch:85/100  Loss:0.00027233074069954455\n",
      "Epoch:86/100  Loss:0.00024136730644386262\n",
      "Epoch:87/100  Loss:0.00025452650152146816\n",
      "Epoch:88/100  Loss:0.00026705124764703214\n",
      "Epoch:89/100  Loss:0.00027188914828002453\n",
      "Epoch:90/100  Loss:0.0002179902803618461\n",
      "Epoch:91/100  Loss:0.00019790561054833233\n",
      "Epoch:92/100  Loss:0.00022225147404242307\n",
      "Epoch:93/100  Loss:0.0002117644326062873\n",
      "Epoch:94/100  Loss:0.00020909258455503732\n",
      "Epoch:95/100  Loss:0.00020090601174160838\n",
      "Epoch:96/100  Loss:0.0002337892510695383\n",
      "Epoch:97/100  Loss:0.00018946072668768466\n",
      "Epoch:98/100  Loss:0.00021043349988758564\n",
      "Epoch:99/100  Loss:0.0001758862636052072\n",
      "Epoch:100/100  Loss:0.00020869197032880038\n"
     ]
    },
    {
     "data": {
      "text/plain": [
       "['Model_saves/NewEncodingModel.joblib']"
      ]
     },
     "execution_count": 4,
     "metadata": {},
     "output_type": "execute_result"
    }
   ],
   "source": [
    "# # Training\n",
    "print(\"Training model...\")\n",
    "engine.train_chess_engine(X_train, y_train)\n",
    "\n",
    "# Loading previous model\n",
    "# engine.model = joblib.load('Model_saves/Chess100kModel.joblib')\n",
    "joblib.dump(engine.model, 'Model_saves/NewEncodingModel.joblib')\n"
   ]
  },
  {
   "cell_type": "code",
   "execution_count": 5,
   "metadata": {},
   "outputs": [
    {
     "name": "stdout",
     "output_type": "stream",
     "text": [
      "Train set\n",
      "Score: 67572/90000\n",
      "Avg_loss 1.891446558551656e-08\n",
      "\n",
      "Test set\n",
      "Score: 5749/10000\n",
      "Avg_loss 2.2265678271651267e-07\n"
     ]
    }
   ],
   "source": [
    "# Accuracy\n",
    "print('Train set')\n",
    "engine.accuracy(X_train,y_train)\n",
    "print('\\nTest set')\n",
    "engine.accuracy(X_test,y_test)\n"
   ]
  },
  {
   "cell_type": "code",
   "execution_count": 6,
   "metadata": {},
   "outputs": [
    {
     "name": "stdout",
     "output_type": "stream",
     "text": [
      "tensor([[74.0244]], device='cuda:0', grad_fn=<MulBackward0>)\n"
     ]
    }
   ],
   "source": [
    "\n",
    "# Inference\n",
    "out = engine.run_engine(['rnbqkbnr/pppp1ppp/4p3/8/4P3/8/PPPP1PPP/RNBQKBNR w KQkq - 0 2']) * 9999\n",
    "print(out)"
   ]
  },
  {
   "cell_type": "code",
   "execution_count": null,
   "metadata": {},
   "outputs": [],
   "source": []
  },
  {
   "cell_type": "code",
   "execution_count": null,
   "metadata": {},
   "outputs": [],
   "source": []
  },
  {
   "cell_type": "code",
   "execution_count": null,
   "metadata": {},
   "outputs": [],
   "source": []
  }
 ],
 "metadata": {
  "kernelspec": {
   "display_name": "AI_ENV",
   "language": "python",
   "name": "python3"
  },
  "language_info": {
   "codemirror_mode": {
    "name": "ipython",
    "version": 3
   },
   "file_extension": ".py",
   "mimetype": "text/x-python",
   "name": "python",
   "nbconvert_exporter": "python",
   "pygments_lexer": "ipython3",
   "version": "3.10.12"
  }
 },
 "nbformat": 4,
 "nbformat_minor": 2
}
