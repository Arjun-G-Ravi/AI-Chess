{
 "cells": [
  {
   "cell_type": "code",
   "execution_count": 1,
   "metadata": {},
   "outputs": [],
   "source": [
    "import pandas as pd\n",
    "import numpy as np\n",
    "import chess\n",
    "from sklearn.model_selection import train_test_split\n",
    "from ChessEngine import Engine\n",
    "import torch"
   ]
  },
  {
   "cell_type": "code",
   "execution_count": 2,
   "metadata": {},
   "outputs": [
    {
     "name": "stdout",
     "output_type": "stream",
     "text": [
      "Size: 100000\n"
     ]
    }
   ],
   "source": [
    "df = pd.read_csv('/home/arjun/Desktop/Datasets/chessData.csv', nrows = 100000)  # tot = 12,958,035\n",
    "print('Size:', len(df))\n",
    "test_df = df\n",
    "X = np.array(test_df.iloc[:,0])\n",
    "y = np.array(test_df.iloc[:,1])\n",
    "# dataset split\n",
    "X_train, X_test, y_train, y_test = train_test_split(X, y, test_size=0.1, shuffle=True)\n",
    "    "
   ]
  },
  {
   "cell_type": "code",
   "execution_count": 3,
   "metadata": {},
   "outputs": [],
   "source": [
    "board = chess.Board()\n",
    "engine = Engine(board)"
   ]
  },
  {
   "cell_type": "code",
   "execution_count": 4,
   "metadata": {},
   "outputs": [],
   "source": [
    "loc = 'Model_saves/ChessModel.pt'"
   ]
  },
  {
   "cell_type": "code",
   "execution_count": 5,
   "metadata": {},
   "outputs": [
    {
     "name": "stdout",
     "output_type": "stream",
     "text": [
      "Training model...\n",
      "Initialising...\n"
     ]
    },
    {
     "name": "stderr",
     "output_type": "stream",
     "text": [
      "/home/arjun/AI_ENV/lib/python3.10/site-packages/tqdm/auto.py:21: TqdmWarning: IProgress not found. Please update jupyter and ipywidgets. See https://ipywidgets.readthedocs.io/en/stable/user_install.html\n",
      "  from .autonotebook import tqdm as notebook_tqdm\n"
     ]
    },
    {
     "name": "stdout",
     "output_type": "stream",
     "text": [
      "Training...\n",
      "Epoch: 1/1000   Loss: 126.12584686279297\n",
      "Epoch: 2/1000   Loss: 87.04032135009766\n",
      "Epoch: 3/1000   Loss: 181.66281127929688\n",
      "Epoch: 4/1000   Loss: 89.17771911621094\n",
      "Epoch: 5/1000   Loss: 87.99939727783203\n",
      "Epoch: 6/1000   Loss: 91.30518341064453\n",
      "Epoch: 7/1000   Loss: 92.53522491455078\n",
      "Epoch: 8/1000   Loss: 92.27655792236328\n",
      "Epoch: 9/1000   Loss: 91.26818084716797\n",
      "Epoch: 10/1000   Loss: 89.9275131225586\n",
      "Epoch: 11/1000   Loss: 88.55011749267578\n",
      "Epoch: 12/1000   Loss: 87.41034698486328\n",
      "Epoch: 13/1000   Loss: 86.69916534423828\n",
      "Epoch: 14/1000   Loss: 86.49252319335938\n",
      "Epoch: 15/1000   Loss: 86.74057006835938\n",
      "Epoch: 16/1000   Loss: 87.22824096679688\n",
      "Epoch: 17/1000   Loss: 87.61131286621094\n",
      "Epoch: 18/1000   Loss: 87.69841766357422\n",
      "Epoch: 19/1000   Loss: 87.47772216796875\n",
      "Epoch: 20/1000   Loss: 87.10015106201172\n",
      "Epoch: 21/1000   Loss: 86.74152374267578\n",
      "Epoch: 22/1000   Loss: 86.5240478515625\n",
      "Epoch: 23/1000   Loss: 86.48724365234375\n",
      "Epoch: 24/1000   Loss: 86.59098052978516\n",
      "Epoch: 25/1000   Loss: 86.7372817993164\n",
      "Epoch: 26/1000   Loss: 86.8343505859375\n",
      "Epoch: 27/1000   Loss: 86.843505859375\n",
      "Epoch: 28/1000   Loss: 86.77108764648438\n",
      "Epoch: 29/1000   Loss: 86.65406799316406\n",
      "Epoch: 30/1000   Loss: 86.53771209716797\n",
      "Epoch: 31/1000   Loss: 86.45671081542969\n",
      "Epoch: 32/1000   Loss: 86.42437744140625\n",
      "Epoch: 33/1000   Loss: 86.43527221679688\n",
      "Epoch: 34/1000   Loss: 86.4636001586914\n",
      "Epoch: 35/1000   Loss: 86.4767074584961\n",
      "Epoch: 36/1000   Loss: 86.45682525634766\n",
      "Epoch: 37/1000   Loss: 86.40483856201172\n",
      "Epoch: 38/1000   Loss: 86.33370208740234\n",
      "Epoch: 39/1000   Loss: 86.25746154785156\n",
      "Epoch: 40/1000   Loss: 86.18043518066406\n",
      "Epoch: 41/1000   Loss: 86.10498809814453\n",
      "Epoch: 42/1000   Loss: 86.02862548828125\n",
      "Epoch: 43/1000   Loss: 85.93460845947266\n",
      "Epoch: 44/1000   Loss: 85.79381561279297\n",
      "Epoch: 45/1000   Loss: 85.58191680908203\n",
      "Epoch: 46/1000   Loss: 85.29816436767578\n",
      "Epoch: 47/1000   Loss: 84.96138000488281\n",
      "Epoch: 48/1000   Loss: 84.51699829101562\n",
      "Epoch: 49/1000   Loss: 83.9098892211914\n",
      "Epoch: 50/1000   Loss: 83.18733978271484\n",
      "Epoch: 51/1000   Loss: 82.34468078613281\n",
      "Epoch: 52/1000   Loss: 81.3042984008789\n",
      "Epoch: 53/1000   Loss: 79.97660827636719\n",
      "Epoch: 54/1000   Loss: 78.33079528808594\n",
      "Epoch: 55/1000   Loss: 76.42729949951172\n",
      "Epoch: 56/1000   Loss: 74.24372863769531\n",
      "Epoch: 57/1000   Loss: 71.52342224121094\n",
      "Epoch: 58/1000   Loss: 68.19284057617188\n",
      "Epoch: 59/1000   Loss: 64.37831115722656\n",
      "Epoch: 60/1000   Loss: 67.77721405029297\n",
      "Epoch: 61/1000   Loss: 82.64728546142578\n",
      "Epoch: 62/1000   Loss: 55.132991790771484\n",
      "Epoch: 63/1000   Loss: 71.81871032714844\n",
      "Epoch: 64/1000   Loss: 53.741024017333984\n",
      "Epoch: 65/1000   Loss: 55.90617752075195\n",
      "Epoch: 66/1000   Loss: 56.75142288208008\n",
      "Epoch: 67/1000   Loss: 44.95096969604492\n"
     ]
    }
   ],
   "source": [
    "# # Training\n",
    "print(\"Training model...\")\n",
    "engine.train_chess_engine(X_train, y_train)"
   ]
  },
  {
   "cell_type": "code",
   "execution_count": 6,
   "metadata": {},
   "outputs": [],
   "source": [
    "torch.save(engine.model,loc)"
   ]
  },
  {
   "cell_type": "code",
   "execution_count": 7,
   "metadata": {},
   "outputs": [
    {
     "ename": "SyntaxError",
     "evalue": "'break' outside loop (668683560.py, line 1)",
     "output_type": "error",
     "traceback": [
      "\u001b[0;36m  Cell \u001b[0;32mIn[7], line 1\u001b[0;36m\u001b[0m\n\u001b[0;31m    break\u001b[0m\n\u001b[0m    ^\u001b[0m\n\u001b[0;31mSyntaxError\u001b[0m\u001b[0;31m:\u001b[0m 'break' outside loop\n"
     ]
    }
   ],
   "source": [
    "break"
   ]
  },
  {
   "cell_type": "code",
   "execution_count": null,
   "metadata": {},
   "outputs": [],
   "source": [
    "engine.model = torch.load('Model_saves/ChessModel_60.pt')\n",
    "if engine.model: print(\"Loaded successfully\")\n",
    "else: raise Exception('ModelLoadingFailed') "
   ]
  },
  {
   "cell_type": "code",
   "execution_count": 8,
   "metadata": {},
   "outputs": [
    {
     "name": "stdout",
     "output_type": "stream",
     "text": [
      "Train set\n",
      "Score: 9028/90000, Accuracy: 10.03%\n",
      "Avg_loss 5.2641135536962086e-08\n",
      "\n",
      "Test set\n",
      "Score: 1060/10000, Accuracy: 10.60%\n",
      "Avg_loss 5.193420220166444e-07\n"
     ]
    }
   ],
   "source": [
    "# Accuracy\n",
    "print('Train set')\n",
    "engine.accuracy(X_train,y_train)\n",
    "print('\\nTest set')\n",
    "engine.accuracy(X_test,y_test)\n"
   ]
  },
  {
   "cell_type": "code",
   "execution_count": null,
   "metadata": {},
   "outputs": [],
   "source": [
    "# The current model has only 40% chance to get the correct answer within the error margin 100."
   ]
  },
  {
   "cell_type": "code",
   "execution_count": null,
   "metadata": {},
   "outputs": [],
   "source": []
  },
  {
   "cell_type": "code",
   "execution_count": null,
   "metadata": {},
   "outputs": [],
   "source": [
    "\n",
    "# Inference\n",
    "out = engine.run_engine(['rnbqkbnr/pppp1ppp/4p3/8/4P3/8/PPPP1PPP/RNBQKBNR w KQkq - 0 2', 'rnbqkbnr/pppp1ppp/4p3/8/4P3/8/PPPP1PPP/RNBQKBNR w KQkq - 0 2'], loc) * 9999\n",
    "print(out)"
   ]
  },
  {
   "cell_type": "code",
   "execution_count": null,
   "metadata": {},
   "outputs": [],
   "source": []
  },
  {
   "cell_type": "code",
   "execution_count": null,
   "metadata": {},
   "outputs": [],
   "source": []
  },
  {
   "cell_type": "code",
   "execution_count": null,
   "metadata": {},
   "outputs": [],
   "source": []
  }
 ],
 "metadata": {
  "kernelspec": {
   "display_name": "AI_ENV",
   "language": "python",
   "name": "python3"
  },
  "language_info": {
   "codemirror_mode": {
    "name": "ipython",
    "version": 3
   },
   "file_extension": ".py",
   "mimetype": "text/x-python",
   "name": "python",
   "nbconvert_exporter": "python",
   "pygments_lexer": "ipython3",
   "version": "3.10.12"
  }
 },
 "nbformat": 4,
 "nbformat_minor": 2
}
