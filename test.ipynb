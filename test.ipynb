{
 "cells": [
  {
   "cell_type": "code",
   "execution_count": 1,
   "metadata": {},
   "outputs": [
    {
     "name": "stdout",
     "output_type": "stream",
     "text": [
      "I will play: g8f6\n",
      "\n",
      "r n b q k b . r\n",
      "p p p p p p p p\n",
      ". . . . . n . .\n",
      ". . . . . . . .\n",
      ". . . . P . . .\n",
      ". . . . . . . .\n",
      "P P P P . P P P\n",
      "R N B Q K B N R\n",
      "I will play: f6d5\n",
      "\n",
      "r n b q k b . r\n",
      "p p p p p p p p\n",
      ". . . . . . . .\n",
      ". . . n P . . .\n",
      ". . . . . . . .\n",
      ". . . . . . . .\n",
      "P P P P . P P P\n",
      "R N B Q K B N R\n",
      "I will play: e7e6\n",
      "\n",
      "r n b q k b . r\n",
      "p p p p . p p p\n",
      ". . . . p . . .\n",
      ". . . n P . . .\n",
      ". . . . . . . .\n",
      ". . . . . N . .\n",
      "P P P P . P P P\n",
      "R N B Q K B . R\n",
      "Move is invalid\n",
      "Move is invalid\n",
      "Move is invalid\n",
      "Move is invalid\n",
      "Move is invalid\n",
      "Move is invalid\n",
      "Move is invalid\n",
      "Move is invalid\n",
      "Move is invalid\n",
      "Move is invalid\n"
     ]
    }
   ],
   "source": [
    "import chessAI"
   ]
  }
 ],
 "metadata": {
  "kernelspec": {
   "display_name": "NewPytorchEnv",
   "language": "python",
   "name": "python3"
  },
  "language_info": {
   "codemirror_mode": {
    "name": "ipython",
    "version": 3
   },
   "file_extension": ".py",
   "mimetype": "text/x-python",
   "name": "python",
   "nbconvert_exporter": "python",
   "pygments_lexer": "ipython3",
   "version": "3.10.12"
  },
  "orig_nbformat": 4
 },
 "nbformat": 4,
 "nbformat_minor": 2
}
